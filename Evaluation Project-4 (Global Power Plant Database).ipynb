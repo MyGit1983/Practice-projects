{
 "cells": [
  {
   "cell_type": "code",
   "execution_count": 236,
   "id": "16d895b4",
   "metadata": {},
   "outputs": [],
   "source": [
    "#Importing the Dependencies\n",
    "import pandas as pd\n",
    "import numpy as np\n",
    "import matplotlib.pyplot as plt\n",
    "import seaborn as sns\n",
    "\n",
    "from sklearn.preprocessing import LabelEncoder\n",
    "from sklearn.model_selection import train_test_split\n",
    "from sklearn import metrics\n",
    "\n",
    "import warnings\n",
    "warnings.filterwarnings('ignore')"
   ]
  },
  {
   "cell_type": "markdown",
   "id": "b7641fe8",
   "metadata": {},
   "source": [
    "# Data Collection and Processing"
   ]
  },
  {
   "cell_type": "code",
   "execution_count": 237,
   "id": "188046f5",
   "metadata": {
    "scrolled": true
   },
   "outputs": [
    {
     "data": {
      "text/html": [
       "<div>\n",
       "<style scoped>\n",
       "    .dataframe tbody tr th:only-of-type {\n",
       "        vertical-align: middle;\n",
       "    }\n",
       "\n",
       "    .dataframe tbody tr th {\n",
       "        vertical-align: top;\n",
       "    }\n",
       "\n",
       "    .dataframe thead th {\n",
       "        text-align: right;\n",
       "    }\n",
       "</style>\n",
       "<table border=\"1\" class=\"dataframe\">\n",
       "  <thead>\n",
       "    <tr style=\"text-align: right;\">\n",
       "      <th></th>\n",
       "      <th>country</th>\n",
       "      <th>country_long</th>\n",
       "      <th>name</th>\n",
       "      <th>gppd_idnr</th>\n",
       "      <th>capacity_mw</th>\n",
       "      <th>latitude</th>\n",
       "      <th>longitude</th>\n",
       "      <th>primary_fuel</th>\n",
       "      <th>other_fuel1</th>\n",
       "      <th>other_fuel2</th>\n",
       "      <th>...</th>\n",
       "      <th>geolocation_source</th>\n",
       "      <th>wepp_id</th>\n",
       "      <th>year_of_capacity_data</th>\n",
       "      <th>generation_gwh_2013</th>\n",
       "      <th>generation_gwh_2014</th>\n",
       "      <th>generation_gwh_2015</th>\n",
       "      <th>generation_gwh_2016</th>\n",
       "      <th>generation_gwh_2017</th>\n",
       "      <th>generation_data_source</th>\n",
       "      <th>estimated_generation_gwh</th>\n",
       "    </tr>\n",
       "  </thead>\n",
       "  <tbody>\n",
       "    <tr>\n",
       "      <th>0</th>\n",
       "      <td>IND</td>\n",
       "      <td>India</td>\n",
       "      <td>ACME Solar Tower</td>\n",
       "      <td>WRI1020239</td>\n",
       "      <td>2.5</td>\n",
       "      <td>28.1839</td>\n",
       "      <td>73.2407</td>\n",
       "      <td>Solar</td>\n",
       "      <td>NaN</td>\n",
       "      <td>NaN</td>\n",
       "      <td>...</td>\n",
       "      <td>National Renewable Energy Laboratory</td>\n",
       "      <td>NaN</td>\n",
       "      <td>NaN</td>\n",
       "      <td>NaN</td>\n",
       "      <td>NaN</td>\n",
       "      <td>NaN</td>\n",
       "      <td>NaN</td>\n",
       "      <td>NaN</td>\n",
       "      <td>NaN</td>\n",
       "      <td>NaN</td>\n",
       "    </tr>\n",
       "    <tr>\n",
       "      <th>1</th>\n",
       "      <td>IND</td>\n",
       "      <td>India</td>\n",
       "      <td>ADITYA CEMENT WORKS</td>\n",
       "      <td>WRI1019881</td>\n",
       "      <td>98.0</td>\n",
       "      <td>24.7663</td>\n",
       "      <td>74.6090</td>\n",
       "      <td>Coal</td>\n",
       "      <td>NaN</td>\n",
       "      <td>NaN</td>\n",
       "      <td>...</td>\n",
       "      <td>WRI</td>\n",
       "      <td>NaN</td>\n",
       "      <td>NaN</td>\n",
       "      <td>NaN</td>\n",
       "      <td>NaN</td>\n",
       "      <td>NaN</td>\n",
       "      <td>NaN</td>\n",
       "      <td>NaN</td>\n",
       "      <td>NaN</td>\n",
       "      <td>NaN</td>\n",
       "    </tr>\n",
       "    <tr>\n",
       "      <th>2</th>\n",
       "      <td>IND</td>\n",
       "      <td>India</td>\n",
       "      <td>AES Saurashtra Windfarms</td>\n",
       "      <td>WRI1026669</td>\n",
       "      <td>39.2</td>\n",
       "      <td>21.9038</td>\n",
       "      <td>69.3732</td>\n",
       "      <td>Wind</td>\n",
       "      <td>NaN</td>\n",
       "      <td>NaN</td>\n",
       "      <td>...</td>\n",
       "      <td>WRI</td>\n",
       "      <td>NaN</td>\n",
       "      <td>NaN</td>\n",
       "      <td>NaN</td>\n",
       "      <td>NaN</td>\n",
       "      <td>NaN</td>\n",
       "      <td>NaN</td>\n",
       "      <td>NaN</td>\n",
       "      <td>NaN</td>\n",
       "      <td>NaN</td>\n",
       "    </tr>\n",
       "    <tr>\n",
       "      <th>3</th>\n",
       "      <td>IND</td>\n",
       "      <td>India</td>\n",
       "      <td>AGARTALA GT</td>\n",
       "      <td>IND0000001</td>\n",
       "      <td>135.0</td>\n",
       "      <td>23.8712</td>\n",
       "      <td>91.3602</td>\n",
       "      <td>Gas</td>\n",
       "      <td>NaN</td>\n",
       "      <td>NaN</td>\n",
       "      <td>...</td>\n",
       "      <td>WRI</td>\n",
       "      <td>NaN</td>\n",
       "      <td>2018.0</td>\n",
       "      <td>631.777928</td>\n",
       "      <td>617.789264</td>\n",
       "      <td>843.747</td>\n",
       "      <td>886.004428</td>\n",
       "      <td>663.774500</td>\n",
       "      <td>Central Electricity Authority</td>\n",
       "      <td>NaN</td>\n",
       "    </tr>\n",
       "    <tr>\n",
       "      <th>4</th>\n",
       "      <td>IND</td>\n",
       "      <td>India</td>\n",
       "      <td>AKALTARA TPP</td>\n",
       "      <td>IND0000002</td>\n",
       "      <td>1800.0</td>\n",
       "      <td>21.9603</td>\n",
       "      <td>82.4091</td>\n",
       "      <td>Coal</td>\n",
       "      <td>Oil</td>\n",
       "      <td>NaN</td>\n",
       "      <td>...</td>\n",
       "      <td>WRI</td>\n",
       "      <td>NaN</td>\n",
       "      <td>2018.0</td>\n",
       "      <td>1668.290000</td>\n",
       "      <td>3035.550000</td>\n",
       "      <td>5916.370</td>\n",
       "      <td>6243.000000</td>\n",
       "      <td>5385.579736</td>\n",
       "      <td>Central Electricity Authority</td>\n",
       "      <td>NaN</td>\n",
       "    </tr>\n",
       "  </tbody>\n",
       "</table>\n",
       "<p>5 rows × 25 columns</p>\n",
       "</div>"
      ],
      "text/plain": [
       "  country country_long                      name   gppd_idnr  capacity_mw  \\\n",
       "0     IND        India          ACME Solar Tower  WRI1020239          2.5   \n",
       "1     IND        India       ADITYA CEMENT WORKS  WRI1019881         98.0   \n",
       "2     IND        India  AES Saurashtra Windfarms  WRI1026669         39.2   \n",
       "3     IND        India               AGARTALA GT  IND0000001        135.0   \n",
       "4     IND        India              AKALTARA TPP  IND0000002       1800.0   \n",
       "\n",
       "   latitude  longitude primary_fuel other_fuel1 other_fuel2  ...  \\\n",
       "0   28.1839    73.2407        Solar         NaN         NaN  ...   \n",
       "1   24.7663    74.6090         Coal         NaN         NaN  ...   \n",
       "2   21.9038    69.3732         Wind         NaN         NaN  ...   \n",
       "3   23.8712    91.3602          Gas         NaN         NaN  ...   \n",
       "4   21.9603    82.4091         Coal         Oil         NaN  ...   \n",
       "\n",
       "                     geolocation_source  wepp_id year_of_capacity_data  \\\n",
       "0  National Renewable Energy Laboratory      NaN                   NaN   \n",
       "1                                   WRI      NaN                   NaN   \n",
       "2                                   WRI      NaN                   NaN   \n",
       "3                                   WRI      NaN                2018.0   \n",
       "4                                   WRI      NaN                2018.0   \n",
       "\n",
       "  generation_gwh_2013 generation_gwh_2014 generation_gwh_2015  \\\n",
       "0                 NaN                 NaN                 NaN   \n",
       "1                 NaN                 NaN                 NaN   \n",
       "2                 NaN                 NaN                 NaN   \n",
       "3          631.777928          617.789264             843.747   \n",
       "4         1668.290000         3035.550000            5916.370   \n",
       "\n",
       "   generation_gwh_2016  generation_gwh_2017         generation_data_source  \\\n",
       "0                  NaN                  NaN                            NaN   \n",
       "1                  NaN                  NaN                            NaN   \n",
       "2                  NaN                  NaN                            NaN   \n",
       "3           886.004428           663.774500  Central Electricity Authority   \n",
       "4          6243.000000          5385.579736  Central Electricity Authority   \n",
       "\n",
       "   estimated_generation_gwh  \n",
       "0                       NaN  \n",
       "1                       NaN  \n",
       "2                       NaN  \n",
       "3                       NaN  \n",
       "4                       NaN  \n",
       "\n",
       "[5 rows x 25 columns]"
      ]
     },
     "execution_count": 237,
     "metadata": {},
     "output_type": "execute_result"
    }
   ],
   "source": [
    "#Loading the dataset and print\n",
    "df= pd.read_csv('database_IND.csv')\n",
    "df.head()"
   ]
  },
  {
   "cell_type": "markdown",
   "id": "030d724d",
   "metadata": {},
   "source": [
    "Two Prediction are in this dataset one is capacity_mw, and other is primary_fuel."
   ]
  },
  {
   "cell_type": "code",
   "execution_count": 238,
   "id": "298f9967",
   "metadata": {},
   "outputs": [
    {
     "data": {
      "text/plain": [
       "(908, 25)"
      ]
     },
     "execution_count": 238,
     "metadata": {},
     "output_type": "execute_result"
    }
   ],
   "source": [
    "#No of Rows and Columns\n",
    "df.shape"
   ]
  },
  {
   "cell_type": "markdown",
   "id": "912456dd",
   "metadata": {},
   "source": [
    "In this data set 908 rows and 25 rows."
   ]
  },
  {
   "cell_type": "code",
   "execution_count": 239,
   "id": "12984f87",
   "metadata": {},
   "outputs": [
    {
     "name": "stdout",
     "output_type": "stream",
     "text": [
      "<class 'pandas.core.frame.DataFrame'>\n",
      "RangeIndex: 908 entries, 0 to 907\n",
      "Data columns (total 25 columns):\n",
      " #   Column                    Non-Null Count  Dtype  \n",
      "---  ------                    --------------  -----  \n",
      " 0   country                   908 non-null    object \n",
      " 1   country_long              908 non-null    object \n",
      " 2   name                      908 non-null    object \n",
      " 3   gppd_idnr                 908 non-null    object \n",
      " 4   capacity_mw               908 non-null    float64\n",
      " 5   latitude                  862 non-null    float64\n",
      " 6   longitude                 862 non-null    float64\n",
      " 7   primary_fuel              908 non-null    object \n",
      " 8   other_fuel1               199 non-null    object \n",
      " 9   other_fuel2               1 non-null      object \n",
      " 10  other_fuel3               0 non-null      float64\n",
      " 11  commissioning_year        528 non-null    float64\n",
      " 12  owner                     342 non-null    object \n",
      " 13  source                    908 non-null    object \n",
      " 14  url                       908 non-null    object \n",
      " 15  geolocation_source        889 non-null    object \n",
      " 16  wepp_id                   0 non-null      float64\n",
      " 17  year_of_capacity_data     520 non-null    float64\n",
      " 18  generation_gwh_2013       384 non-null    float64\n",
      " 19  generation_gwh_2014       401 non-null    float64\n",
      " 20  generation_gwh_2015       425 non-null    float64\n",
      " 21  generation_gwh_2016       437 non-null    float64\n",
      " 22  generation_gwh_2017       443 non-null    float64\n",
      " 23  generation_data_source    450 non-null    object \n",
      " 24  estimated_generation_gwh  0 non-null      float64\n",
      "dtypes: float64(13), object(12)\n",
      "memory usage: 177.5+ KB\n"
     ]
    }
   ],
   "source": [
    "df.info()"
   ]
  },
  {
   "cell_type": "code",
   "execution_count": 240,
   "id": "b014126f",
   "metadata": {},
   "outputs": [
    {
     "data": {
      "text/plain": [
       "country                       0\n",
       "country_long                  0\n",
       "name                          0\n",
       "gppd_idnr                     0\n",
       "capacity_mw                   0\n",
       "latitude                     46\n",
       "longitude                    46\n",
       "primary_fuel                  0\n",
       "other_fuel1                 709\n",
       "other_fuel2                 907\n",
       "other_fuel3                 908\n",
       "commissioning_year          380\n",
       "owner                       566\n",
       "source                        0\n",
       "url                           0\n",
       "geolocation_source           19\n",
       "wepp_id                     908\n",
       "year_of_capacity_data       388\n",
       "generation_gwh_2013         524\n",
       "generation_gwh_2014         507\n",
       "generation_gwh_2015         483\n",
       "generation_gwh_2016         471\n",
       "generation_gwh_2017         465\n",
       "generation_data_source      458\n",
       "estimated_generation_gwh    908\n",
       "dtype: int64"
      ]
     },
     "execution_count": 240,
     "metadata": {},
     "output_type": "execute_result"
    }
   ],
   "source": [
    "#No. of missing values in each column\n",
    "df.isnull().sum()"
   ]
  },
  {
   "cell_type": "markdown",
   "id": "b99e4121",
   "metadata": {},
   "source": [
    "So many missing values are there.Have to drop many columns like country, other_fuel1,other_fuel2,other_fuel3,commissioning_year,owner,url,wepp_id,year_of_capacity_data,generation_gwh_2013,generation_gwh_2014,generation_gwh_2015,generation_gwh_2016,generation_gwh_2017,generation_data_source,estimated_generation_gwh,axis=1"
   ]
  },
  {
   "cell_type": "code",
   "execution_count": 241,
   "id": "8bac36a7",
   "metadata": {},
   "outputs": [
    {
     "data": {
      "text/html": [
       "<div>\n",
       "<style scoped>\n",
       "    .dataframe tbody tr th:only-of-type {\n",
       "        vertical-align: middle;\n",
       "    }\n",
       "\n",
       "    .dataframe tbody tr th {\n",
       "        vertical-align: top;\n",
       "    }\n",
       "\n",
       "    .dataframe thead th {\n",
       "        text-align: right;\n",
       "    }\n",
       "</style>\n",
       "<table border=\"1\" class=\"dataframe\">\n",
       "  <thead>\n",
       "    <tr style=\"text-align: right;\">\n",
       "      <th></th>\n",
       "      <th>country_long</th>\n",
       "      <th>name</th>\n",
       "      <th>gppd_idnr</th>\n",
       "      <th>capacity_mw</th>\n",
       "      <th>latitude</th>\n",
       "      <th>longitude</th>\n",
       "      <th>primary_fuel</th>\n",
       "      <th>source</th>\n",
       "      <th>geolocation_source</th>\n",
       "    </tr>\n",
       "  </thead>\n",
       "  <tbody>\n",
       "    <tr>\n",
       "      <th>0</th>\n",
       "      <td>India</td>\n",
       "      <td>ACME Solar Tower</td>\n",
       "      <td>WRI1020239</td>\n",
       "      <td>2.5</td>\n",
       "      <td>28.1839</td>\n",
       "      <td>73.2407</td>\n",
       "      <td>Solar</td>\n",
       "      <td>National Renewable Energy Laboratory</td>\n",
       "      <td>National Renewable Energy Laboratory</td>\n",
       "    </tr>\n",
       "    <tr>\n",
       "      <th>1</th>\n",
       "      <td>India</td>\n",
       "      <td>ADITYA CEMENT WORKS</td>\n",
       "      <td>WRI1019881</td>\n",
       "      <td>98.0</td>\n",
       "      <td>24.7663</td>\n",
       "      <td>74.6090</td>\n",
       "      <td>Coal</td>\n",
       "      <td>Ultratech Cement ltd</td>\n",
       "      <td>WRI</td>\n",
       "    </tr>\n",
       "    <tr>\n",
       "      <th>2</th>\n",
       "      <td>India</td>\n",
       "      <td>AES Saurashtra Windfarms</td>\n",
       "      <td>WRI1026669</td>\n",
       "      <td>39.2</td>\n",
       "      <td>21.9038</td>\n",
       "      <td>69.3732</td>\n",
       "      <td>Wind</td>\n",
       "      <td>CDM</td>\n",
       "      <td>WRI</td>\n",
       "    </tr>\n",
       "    <tr>\n",
       "      <th>3</th>\n",
       "      <td>India</td>\n",
       "      <td>AGARTALA GT</td>\n",
       "      <td>IND0000001</td>\n",
       "      <td>135.0</td>\n",
       "      <td>23.8712</td>\n",
       "      <td>91.3602</td>\n",
       "      <td>Gas</td>\n",
       "      <td>Central Electricity Authority</td>\n",
       "      <td>WRI</td>\n",
       "    </tr>\n",
       "    <tr>\n",
       "      <th>4</th>\n",
       "      <td>India</td>\n",
       "      <td>AKALTARA TPP</td>\n",
       "      <td>IND0000002</td>\n",
       "      <td>1800.0</td>\n",
       "      <td>21.9603</td>\n",
       "      <td>82.4091</td>\n",
       "      <td>Coal</td>\n",
       "      <td>Central Electricity Authority</td>\n",
       "      <td>WRI</td>\n",
       "    </tr>\n",
       "  </tbody>\n",
       "</table>\n",
       "</div>"
      ],
      "text/plain": [
       "  country_long                      name   gppd_idnr  capacity_mw  latitude  \\\n",
       "0        India          ACME Solar Tower  WRI1020239          2.5   28.1839   \n",
       "1        India       ADITYA CEMENT WORKS  WRI1019881         98.0   24.7663   \n",
       "2        India  AES Saurashtra Windfarms  WRI1026669         39.2   21.9038   \n",
       "3        India               AGARTALA GT  IND0000001        135.0   23.8712   \n",
       "4        India              AKALTARA TPP  IND0000002       1800.0   21.9603   \n",
       "\n",
       "   longitude primary_fuel                                source  \\\n",
       "0    73.2407        Solar  National Renewable Energy Laboratory   \n",
       "1    74.6090         Coal                  Ultratech Cement ltd   \n",
       "2    69.3732         Wind                                   CDM   \n",
       "3    91.3602          Gas         Central Electricity Authority   \n",
       "4    82.4091         Coal         Central Electricity Authority   \n",
       "\n",
       "                     geolocation_source  \n",
       "0  National Renewable Energy Laboratory  \n",
       "1                                   WRI  \n",
       "2                                   WRI  \n",
       "3                                   WRI  \n",
       "4                                   WRI  "
      ]
     },
     "execution_count": 241,
     "metadata": {},
     "output_type": "execute_result"
    }
   ],
   "source": [
    "df=df.drop(['country','other_fuel1','other_fuel2','other_fuel3','commissioning_year','owner','url','wepp_id','year_of_capacity_data','generation_gwh_2013','generation_gwh_2014','generation_gwh_2015','generation_gwh_2016','generation_gwh_2017','generation_data_source','estimated_generation_gwh'],axis=1)\n",
    "df.head()"
   ]
  },
  {
   "cell_type": "code",
   "execution_count": 242,
   "id": "b1d61943",
   "metadata": {},
   "outputs": [
    {
     "data": {
      "text/plain": [
       "(908, 9)"
      ]
     },
     "execution_count": 242,
     "metadata": {},
     "output_type": "execute_result"
    }
   ],
   "source": [
    "df.shape"
   ]
  },
  {
   "cell_type": "code",
   "execution_count": 243,
   "id": "4a241c95",
   "metadata": {},
   "outputs": [
    {
     "data": {
      "text/plain": [
       "country_long           0\n",
       "name                   0\n",
       "gppd_idnr              0\n",
       "capacity_mw            0\n",
       "latitude              46\n",
       "longitude             46\n",
       "primary_fuel           0\n",
       "source                 0\n",
       "geolocation_source    19\n",
       "dtype: int64"
      ]
     },
     "execution_count": 243,
     "metadata": {},
     "output_type": "execute_result"
    }
   ],
   "source": [
    "df.isnull().sum()"
   ]
  },
  {
   "cell_type": "markdown",
   "id": "60d42097",
   "metadata": {},
   "source": [
    "# Treating missing values"
   ]
  },
  {
   "cell_type": "code",
   "execution_count": 244,
   "id": "ae4ffd86",
   "metadata": {},
   "outputs": [],
   "source": [
    "df['latitude']=df['latitude'].fillna(df['latitude'].mean())"
   ]
  },
  {
   "cell_type": "code",
   "execution_count": 245,
   "id": "d7b5f2e2",
   "metadata": {},
   "outputs": [],
   "source": [
    "df['longitude']=df['longitude'].fillna(df['longitude'].mean())"
   ]
  },
  {
   "cell_type": "code",
   "execution_count": 246,
   "id": "a61639b4",
   "metadata": {},
   "outputs": [],
   "source": [
    "df['geolocation_source']=df['geolocation_source'].fillna(df['geolocation_source'].mode()[0])"
   ]
  },
  {
   "cell_type": "code",
   "execution_count": 247,
   "id": "40e8cefe",
   "metadata": {},
   "outputs": [
    {
     "data": {
      "text/plain": [
       "country_long          0\n",
       "name                  0\n",
       "gppd_idnr             0\n",
       "capacity_mw           0\n",
       "latitude              0\n",
       "longitude             0\n",
       "primary_fuel          0\n",
       "source                0\n",
       "geolocation_source    0\n",
       "dtype: int64"
      ]
     },
     "execution_count": 247,
     "metadata": {},
     "output_type": "execute_result"
    }
   ],
   "source": [
    "df.isnull().sum()"
   ]
  },
  {
   "cell_type": "code",
   "execution_count": 248,
   "id": "fc25ba75",
   "metadata": {},
   "outputs": [
    {
     "data": {
      "text/plain": [
       "India    908\n",
       "Name: country_long, dtype: int64"
      ]
     },
     "execution_count": 248,
     "metadata": {},
     "output_type": "execute_result"
    }
   ],
   "source": [
    "df['country_long'].value_counts()"
   ]
  },
  {
   "cell_type": "code",
   "execution_count": 249,
   "id": "9196a517",
   "metadata": {},
   "outputs": [
    {
     "data": {
      "text/plain": [
       "Coal       259\n",
       "Hydro      250\n",
       "Solar      127\n",
       "Wind       123\n",
       "Gas         69\n",
       "Biomass     50\n",
       "Oil         21\n",
       "Nuclear      9\n",
       "Name: primary_fuel, dtype: int64"
      ]
     },
     "execution_count": 249,
     "metadata": {},
     "output_type": "execute_result"
    }
   ],
   "source": [
    "df['primary_fuel'].value_counts()"
   ]
  },
  {
   "cell_type": "code",
   "execution_count": 250,
   "id": "1d2d6308",
   "metadata": {},
   "outputs": [
    {
     "data": {
      "text/plain": [
       "MOHARA                        1\n",
       "Sakri 1B Solar Power Plant    1\n",
       "BOKARO A ''EXP''              1\n",
       "PANKI                         1\n",
       "SIMHADRI                      1\n",
       "                             ..\n",
       "BHANDARA VARAM                1\n",
       "TVS Kunnur Wind Farm          1\n",
       "PONG                          1\n",
       "BELLARY JANKI                 1\n",
       "PAINAMPURAM                   1\n",
       "Name: name, Length: 908, dtype: int64"
      ]
     },
     "execution_count": 250,
     "metadata": {},
     "output_type": "execute_result"
    }
   ],
   "source": [
    "df['name'].value_counts()"
   ]
  },
  {
   "cell_type": "code",
   "execution_count": 251,
   "id": "914936d9",
   "metadata": {},
   "outputs": [
    {
     "data": {
      "text/plain": [
       "country_long           object\n",
       "name                   object\n",
       "gppd_idnr              object\n",
       "capacity_mw           float64\n",
       "latitude              float64\n",
       "longitude             float64\n",
       "primary_fuel           object\n",
       "source                 object\n",
       "geolocation_source     object\n",
       "dtype: object"
      ]
     },
     "execution_count": 251,
     "metadata": {},
     "output_type": "execute_result"
    }
   ],
   "source": [
    "df.dtypes"
   ]
  },
  {
   "cell_type": "code",
   "execution_count": 252,
   "id": "42ea20ac",
   "metadata": {},
   "outputs": [
    {
     "data": {
      "text/plain": [
       "Index(['country_long', 'name', 'gppd_idnr', 'capacity_mw', 'latitude',\n",
       "       'longitude', 'primary_fuel', 'source', 'geolocation_source'],\n",
       "      dtype='object')"
      ]
     },
     "execution_count": 252,
     "metadata": {},
     "output_type": "execute_result"
    }
   ],
   "source": [
    "df.columns"
   ]
  },
  {
   "cell_type": "code",
   "execution_count": 253,
   "id": "fc6388ad",
   "metadata": {},
   "outputs": [
    {
     "data": {
      "text/html": [
       "<div>\n",
       "<style scoped>\n",
       "    .dataframe tbody tr th:only-of-type {\n",
       "        vertical-align: middle;\n",
       "    }\n",
       "\n",
       "    .dataframe tbody tr th {\n",
       "        vertical-align: top;\n",
       "    }\n",
       "\n",
       "    .dataframe thead th {\n",
       "        text-align: right;\n",
       "    }\n",
       "</style>\n",
       "<table border=\"1\" class=\"dataframe\">\n",
       "  <thead>\n",
       "    <tr style=\"text-align: right;\">\n",
       "      <th></th>\n",
       "      <th>capacity_mw</th>\n",
       "      <th>latitude</th>\n",
       "      <th>longitude</th>\n",
       "    </tr>\n",
       "  </thead>\n",
       "  <tbody>\n",
       "    <tr>\n",
       "      <th>count</th>\n",
       "      <td>908.000000</td>\n",
       "      <td>908.000000</td>\n",
       "      <td>908.000000</td>\n",
       "    </tr>\n",
       "    <tr>\n",
       "      <th>mean</th>\n",
       "      <td>321.046378</td>\n",
       "      <td>21.196189</td>\n",
       "      <td>77.447848</td>\n",
       "    </tr>\n",
       "    <tr>\n",
       "      <th>std</th>\n",
       "      <td>580.221767</td>\n",
       "      <td>6.088110</td>\n",
       "      <td>4.781201</td>\n",
       "    </tr>\n",
       "    <tr>\n",
       "      <th>min</th>\n",
       "      <td>0.000000</td>\n",
       "      <td>8.168900</td>\n",
       "      <td>68.644700</td>\n",
       "    </tr>\n",
       "    <tr>\n",
       "      <th>25%</th>\n",
       "      <td>16.837500</td>\n",
       "      <td>17.057825</td>\n",
       "      <td>74.390250</td>\n",
       "    </tr>\n",
       "    <tr>\n",
       "      <th>50%</th>\n",
       "      <td>60.000000</td>\n",
       "      <td>21.278850</td>\n",
       "      <td>76.978950</td>\n",
       "    </tr>\n",
       "    <tr>\n",
       "      <th>75%</th>\n",
       "      <td>388.125000</td>\n",
       "      <td>25.183775</td>\n",
       "      <td>79.211600</td>\n",
       "    </tr>\n",
       "    <tr>\n",
       "      <th>max</th>\n",
       "      <td>4760.000000</td>\n",
       "      <td>34.649000</td>\n",
       "      <td>95.408000</td>\n",
       "    </tr>\n",
       "  </tbody>\n",
       "</table>\n",
       "</div>"
      ],
      "text/plain": [
       "       capacity_mw    latitude   longitude\n",
       "count   908.000000  908.000000  908.000000\n",
       "mean    321.046378   21.196189   77.447848\n",
       "std     580.221767    6.088110    4.781201\n",
       "min       0.000000    8.168900   68.644700\n",
       "25%      16.837500   17.057825   74.390250\n",
       "50%      60.000000   21.278850   76.978950\n",
       "75%     388.125000   25.183775   79.211600\n",
       "max    4760.000000   34.649000   95.408000"
      ]
     },
     "execution_count": 253,
     "metadata": {},
     "output_type": "execute_result"
    }
   ],
   "source": [
    "#Statistical measures\n",
    "df.describe()"
   ]
  },
  {
   "cell_type": "markdown",
   "id": "56b5bca2",
   "metadata": {},
   "source": [
    "# When target is capacity_mw"
   ]
  },
  {
   "cell_type": "code",
   "execution_count": 254,
   "id": "9b012e84",
   "metadata": {},
   "outputs": [
    {
     "data": {
      "text/plain": [
       "capacity_mw    3.193257\n",
       "latitude      -0.147391\n",
       "longitude      1.129836\n",
       "dtype: float64"
      ]
     },
     "execution_count": 254,
     "metadata": {},
     "output_type": "execute_result"
    }
   ],
   "source": [
    "#Check Skewness\n",
    "df.skew()"
   ]
  },
  {
   "cell_type": "markdown",
   "id": "3903c045",
   "metadata": {},
   "source": [
    "Target is capacity_mw so we will not remove skewness from target column."
   ]
  },
  {
   "cell_type": "code",
   "execution_count": 255,
   "id": "b46456f9",
   "metadata": {},
   "outputs": [],
   "source": [
    "#Remove the Skewness\n",
    "from scipy.stats import boxcox\n",
    "df['longitude'] =boxcox(df['longitude'],0)"
   ]
  },
  {
   "cell_type": "code",
   "execution_count": 256,
   "id": "f81482f1",
   "metadata": {},
   "outputs": [
    {
     "data": {
      "text/plain": [
       "capacity_mw    3.193257\n",
       "latitude      -0.147391\n",
       "longitude      0.921567\n",
       "dtype: float64"
      ]
     },
     "execution_count": 256,
     "metadata": {},
     "output_type": "execute_result"
    }
   ],
   "source": [
    "df.skew()"
   ]
  },
  {
   "cell_type": "code",
   "execution_count": 257,
   "id": "8dde57ac",
   "metadata": {},
   "outputs": [
    {
     "data": {
      "text/html": [
       "<div>\n",
       "<style scoped>\n",
       "    .dataframe tbody tr th:only-of-type {\n",
       "        vertical-align: middle;\n",
       "    }\n",
       "\n",
       "    .dataframe tbody tr th {\n",
       "        vertical-align: top;\n",
       "    }\n",
       "\n",
       "    .dataframe thead th {\n",
       "        text-align: right;\n",
       "    }\n",
       "</style>\n",
       "<table border=\"1\" class=\"dataframe\">\n",
       "  <thead>\n",
       "    <tr style=\"text-align: right;\">\n",
       "      <th></th>\n",
       "      <th>capacity_mw</th>\n",
       "      <th>latitude</th>\n",
       "      <th>longitude</th>\n",
       "    </tr>\n",
       "  </thead>\n",
       "  <tbody>\n",
       "    <tr>\n",
       "      <th>capacity_mw</th>\n",
       "      <td>1.000000</td>\n",
       "      <td>0.049790</td>\n",
       "      <td>0.201168</td>\n",
       "    </tr>\n",
       "    <tr>\n",
       "      <th>latitude</th>\n",
       "      <td>0.049790</td>\n",
       "      <td>1.000000</td>\n",
       "      <td>0.019701</td>\n",
       "    </tr>\n",
       "    <tr>\n",
       "      <th>longitude</th>\n",
       "      <td>0.201168</td>\n",
       "      <td>0.019701</td>\n",
       "      <td>1.000000</td>\n",
       "    </tr>\n",
       "  </tbody>\n",
       "</table>\n",
       "</div>"
      ],
      "text/plain": [
       "             capacity_mw  latitude  longitude\n",
       "capacity_mw     1.000000  0.049790   0.201168\n",
       "latitude        0.049790  1.000000   0.019701\n",
       "longitude       0.201168  0.019701   1.000000"
      ]
     },
     "execution_count": 257,
     "metadata": {},
     "output_type": "execute_result"
    }
   ],
   "source": [
    "df.corr()"
   ]
  },
  {
   "cell_type": "code",
   "execution_count": 258,
   "id": "2f3d9401",
   "metadata": {},
   "outputs": [
    {
     "data": {
      "image/png": "[encoded data removed]",
      "text/plain": [
       "<Figure size 360x360 with 2 Axes>"
      ]
     },
     "metadata": {
      "needs_background": "light"
     },
     "output_type": "display_data"
    }
   ],
   "source": [
    "plt.figure(figsize=(5,5))\n",
    "sns.heatmap(df.corr(),annot=True);"
   ]
  },
  {
   "cell_type": "markdown",
   "id": "2697f667",
   "metadata": {},
   "source": [
    "Highly -ve corelation between latitude and capacity_mw."
   ]
  },
  {
   "cell_type": "code",
   "execution_count": 259,
   "id": "21e023a5",
   "metadata": {},
   "outputs": [],
   "source": [
    "#Label Encoding\n",
    "from sklearn.preprocessing import LabelEncoder\n",
    "\n",
    "encoder = LabelEncoder()\n",
    "df['country_long'] = encoder.fit_transform(df['country_long'])\n",
    "df['name'] = encoder.fit_transform(df['name'])\n",
    "df['gppd_idnr'] = encoder.fit_transform(df['gppd_idnr'])\n",
    "df['primary_fuel'] = encoder.fit_transform(df['primary_fuel'])\n",
    "df['source'] = encoder.fit_transform(df['source'])\n",
    "df['geolocation_source'] = encoder.fit_transform(df['geolocation_source'])"
   ]
  },
  {
   "cell_type": "code",
   "execution_count": 260,
   "id": "b039d97e",
   "metadata": {},
   "outputs": [
    {
     "data": {
      "text/html": [
       "<div>\n",
       "<style scoped>\n",
       "    .dataframe tbody tr th:only-of-type {\n",
       "        vertical-align: middle;\n",
       "    }\n",
       "\n",
       "    .dataframe tbody tr th {\n",
       "        vertical-align: top;\n",
       "    }\n",
       "\n",
       "    .dataframe thead th {\n",
       "        text-align: right;\n",
       "    }\n",
       "</style>\n",
       "<table border=\"1\" class=\"dataframe\">\n",
       "  <thead>\n",
       "    <tr style=\"text-align: right;\">\n",
       "      <th></th>\n",
       "      <th>country_long</th>\n",
       "      <th>name</th>\n",
       "      <th>gppd_idnr</th>\n",
       "      <th>capacity_mw</th>\n",
       "      <th>latitude</th>\n",
       "      <th>longitude</th>\n",
       "      <th>primary_fuel</th>\n",
       "      <th>source</th>\n",
       "      <th>geolocation_source</th>\n",
       "    </tr>\n",
       "  </thead>\n",
       "  <tbody>\n",
       "    <tr>\n",
       "      <th>0</th>\n",
       "      <td>0</td>\n",
       "      <td>0</td>\n",
       "      <td>658</td>\n",
       "      <td>2.5</td>\n",
       "      <td>28.1839</td>\n",
       "      <td>4.293751</td>\n",
       "      <td>6</td>\n",
       "      <td>109</td>\n",
       "      <td>1</td>\n",
       "    </tr>\n",
       "    <tr>\n",
       "      <th>1</th>\n",
       "      <td>0</td>\n",
       "      <td>1</td>\n",
       "      <td>520</td>\n",
       "      <td>98.0</td>\n",
       "      <td>24.7663</td>\n",
       "      <td>4.312261</td>\n",
       "      <td>1</td>\n",
       "      <td>174</td>\n",
       "      <td>2</td>\n",
       "    </tr>\n",
       "    <tr>\n",
       "      <th>2</th>\n",
       "      <td>0</td>\n",
       "      <td>2</td>\n",
       "      <td>854</td>\n",
       "      <td>39.2</td>\n",
       "      <td>21.9038</td>\n",
       "      <td>4.239501</td>\n",
       "      <td>7</td>\n",
       "      <td>21</td>\n",
       "      <td>2</td>\n",
       "    </tr>\n",
       "    <tr>\n",
       "      <th>3</th>\n",
       "      <td>0</td>\n",
       "      <td>3</td>\n",
       "      <td>0</td>\n",
       "      <td>135.0</td>\n",
       "      <td>23.8712</td>\n",
       "      <td>4.514810</td>\n",
       "      <td>2</td>\n",
       "      <td>22</td>\n",
       "      <td>2</td>\n",
       "    </tr>\n",
       "    <tr>\n",
       "      <th>4</th>\n",
       "      <td>0</td>\n",
       "      <td>4</td>\n",
       "      <td>1</td>\n",
       "      <td>1800.0</td>\n",
       "      <td>21.9603</td>\n",
       "      <td>4.411696</td>\n",
       "      <td>1</td>\n",
       "      <td>22</td>\n",
       "      <td>2</td>\n",
       "    </tr>\n",
       "  </tbody>\n",
       "</table>\n",
       "</div>"
      ],
      "text/plain": [
       "   country_long  name  gppd_idnr  capacity_mw  latitude  longitude  \\\n",
       "0             0     0        658          2.5   28.1839   4.293751   \n",
       "1             0     1        520         98.0   24.7663   4.312261   \n",
       "2             0     2        854         39.2   21.9038   4.239501   \n",
       "3             0     3          0        135.0   23.8712   4.514810   \n",
       "4             0     4          1       1800.0   21.9603   4.411696   \n",
       "\n",
       "   primary_fuel  source  geolocation_source  \n",
       "0             6     109                   1  \n",
       "1             1     174                   2  \n",
       "2             7      21                   2  \n",
       "3             2      22                   2  \n",
       "4             1      22                   2  "
      ]
     },
     "execution_count": 260,
     "metadata": {},
     "output_type": "execute_result"
    }
   ],
   "source": [
    "df.head()"
   ]
  },
  {
   "cell_type": "code",
   "execution_count": 261,
   "id": "643f2830",
   "metadata": {},
   "outputs": [
    {
     "data": {
      "text/plain": [
       "country_long            int32\n",
       "name                    int32\n",
       "gppd_idnr               int32\n",
       "capacity_mw           float64\n",
       "latitude              float64\n",
       "longitude             float64\n",
       "primary_fuel            int32\n",
       "source                  int32\n",
       "geolocation_source      int32\n",
       "dtype: object"
      ]
     },
     "execution_count": 261,
     "metadata": {},
     "output_type": "execute_result"
    }
   ],
   "source": [
    "df.dtypes"
   ]
  },
  {
   "cell_type": "code",
   "execution_count": 262,
   "id": "17009721",
   "metadata": {},
   "outputs": [
    {
     "data": {
      "text/plain": [
       "country_long            1\n",
       "name                  908\n",
       "gppd_idnr             908\n",
       "capacity_mw           365\n",
       "latitude              838\n",
       "longitude             829\n",
       "primary_fuel            8\n",
       "source                191\n",
       "geolocation_source      3\n",
       "dtype: int64"
      ]
     },
     "execution_count": 262,
     "metadata": {},
     "output_type": "execute_result"
    }
   ],
   "source": [
    "#For unique values\n",
    "df.nunique()"
   ]
  },
  {
   "cell_type": "code",
   "execution_count": 263,
   "id": "f2b2d347",
   "metadata": {},
   "outputs": [
    {
     "data": {
      "image/png": "[encoded data removed]",
      "text/plain": [
       "<Figure size 432x432 with 1 Axes>"
      ]
     },
     "metadata": {
      "needs_background": "light"
     },
     "output_type": "display_data"
    }
   ],
   "source": [
    "plt.figure(figsize=(6,6))\n",
    "sns.distplot(df['latitude'])\n",
    "plt.show()"
   ]
  },
  {
   "cell_type": "code",
   "execution_count": 264,
   "id": "e0fc03ca",
   "metadata": {},
   "outputs": [
    {
     "data": {
      "image/png": "[encoded data removed]",
      "text/plain": [
       "<Figure size 432x432 with 1 Axes>"
      ]
     },
     "metadata": {
      "needs_background": "light"
     },
     "output_type": "display_data"
    }
   ],
   "source": [
    "plt.figure(figsize=(6,6))\n",
    "sns.distplot(df['longitude'])\n",
    "plt.show()"
   ]
  },
  {
   "cell_type": "code",
   "execution_count": 265,
   "id": "f227a3ce",
   "metadata": {},
   "outputs": [
    {
     "data": {
      "image/png": "[encoded data removed]",
      "text/plain": [
       "<Figure size 432x288 with 1 Axes>"
      ]
     },
     "metadata": {
      "needs_background": "light"
     },
     "output_type": "display_data"
    }
   ],
   "source": [
    "sns.countplot(df['capacity_mw'],palette='coolwarm',hue='primary_fuel',data=df);"
   ]
  },
  {
   "cell_type": "code",
   "execution_count": 266,
   "id": "6699bf9d",
   "metadata": {},
   "outputs": [
    {
     "data": {
      "image/png": "[encoded data removed]",
      "text/plain": [
       "<Figure size 432x288 with 1 Axes>"
      ]
     },
     "metadata": {
      "needs_background": "light"
     },
     "output_type": "display_data"
    }
   ],
   "source": [
    "sns.countplot(df['capacity_mw'],palette='coolwarm',hue='geolocation_source',data=df);"
   ]
  },
  {
   "cell_type": "code",
   "execution_count": 267,
   "id": "0b1f6f52",
   "metadata": {},
   "outputs": [
    {
     "data": {
      "image/png": "[encoded data removed]",
      "text/plain": [
       "<Figure size 864x864 with 25 Axes>"
      ]
     },
     "metadata": {
      "needs_background": "light"
     },
     "output_type": "display_data"
    }
   ],
   "source": [
    "df.hist(figsize=(12,12),layout=(5,5),sharex=False);"
   ]
  },
  {
   "cell_type": "code",
   "execution_count": 268,
   "id": "c94b5ccc",
   "metadata": {},
   "outputs": [
    {
     "data": {
      "image/png": "[encoded data removed]",
      "text/plain": [
       "<Figure size 864x864 with 25 Axes>"
      ]
     },
     "metadata": {
      "needs_background": "light"
     },
     "output_type": "display_data"
    }
   ],
   "source": [
    "df.plot(kind='box',figsize=(12,12),layout=(5,5),sharex=False,subplots=True);"
   ]
  },
  {
   "cell_type": "code",
   "execution_count": 269,
   "id": "20949859",
   "metadata": {},
   "outputs": [
    {
     "data": {
      "text/plain": [
       "array([[       nan, 1.73014431, 0.78018635, ..., 1.22541756, 1.461366  ,\n",
       "        1.08428797],\n",
       "       [       nan, 1.72632922, 0.25370363, ..., 0.96748576, 2.91878103,\n",
       "        0.39399052],\n",
       "       [       nan, 1.72251413, 1.52794443, ..., 1.66399822, 0.51174973,\n",
       "        0.39399052],\n",
       "       ...,\n",
       "       [       nan, 1.72251413, 1.67291793, ..., 1.66399822, 0.51174973,\n",
       "        0.39399052],\n",
       "       [       nan, 1.72632922, 0.33000548, ..., 0.96748576, 0.34027752,\n",
       "        0.39399052],\n",
       "       [       nan, 1.73014431, 1.61569155, ..., 1.66399822, 0.51174973,\n",
       "        0.39399052]])"
      ]
     },
     "execution_count": 269,
     "metadata": {},
     "output_type": "execute_result"
    }
   ],
   "source": [
    "from scipy.stats import zscore\n",
    "z=np.abs(zscore(df))\n",
    "z"
   ]
  },
  {
   "cell_type": "code",
   "execution_count": 270,
   "id": "3f1437bf",
   "metadata": {},
   "outputs": [
    {
     "name": "stdout",
     "output_type": "stream",
     "text": [
      "(array([ 15,  72,  81, 144, 180, 184, 192, 210, 245, 300, 309, 322, 334,\n",
      "       341, 346, 361, 364, 365, 376, 417, 428, 483, 494, 495, 520, 639,\n",
      "       649, 658, 662, 670, 690, 696, 727, 787, 789, 809, 819, 833, 871,\n",
      "       872, 880, 881, 896, 901], dtype=int64), array([3, 7, 7, 3, 5, 5, 7, 3, 5, 7, 3, 7, 5, 5, 7, 5, 3, 3, 3, 5, 5, 3,\n",
      "       3, 3, 5, 5, 3, 3, 7, 7, 7, 3, 3, 3, 3, 3, 5, 7, 7, 7, 7, 3, 7, 7],\n",
      "      dtype=int64))\n"
     ]
    }
   ],
   "source": [
    "threshold=3\n",
    "print(np.where(z>3))"
   ]
  },
  {
   "cell_type": "code",
   "execution_count": 271,
   "id": "21f927d4",
   "metadata": {},
   "outputs": [],
   "source": [
    "df_new=df[(z<3).all(axis=1)]"
   ]
  },
  {
   "cell_type": "code",
   "execution_count": 272,
   "id": "acbd74f8",
   "metadata": {},
   "outputs": [
    {
     "data": {
      "text/plain": [
       "(0, 9)"
      ]
     },
     "execution_count": 272,
     "metadata": {},
     "output_type": "execute_result"
    }
   ],
   "source": [
    "df_new.shape"
   ]
  },
  {
   "cell_type": "markdown",
   "id": "65b621c1",
   "metadata": {},
   "source": [
    "Data loss is more so we can not remove outliers."
   ]
  },
  {
   "cell_type": "code",
   "execution_count": 273,
   "id": "4940d51b",
   "metadata": {},
   "outputs": [],
   "source": [
    "x= df.drop(['capacity_mw'],axis=1)\n",
    "y= df['capacity_mw']"
   ]
  },
  {
   "cell_type": "code",
   "execution_count": 274,
   "id": "99ae9c8d",
   "metadata": {},
   "outputs": [],
   "source": [
    "#spliting data into training data and testing data\n",
    "x_train,x_test,y_train,y_test=train_test_split(x,y,test_size=0.3,random_state=12)"
   ]
  },
  {
   "cell_type": "code",
   "execution_count": 275,
   "id": "17fd7a25",
   "metadata": {},
   "outputs": [
    {
     "name": "stdout",
     "output_type": "stream",
     "text": [
      "(908, 8) (635, 8) (273, 8)\n"
     ]
    }
   ],
   "source": [
    "print(x.shape,x_train.shape,x_test.shape)"
   ]
  },
  {
   "cell_type": "code",
   "execution_count": 276,
   "id": "977c9e47",
   "metadata": {},
   "outputs": [],
   "source": [
    "from sklearn.linear_model import LinearRegression"
   ]
  },
  {
   "cell_type": "code",
   "execution_count": 277,
   "id": "064bda7a",
   "metadata": {},
   "outputs": [],
   "source": [
    "lm= LinearRegression()\n",
    "model = lm.fit(x_train,y_train)"
   ]
  },
  {
   "cell_type": "code",
   "execution_count": 278,
   "id": "cde6ad95",
   "metadata": {},
   "outputs": [
    {
     "data": {
      "text/plain": [
       "array([   0.        ,    0.22959265,   -0.21245646,    4.11915225,\n",
       "       -126.47982143,  -98.64050409,   -3.44964228, -145.59664128])"
      ]
     },
     "execution_count": 278,
     "metadata": {},
     "output_type": "execute_result"
    }
   ],
   "source": [
    "lm.coef_"
   ]
  },
  {
   "cell_type": "code",
   "execution_count": 279,
   "id": "3013f133",
   "metadata": {},
   "outputs": [
    {
     "data": {
      "text/plain": [
       "1495.019860267223"
      ]
     },
     "execution_count": 279,
     "metadata": {},
     "output_type": "execute_result"
    }
   ],
   "source": [
    "lm.intercept_"
   ]
  },
  {
   "cell_type": "code",
   "execution_count": 280,
   "id": "6b952451",
   "metadata": {},
   "outputs": [],
   "source": [
    "pred=lm.predict(x_test)"
   ]
  },
  {
   "cell_type": "code",
   "execution_count": 281,
   "id": "ff9bfb2c",
   "metadata": {},
   "outputs": [
    {
     "data": {
      "text/plain": [
       "0.22026035826249912"
      ]
     },
     "execution_count": 281,
     "metadata": {},
     "output_type": "execute_result"
    }
   ],
   "source": [
    "lm.score(x_train,y_train)"
   ]
  },
  {
   "cell_type": "markdown",
   "id": "1584d4ac",
   "metadata": {},
   "source": [
    "# Regularization"
   ]
  },
  {
   "cell_type": "code",
   "execution_count": 282,
   "id": "e752cf1b",
   "metadata": {},
   "outputs": [],
   "source": [
    "from sklearn.model_selection import GridSearchCV\n",
    "from sklearn.model_selection import cross_val_score"
   ]
  },
  {
   "cell_type": "code",
   "execution_count": 283,
   "id": "9b4c04d6",
   "metadata": {},
   "outputs": [
    {
     "name": "stdout",
     "output_type": "stream",
     "text": [
      "{'alpha': 10, 'random_state': 0}\n"
     ]
    }
   ],
   "source": [
    "from sklearn.linear_model import Lasso\n",
    "\n",
    "parameters ={'alpha':[.0001,.001,.01,.1,1,10],'random_state':list(range(0,10))}\n",
    "ls = Lasso()\n",
    "clf = GridSearchCV(ls,parameters)\n",
    "clf.fit(x_train,y_train)\n",
    "\n",
    "print(clf.best_params_)"
   ]
  },
  {
   "cell_type": "code",
   "execution_count": 284,
   "id": "80d9c729",
   "metadata": {},
   "outputs": [
    {
     "name": "stdout",
     "output_type": "stream",
     "text": [
      "274085.45902855473\n"
     ]
    }
   ],
   "source": [
    "from sklearn.metrics import mean_squared_error,r2_score\n",
    "print(mean_squared_error(pred,y_test))"
   ]
  },
  {
   "cell_type": "code",
   "execution_count": 285,
   "id": "3d795149",
   "metadata": {},
   "outputs": [
    {
     "data": {
      "text/plain": [
       "0.20831033988307057"
      ]
     },
     "execution_count": 285,
     "metadata": {},
     "output_type": "execute_result"
    }
   ],
   "source": [
    "ls = Lasso(alpha=10,random_state=0)\n",
    "ls.fit(x_train,y_train)\n",
    "ls.score(x_train,y_train)\n",
    "pred_ls = ls.predict(x_test)\n",
    "\n",
    "lss = r2_score(y_test,pred_ls)\n",
    "lss"
   ]
  },
  {
   "cell_type": "markdown",
   "id": "a8b60e89",
   "metadata": {},
   "source": [
    "# Ensemble Technique"
   ]
  },
  {
   "cell_type": "code",
   "execution_count": 286,
   "id": "1243246e",
   "metadata": {},
   "outputs": [
    {
     "data": {
      "text/plain": [
       "DecisionTreeRegressor(max_depth=5, random_state=0)"
      ]
     },
     "execution_count": 286,
     "metadata": {},
     "output_type": "execute_result"
    }
   ],
   "source": [
    "from sklearn.tree import DecisionTreeRegressor\n",
    "dt = DecisionTreeRegressor(random_state =0, max_depth =5)\n",
    "dt.fit(x_train,y_train)"
   ]
  },
  {
   "cell_type": "code",
   "execution_count": 287,
   "id": "a9c0a15d",
   "metadata": {},
   "outputs": [
    {
     "data": {
      "text/plain": [
       "0.6515663272855327"
      ]
     },
     "execution_count": 287,
     "metadata": {},
     "output_type": "execute_result"
    }
   ],
   "source": [
    "dt.score(x_train,y_train)"
   ]
  },
  {
   "cell_type": "code",
   "execution_count": 288,
   "id": "ac6051a4",
   "metadata": {},
   "outputs": [],
   "source": [
    "predictions = dt.predict(x_test)"
   ]
  },
  {
   "cell_type": "code",
   "execution_count": 289,
   "id": "20c1a3e9",
   "metadata": {},
   "outputs": [
    {
     "name": "stdout",
     "output_type": "stream",
     "text": [
      "Cross Val Score: 20.61568389574609\n"
     ]
    }
   ],
   "source": [
    "dtscore = cross_val_score(dt,x,y,cv=5)\n",
    "dtc=dtscore.mean()\n",
    "print('Cross Val Score:',dtc*100)"
   ]
  },
  {
   "cell_type": "markdown",
   "id": "856be61c",
   "metadata": {},
   "source": [
    "# Hyper Parameter tuning"
   ]
  },
  {
   "cell_type": "code",
   "execution_count": 290,
   "id": "ccb3eb3f",
   "metadata": {},
   "outputs": [],
   "source": [
    "from sklearn.model_selection import GridSearchCV\n",
    "parameter ={'max_depth':np.arange(2,10),\n",
    "           'criterion':['squared_error','friedman_mse','absolute_error','poisson'],\n",
    "           'splitter':['best','random'],\n",
    "           'max_features':['auto','sqrt','log2']}"
   ]
  },
  {
   "cell_type": "code",
   "execution_count": 291,
   "id": "9a4e8240",
   "metadata": {},
   "outputs": [],
   "source": [
    "GCV=GridSearchCV(DecisionTreeRegressor(),parameter,cv=5)"
   ]
  },
  {
   "cell_type": "code",
   "execution_count": 292,
   "id": "06798784",
   "metadata": {},
   "outputs": [
    {
     "data": {
      "text/plain": [
       "GridSearchCV(cv=5, estimator=DecisionTreeRegressor(),\n",
       "             param_grid={'criterion': ['squared_error', 'friedman_mse',\n",
       "                                       'absolute_error', 'poisson'],\n",
       "                         'max_depth': array([2, 3, 4, 5, 6, 7, 8, 9]),\n",
       "                         'max_features': ['auto', 'sqrt', 'log2'],\n",
       "                         'splitter': ['best', 'random']})"
      ]
     },
     "execution_count": 292,
     "metadata": {},
     "output_type": "execute_result"
    }
   ],
   "source": [
    "GCV.fit(x_train,y_train)"
   ]
  },
  {
   "cell_type": "code",
   "execution_count": 293,
   "id": "c018198f",
   "metadata": {},
   "outputs": [
    {
     "data": {
      "text/plain": [
       "GridSearchCV(cv=5, estimator=DecisionTreeRegressor(),\n",
       "             param_grid={'criterion': ['squared_error', 'friedman_mse',\n",
       "                                       'absolute_error', 'poisson'],\n",
       "                         'max_depth': array([2, 3, 4, 5, 6, 7, 8, 9]),\n",
       "                         'max_features': ['auto', 'sqrt', 'log2'],\n",
       "                         'splitter': ['best', 'random']})"
      ]
     },
     "execution_count": 293,
     "metadata": {},
     "output_type": "execute_result"
    }
   ],
   "source": [
    "GCV"
   ]
  },
  {
   "cell_type": "code",
   "execution_count": 294,
   "id": "84680d5a",
   "metadata": {},
   "outputs": [
    {
     "data": {
      "text/plain": [
       "{'criterion': 'friedman_mse',\n",
       " 'max_depth': 3,\n",
       " 'max_features': 'auto',\n",
       " 'splitter': 'best'}"
      ]
     },
     "execution_count": 294,
     "metadata": {},
     "output_type": "execute_result"
    }
   ],
   "source": [
    "GCV.best_params_"
   ]
  },
  {
   "cell_type": "code",
   "execution_count": 295,
   "id": "2688fea3",
   "metadata": {},
   "outputs": [],
   "source": [
    "import pickle\n",
    "filename ='Global Power Plant.pkl'\n",
    "pickle.dump(dt,open(filename,'wb'))"
   ]
  },
  {
   "cell_type": "code",
   "execution_count": 296,
   "id": "abcb5952",
   "metadata": {},
   "outputs": [],
   "source": [
    "loaded_model = pickle.load(open('Global Power Plant.pkl','rb'))"
   ]
  },
  {
   "cell_type": "markdown",
   "id": "744f4cd2",
   "metadata": {},
   "source": [
    "# Consider target is primary_fuel solve by Using classification"
   ]
  },
  {
   "cell_type": "code",
   "execution_count": 297,
   "id": "f01367a9",
   "metadata": {},
   "outputs": [],
   "source": [
    "x = df.drop(['primary_fuel'],axis=1)\n",
    "y = df['primary_fuel']"
   ]
  },
  {
   "cell_type": "code",
   "execution_count": 298,
   "id": "9a4ea346",
   "metadata": {},
   "outputs": [],
   "source": [
    "from sklearn.model_selection import train_test_split\n",
    "x_train,x_test,y_train,y_test=train_test_split(x,y,test_size=.25,random_state=42)"
   ]
  },
  {
   "cell_type": "code",
   "execution_count": 299,
   "id": "fb3b8a4d",
   "metadata": {},
   "outputs": [
    {
     "name": "stdout",
     "output_type": "stream",
     "text": [
      "(908, 8) (681, 8) (227, 8)\n"
     ]
    }
   ],
   "source": [
    "print(x.shape,x_train.shape,x_test.shape)"
   ]
  },
  {
   "cell_type": "markdown",
   "id": "2f56ab1f",
   "metadata": {},
   "source": [
    "# Training the model"
   ]
  },
  {
   "cell_type": "code",
   "execution_count": 311,
   "id": "a2d3e97e",
   "metadata": {},
   "outputs": [],
   "source": [
    "from sklearn.metrics import classification_report\n",
    "from sklearn.ensemble import RandomForestClassifier\n",
    "from sklearn.neighbors import KNeighborsClassifier\n",
    "from sklearn.linear_model import LogisticRegression"
   ]
  },
  {
   "cell_type": "code",
   "execution_count": 312,
   "id": "42e9e91d",
   "metadata": {},
   "outputs": [
    {
     "name": "stdout",
     "output_type": "stream",
     "text": [
      "Acc on training data:0.689\n",
      "Acc on test data:0.683\n"
     ]
    }
   ],
   "source": [
    "lr = LogisticRegression()\n",
    "model = lr.fit(x_train,y_train)\n",
    "prediction = model.predict(x_test)\n",
    "\n",
    "print('Acc on training data:{:,.3f}'.format(lr.score(x_train,y_train)))\n",
    "print('Acc on test data:{:,.3f}'.format(lr.score(x_test,y_test)))"
   ]
  },
  {
   "cell_type": "code",
   "execution_count": 303,
   "id": "7139e16d",
   "metadata": {},
   "outputs": [
    {
     "name": "stdout",
     "output_type": "stream",
     "text": [
      "              precision    recall  f1-score   support\n",
      "\n",
      "           0       0.67      0.86      0.75         7\n",
      "           1       0.78      0.88      0.83        69\n",
      "           2       0.77      0.43      0.56        23\n",
      "           3       0.81      0.88      0.85        68\n",
      "           4       0.00      0.00      0.00         0\n",
      "           5       0.00      0.00      0.00         8\n",
      "           6       1.00      1.00      1.00        23\n",
      "           7       1.00      1.00      1.00        29\n",
      "\n",
      "    accuracy                           0.83       227\n",
      "   macro avg       0.63      0.63      0.62       227\n",
      "weighted avg       0.81      0.83      0.81       227\n",
      "\n"
     ]
    }
   ],
   "source": [
    "#Random Forest Classifier model\n",
    "rfc = RandomForestClassifier()\n",
    "rfc.fit(x_train,y_train)\n",
    "pred = rfc.predict(x_test)\n",
    "acc=classification_report(y_test,pred)\n",
    "print(acc)"
   ]
  },
  {
   "cell_type": "code",
   "execution_count": 305,
   "id": "fd7bb4e3",
   "metadata": {},
   "outputs": [],
   "source": [
    "#Support Vector Machine Model\n",
    "from sklearn import svm\n",
    "SVM = svm.SVC(kernel='linear')"
   ]
  },
  {
   "cell_type": "code",
   "execution_count": 306,
   "id": "66baa1a1",
   "metadata": {},
   "outputs": [
    {
     "data": {
      "text/plain": [
       "SVC(kernel='linear')"
      ]
     },
     "execution_count": 306,
     "metadata": {},
     "output_type": "execute_result"
    }
   ],
   "source": [
    "#Training the SVM\n",
    "SVM.fit(x_train,y_train)"
   ]
  },
  {
   "cell_type": "code",
   "execution_count": 307,
   "id": "91f2eeae",
   "metadata": {},
   "outputs": [
    {
     "name": "stdout",
     "output_type": "stream",
     "text": [
      "              precision    recall  f1-score   support\n",
      "\n",
      "           0       0.67      0.86      0.75         7\n",
      "           1       0.78      0.88      0.83        69\n",
      "           2       0.77      0.43      0.56        23\n",
      "           3       0.81      0.88      0.85        68\n",
      "           4       0.00      0.00      0.00         0\n",
      "           5       0.00      0.00      0.00         8\n",
      "           6       1.00      1.00      1.00        23\n",
      "           7       1.00      1.00      1.00        29\n",
      "\n",
      "    accuracy                           0.83       227\n",
      "   macro avg       0.63      0.63      0.62       227\n",
      "weighted avg       0.81      0.83      0.81       227\n",
      "\n"
     ]
    }
   ],
   "source": [
    "#Accuracy score on training data\n",
    "x_train_prediction = SVM.predict(x_train)\n",
    "training_data_accuracy = accuracy_score(x_train_prediction,y_train)\n",
    "acc=classification_report(y_test,pred)\n",
    "print(acc)"
   ]
  },
  {
   "cell_type": "code",
   "execution_count": 308,
   "id": "8e9527eb",
   "metadata": {},
   "outputs": [
    {
     "name": "stdout",
     "output_type": "stream",
     "text": [
      "Accuracy on training data: 0.7870778267254038\n"
     ]
    }
   ],
   "source": [
    "print('Accuracy on training data:',training_data_accuracy)"
   ]
  },
  {
   "cell_type": "code",
   "execution_count": 309,
   "id": "2f4fb8cb",
   "metadata": {},
   "outputs": [
    {
     "name": "stdout",
     "output_type": "stream",
     "text": [
      "              precision    recall  f1-score   support\n",
      "\n",
      "           0       0.25      0.86      0.39         7\n",
      "           1       0.68      0.71      0.70        69\n",
      "           2       0.50      0.17      0.26        23\n",
      "           3       0.79      0.79      0.79        68\n",
      "           5       0.00      0.00      0.00         8\n",
      "           6       0.88      0.96      0.92        23\n",
      "           7       0.93      0.97      0.95        29\n",
      "\n",
      "    accuracy                           0.72       227\n",
      "   macro avg       0.58      0.64      0.57       227\n",
      "weighted avg       0.71      0.72      0.70       227\n",
      "\n"
     ]
    }
   ],
   "source": [
    "#KNeighborsClassifier model\n",
    "knn = KNeighborsClassifier()\n",
    "knn.fit(x_train,y_train)\n",
    "pred = knn.predict(x_test)\n",
    "acc=classification_report(y_test,pred)\n",
    "print(acc)"
   ]
  },
  {
   "cell_type": "code",
   "execution_count": 310,
   "id": "c2ceb930",
   "metadata": {},
   "outputs": [],
   "source": [
    "from sklearn.model_selection import cross_val_score"
   ]
  },
  {
   "cell_type": "code",
   "execution_count": 313,
   "id": "80ef28cf",
   "metadata": {},
   "outputs": [
    {
     "name": "stdout",
     "output_type": "stream",
     "text": [
      "0.6740574342784289\n"
     ]
    }
   ],
   "source": [
    "#Cross val score of lr\n",
    "print(cross_val_score(lr,x,y,cv=5).mean())"
   ]
  },
  {
   "cell_type": "code",
   "execution_count": 314,
   "id": "0a1e8708",
   "metadata": {},
   "outputs": [
    {
     "name": "stdout",
     "output_type": "stream",
     "text": [
      "0.8193370165745856\n"
     ]
    }
   ],
   "source": [
    "#cross val score of rfc\n",
    "print(cross_val_score(rfc,x,y,cv=5).mean())"
   ]
  },
  {
   "cell_type": "code",
   "execution_count": 315,
   "id": "7ed45bee",
   "metadata": {},
   "outputs": [
    {
     "name": "stdout",
     "output_type": "stream",
     "text": [
      "0.6102361726671119\n"
     ]
    }
   ],
   "source": [
    "#cross val score of knn\n",
    "print(cross_val_score(knn,x,y,cv=5).mean())"
   ]
  },
  {
   "cell_type": "markdown",
   "id": "e844180a",
   "metadata": {},
   "source": [
    "least difference of cross val and accuracy in Random Forest Classifier. so our best model is Random Forest Classifier."
   ]
  },
  {
   "cell_type": "markdown",
   "id": "c9a700ae",
   "metadata": {},
   "source": [
    "# Hyper parameter tuning"
   ]
  },
  {
   "cell_type": "code",
   "execution_count": 319,
   "id": "483b94a7",
   "metadata": {},
   "outputs": [],
   "source": [
    "from sklearn.model_selection import GridSearchCV"
   ]
  },
  {
   "cell_type": "code",
   "execution_count": 320,
   "id": "728c767b",
   "metadata": {},
   "outputs": [],
   "source": [
    "#finding best parameter for rfc\n",
    "parameter ={'max_depth':np.arange(2,10),\n",
    "           'criterion':['gini','entropy'],\n",
    "           'max_leaf_nodes':np.arange(2,10),\n",
    "           'max_features':['auto','sqrt','log2']}"
   ]
  },
  {
   "cell_type": "code",
   "execution_count": 322,
   "id": "c4b3bbc3",
   "metadata": {},
   "outputs": [],
   "source": [
    "GCV=GridSearchCV(RandomForestClassifier(),parameter,cv=5)"
   ]
  },
  {
   "cell_type": "code",
   "execution_count": 323,
   "id": "8d9012e1",
   "metadata": {},
   "outputs": [
    {
     "data": {
      "text/plain": [
       "GridSearchCV(cv=5, estimator=RandomForestClassifier(),\n",
       "             param_grid={'criterion': ['gini', 'entropy'],\n",
       "                         'max_depth': array([2, 3, 4, 5, 6, 7, 8, 9]),\n",
       "                         'max_features': ['auto', 'sqrt', 'log2'],\n",
       "                         'max_leaf_nodes': array([2, 3, 4, 5, 6, 7, 8, 9])})"
      ]
     },
     "execution_count": 323,
     "metadata": {},
     "output_type": "execute_result"
    }
   ],
   "source": [
    "GCV.fit(x_train,y_train)"
   ]
  },
  {
   "cell_type": "code",
   "execution_count": 324,
   "id": "facc941c",
   "metadata": {},
   "outputs": [
    {
     "data": {
      "text/plain": [
       "{'criterion': 'entropy',\n",
       " 'max_depth': 9,\n",
       " 'max_features': 'sqrt',\n",
       " 'max_leaf_nodes': 9}"
      ]
     },
     "execution_count": 324,
     "metadata": {},
     "output_type": "execute_result"
    }
   ],
   "source": [
    "GCV.best_params_"
   ]
  },
  {
   "cell_type": "code",
   "execution_count": 326,
   "id": "93c4ef37",
   "metadata": {},
   "outputs": [
    {
     "name": "stdout",
     "output_type": "stream",
     "text": [
      "76.65198237885463\n"
     ]
    }
   ],
   "source": [
    "#Final_mod\n",
    "Final_mod = RandomForestClassifier(criterion='entropy',max_depth=9,max_features='sqrt',max_leaf_nodes=9)\n",
    "Final_mod.fit(x_train,y_train)\n",
    "pred= Final_mod.predict(x_test)\n",
    "acc= accuracy_score(y_test,pred)\n",
    "print(acc*100)"
   ]
  },
  {
   "cell_type": "code",
   "execution_count": 327,
   "id": "88d97169",
   "metadata": {},
   "outputs": [],
   "source": [
    "#Accuracy score on test data\n",
    "x_test_prediction = rfc.predict(x_test)\n",
    "test_data_accuracy = accuracy_score(x_test_prediction,y_test)"
   ]
  },
  {
   "cell_type": "code",
   "execution_count": 328,
   "id": "ddbc64e9",
   "metadata": {},
   "outputs": [
    {
     "name": "stdout",
     "output_type": "stream",
     "text": [
      "Accuracy on test data: 0.8325991189427313\n"
     ]
    }
   ],
   "source": [
    "print('Accuracy on test data:',test_data_accuracy)"
   ]
  },
  {
   "cell_type": "markdown",
   "id": "2ac7d120",
   "metadata": {},
   "source": [
    "# Saving the model"
   ]
  },
  {
   "cell_type": "code",
   "execution_count": 336,
   "id": "aaf2a800",
   "metadata": {},
   "outputs": [
    {
     "data": {
      "text/plain": [
       "['Global Power Plant_Prediction.pkl']"
      ]
     },
     "execution_count": 336,
     "metadata": {},
     "output_type": "execute_result"
    }
   ],
   "source": [
    "import joblib\n",
    "joblib.dump(Final_mod,'Global Power Plant_Prediction.pkl')"
   ]
  },
  {
   "cell_type": "markdown",
   "id": "a26dc5be",
   "metadata": {},
   "source": [
    "# Loading the model"
   ]
  },
  {
   "cell_type": "code",
   "execution_count": 338,
   "id": "81ee2a7f",
   "metadata": {},
   "outputs": [
    {
     "name": "stdout",
     "output_type": "stream",
     "text": [
      "0.7665198237885462\n"
     ]
    }
   ],
   "source": [
    "loaded_model = joblib.load(open('Global Power Plant_Prediction.pkl','rb'))\n",
    "result = loaded_model.score(x_test,y_test)\n",
    "print(result)"
   ]
  },
  {
   "cell_type": "code",
   "execution_count": null,
   "id": "a56b97e4",
   "metadata": {},
   "outputs": [],
   "source": []
  }
 ],
 "metadata": {
  "kernelspec": {
   "display_name": "Python 3",
   "language": "python",
   "name": "python3"
  },
  "language_info": {
   "codemirror_mode": {
    "name": "ipython",
    "version": 3
   },
   "file_extension": ".py",
   "mimetype": "text/x-python",
   "name": "python",
   "nbconvert_exporter": "python",
   "pygments_lexer": "ipython3",
   "version": "3.8.8"
  }
 },
 "nbformat": 4,
 "nbformat_minor": 5
}
