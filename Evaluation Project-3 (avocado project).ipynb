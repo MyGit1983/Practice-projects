{
 "cells": [
  {
   "cell_type": "code",
   "execution_count": 6,
   "id": "9199817e",
   "metadata": {},
   "outputs": [],
   "source": [
    "import pandas as pd\n",
    "import numpy as np\n",
    "import seaborn as sn\n",
    "import matplotlib.pyplot as plt\n",
    "\n",
    "from sklearn.linear_model import LinearRegression\n",
    "from sklearn.model_selection import train_test_split\n",
    "from sklearn.preprocessing import LabelEncoder\n",
    "from sklearn.preprocessing import StandardScaler\n",
    "\n",
    "\n",
    "import warnings\n",
    "warnings.filterwarnings('ignore')"
   ]
  },
  {
   "cell_type": "code",
   "execution_count": 7,
   "id": "f47f4bf7",
   "metadata": {
    "scrolled": false
   },
   "outputs": [
    {
     "data": {
      "text/html": [
       "<div>\n",
       "<style scoped>\n",
       "    .dataframe tbody tr th:only-of-type {\n",
       "        vertical-align: middle;\n",
       "    }\n",
       "\n",
       "    .dataframe tbody tr th {\n",
       "        vertical-align: top;\n",
       "    }\n",
       "\n",
       "    .dataframe thead th {\n",
       "        text-align: right;\n",
       "    }\n",
       "</style>\n",
       "<table border=\"1\" class=\"dataframe\">\n",
       "  <thead>\n",
       "    <tr style=\"text-align: right;\">\n",
       "      <th></th>\n",
       "      <th>Unnamed: 0</th>\n",
       "      <th>Date</th>\n",
       "      <th>AveragePrice</th>\n",
       "      <th>Total Volume</th>\n",
       "      <th>4046</th>\n",
       "      <th>4225</th>\n",
       "      <th>4770</th>\n",
       "      <th>Total Bags</th>\n",
       "      <th>Small Bags</th>\n",
       "      <th>Large Bags</th>\n",
       "      <th>XLarge Bags</th>\n",
       "      <th>type</th>\n",
       "      <th>year</th>\n",
       "      <th>region</th>\n",
       "    </tr>\n",
       "  </thead>\n",
       "  <tbody>\n",
       "    <tr>\n",
       "      <th>0</th>\n",
       "      <td>0</td>\n",
       "      <td>2015-12-27</td>\n",
       "      <td>1.33</td>\n",
       "      <td>64236.62</td>\n",
       "      <td>1036.74</td>\n",
       "      <td>54454.85</td>\n",
       "      <td>48.16</td>\n",
       "      <td>8696.87</td>\n",
       "      <td>8603.62</td>\n",
       "      <td>93.25</td>\n",
       "      <td>0.0</td>\n",
       "      <td>conventional</td>\n",
       "      <td>2015</td>\n",
       "      <td>Albany</td>\n",
       "    </tr>\n",
       "    <tr>\n",
       "      <th>1</th>\n",
       "      <td>1</td>\n",
       "      <td>2015-12-20</td>\n",
       "      <td>1.35</td>\n",
       "      <td>54876.98</td>\n",
       "      <td>674.28</td>\n",
       "      <td>44638.81</td>\n",
       "      <td>58.33</td>\n",
       "      <td>9505.56</td>\n",
       "      <td>9408.07</td>\n",
       "      <td>97.49</td>\n",
       "      <td>0.0</td>\n",
       "      <td>conventional</td>\n",
       "      <td>2015</td>\n",
       "      <td>Albany</td>\n",
       "    </tr>\n",
       "    <tr>\n",
       "      <th>2</th>\n",
       "      <td>2</td>\n",
       "      <td>2015-12-13</td>\n",
       "      <td>0.93</td>\n",
       "      <td>118220.22</td>\n",
       "      <td>794.70</td>\n",
       "      <td>109149.67</td>\n",
       "      <td>130.50</td>\n",
       "      <td>8145.35</td>\n",
       "      <td>8042.21</td>\n",
       "      <td>103.14</td>\n",
       "      <td>0.0</td>\n",
       "      <td>conventional</td>\n",
       "      <td>2015</td>\n",
       "      <td>Albany</td>\n",
       "    </tr>\n",
       "    <tr>\n",
       "      <th>3</th>\n",
       "      <td>3</td>\n",
       "      <td>2015-12-06</td>\n",
       "      <td>1.08</td>\n",
       "      <td>78992.15</td>\n",
       "      <td>1132.00</td>\n",
       "      <td>71976.41</td>\n",
       "      <td>72.58</td>\n",
       "      <td>5811.16</td>\n",
       "      <td>5677.40</td>\n",
       "      <td>133.76</td>\n",
       "      <td>0.0</td>\n",
       "      <td>conventional</td>\n",
       "      <td>2015</td>\n",
       "      <td>Albany</td>\n",
       "    </tr>\n",
       "    <tr>\n",
       "      <th>4</th>\n",
       "      <td>4</td>\n",
       "      <td>2015-11-29</td>\n",
       "      <td>1.28</td>\n",
       "      <td>51039.60</td>\n",
       "      <td>941.48</td>\n",
       "      <td>43838.39</td>\n",
       "      <td>75.78</td>\n",
       "      <td>6183.95</td>\n",
       "      <td>5986.26</td>\n",
       "      <td>197.69</td>\n",
       "      <td>0.0</td>\n",
       "      <td>conventional</td>\n",
       "      <td>2015</td>\n",
       "      <td>Albany</td>\n",
       "    </tr>\n",
       "  </tbody>\n",
       "</table>\n",
       "</div>"
      ],
      "text/plain": [
       "   Unnamed: 0        Date  AveragePrice  Total Volume     4046       4225  \\\n",
       "0           0  2015-12-27          1.33      64236.62  1036.74   54454.85   \n",
       "1           1  2015-12-20          1.35      54876.98   674.28   44638.81   \n",
       "2           2  2015-12-13          0.93     118220.22   794.70  109149.67   \n",
       "3           3  2015-12-06          1.08      78992.15  1132.00   71976.41   \n",
       "4           4  2015-11-29          1.28      51039.60   941.48   43838.39   \n",
       "\n",
       "     4770  Total Bags  Small Bags  Large Bags  XLarge Bags          type  \\\n",
       "0   48.16     8696.87     8603.62       93.25          0.0  conventional   \n",
       "1   58.33     9505.56     9408.07       97.49          0.0  conventional   \n",
       "2  130.50     8145.35     8042.21      103.14          0.0  conventional   \n",
       "3   72.58     5811.16     5677.40      133.76          0.0  conventional   \n",
       "4   75.78     6183.95     5986.26      197.69          0.0  conventional   \n",
       "\n",
       "   year  region  \n",
       "0  2015  Albany  \n",
       "1  2015  Albany  \n",
       "2  2015  Albany  \n",
       "3  2015  Albany  \n",
       "4  2015  Albany  "
      ]
     },
     "execution_count": 7,
     "metadata": {},
     "output_type": "execute_result"
    }
   ],
   "source": [
    "#Load the dataset\n",
    "df = pd.read_csv('avocado.csv')\n",
    "df.head()"
   ]
  },
  {
   "cell_type": "code",
   "execution_count": 8,
   "id": "1d6aba86",
   "metadata": {},
   "outputs": [
    {
     "data": {
      "text/html": [
       "<div>\n",
       "<style scoped>\n",
       "    .dataframe tbody tr th:only-of-type {\n",
       "        vertical-align: middle;\n",
       "    }\n",
       "\n",
       "    .dataframe tbody tr th {\n",
       "        vertical-align: top;\n",
       "    }\n",
       "\n",
       "    .dataframe thead th {\n",
       "        text-align: right;\n",
       "    }\n",
       "</style>\n",
       "<table border=\"1\" class=\"dataframe\">\n",
       "  <thead>\n",
       "    <tr style=\"text-align: right;\">\n",
       "      <th></th>\n",
       "      <th>Date</th>\n",
       "      <th>AveragePrice</th>\n",
       "      <th>Total Volume</th>\n",
       "      <th>4046</th>\n",
       "      <th>4225</th>\n",
       "      <th>4770</th>\n",
       "      <th>Total Bags</th>\n",
       "      <th>Small Bags</th>\n",
       "      <th>Large Bags</th>\n",
       "      <th>XLarge Bags</th>\n",
       "      <th>type</th>\n",
       "      <th>year</th>\n",
       "      <th>region</th>\n",
       "    </tr>\n",
       "  </thead>\n",
       "  <tbody>\n",
       "    <tr>\n",
       "      <th>0</th>\n",
       "      <td>2015-12-27</td>\n",
       "      <td>1.33</td>\n",
       "      <td>64236.62</td>\n",
       "      <td>1036.74</td>\n",
       "      <td>54454.85</td>\n",
       "      <td>48.16</td>\n",
       "      <td>8696.87</td>\n",
       "      <td>8603.62</td>\n",
       "      <td>93.25</td>\n",
       "      <td>0.0</td>\n",
       "      <td>conventional</td>\n",
       "      <td>2015</td>\n",
       "      <td>Albany</td>\n",
       "    </tr>\n",
       "    <tr>\n",
       "      <th>1</th>\n",
       "      <td>2015-12-20</td>\n",
       "      <td>1.35</td>\n",
       "      <td>54876.98</td>\n",
       "      <td>674.28</td>\n",
       "      <td>44638.81</td>\n",
       "      <td>58.33</td>\n",
       "      <td>9505.56</td>\n",
       "      <td>9408.07</td>\n",
       "      <td>97.49</td>\n",
       "      <td>0.0</td>\n",
       "      <td>conventional</td>\n",
       "      <td>2015</td>\n",
       "      <td>Albany</td>\n",
       "    </tr>\n",
       "    <tr>\n",
       "      <th>2</th>\n",
       "      <td>2015-12-13</td>\n",
       "      <td>0.93</td>\n",
       "      <td>118220.22</td>\n",
       "      <td>794.70</td>\n",
       "      <td>109149.67</td>\n",
       "      <td>130.50</td>\n",
       "      <td>8145.35</td>\n",
       "      <td>8042.21</td>\n",
       "      <td>103.14</td>\n",
       "      <td>0.0</td>\n",
       "      <td>conventional</td>\n",
       "      <td>2015</td>\n",
       "      <td>Albany</td>\n",
       "    </tr>\n",
       "    <tr>\n",
       "      <th>3</th>\n",
       "      <td>2015-12-06</td>\n",
       "      <td>1.08</td>\n",
       "      <td>78992.15</td>\n",
       "      <td>1132.00</td>\n",
       "      <td>71976.41</td>\n",
       "      <td>72.58</td>\n",
       "      <td>5811.16</td>\n",
       "      <td>5677.40</td>\n",
       "      <td>133.76</td>\n",
       "      <td>0.0</td>\n",
       "      <td>conventional</td>\n",
       "      <td>2015</td>\n",
       "      <td>Albany</td>\n",
       "    </tr>\n",
       "    <tr>\n",
       "      <th>4</th>\n",
       "      <td>2015-11-29</td>\n",
       "      <td>1.28</td>\n",
       "      <td>51039.60</td>\n",
       "      <td>941.48</td>\n",
       "      <td>43838.39</td>\n",
       "      <td>75.78</td>\n",
       "      <td>6183.95</td>\n",
       "      <td>5986.26</td>\n",
       "      <td>197.69</td>\n",
       "      <td>0.0</td>\n",
       "      <td>conventional</td>\n",
       "      <td>2015</td>\n",
       "      <td>Albany</td>\n",
       "    </tr>\n",
       "  </tbody>\n",
       "</table>\n",
       "</div>"
      ],
      "text/plain": [
       "         Date  AveragePrice  Total Volume     4046       4225    4770  \\\n",
       "0  2015-12-27          1.33      64236.62  1036.74   54454.85   48.16   \n",
       "1  2015-12-20          1.35      54876.98   674.28   44638.81   58.33   \n",
       "2  2015-12-13          0.93     118220.22   794.70  109149.67  130.50   \n",
       "3  2015-12-06          1.08      78992.15  1132.00   71976.41   72.58   \n",
       "4  2015-11-29          1.28      51039.60   941.48   43838.39   75.78   \n",
       "\n",
       "   Total Bags  Small Bags  Large Bags  XLarge Bags          type  year  region  \n",
       "0     8696.87     8603.62       93.25          0.0  conventional  2015  Albany  \n",
       "1     9505.56     9408.07       97.49          0.0  conventional  2015  Albany  \n",
       "2     8145.35     8042.21      103.14          0.0  conventional  2015  Albany  \n",
       "3     5811.16     5677.40      133.76          0.0  conventional  2015  Albany  \n",
       "4     6183.95     5986.26      197.69          0.0  conventional  2015  Albany  "
      ]
     },
     "execution_count": 8,
     "metadata": {},
     "output_type": "execute_result"
    }
   ],
   "source": [
    "#Drop the Unnamed: 0 column\n",
    "df=df.drop('Unnamed: 0',axis=1)\n",
    "df.head()"
   ]
  },
  {
   "cell_type": "code",
   "execution_count": 9,
   "id": "c8c92eed",
   "metadata": {},
   "outputs": [
    {
     "data": {
      "text/plain": [
       "(18249, 13)"
      ]
     },
     "execution_count": 9,
     "metadata": {},
     "output_type": "execute_result"
    }
   ],
   "source": [
    "#get the nomber of rows and columns\n",
    "df.shape"
   ]
  },
  {
   "cell_type": "markdown",
   "id": "01976415",
   "metadata": {},
   "source": [
    "There are 18249 rows and 14 columns."
   ]
  },
  {
   "cell_type": "code",
   "execution_count": 10,
   "id": "821c5aea",
   "metadata": {},
   "outputs": [
    {
     "data": {
      "text/plain": [
       "Date             object\n",
       "AveragePrice    float64\n",
       "Total Volume    float64\n",
       "4046            float64\n",
       "4225            float64\n",
       "4770            float64\n",
       "Total Bags      float64\n",
       "Small Bags      float64\n",
       "Large Bags      float64\n",
       "XLarge Bags     float64\n",
       "type             object\n",
       "year              int64\n",
       "region           object\n",
       "dtype: object"
      ]
     },
     "execution_count": 10,
     "metadata": {},
     "output_type": "execute_result"
    }
   ],
   "source": [
    "#Get the column data types\n",
    "df.dtypes"
   ]
  },
  {
   "cell_type": "markdown",
   "id": "3e3ca74b",
   "metadata": {},
   "source": [
    "Date,type ans region is object type."
   ]
  },
  {
   "cell_type": "code",
   "execution_count": 11,
   "id": "a3cd0ed0",
   "metadata": {},
   "outputs": [
    {
     "data": {
      "text/plain": [
       "Index(['Date', 'AveragePrice', 'Total Volume', '4046', '4225', '4770',\n",
       "       'Total Bags', 'Small Bags', 'Large Bags', 'XLarge Bags', 'type', 'year',\n",
       "       'region'],\n",
       "      dtype='object')"
      ]
     },
     "execution_count": 11,
     "metadata": {},
     "output_type": "execute_result"
    }
   ],
   "source": [
    "#Get the all columns\n",
    "df.columns"
   ]
  },
  {
   "cell_type": "code",
   "execution_count": 12,
   "id": "ac2f9c71",
   "metadata": {},
   "outputs": [
    {
     "data": {
      "text/plain": [
       "Date            0\n",
       "AveragePrice    0\n",
       "Total Volume    0\n",
       "4046            0\n",
       "4225            0\n",
       "4770            0\n",
       "Total Bags      0\n",
       "Small Bags      0\n",
       "Large Bags      0\n",
       "XLarge Bags     0\n",
       "type            0\n",
       "year            0\n",
       "region          0\n",
       "dtype: int64"
      ]
     },
     "execution_count": 12,
     "metadata": {},
     "output_type": "execute_result"
    }
   ],
   "source": [
    "# Get a count of the empty values for each column\n",
    "df.isnull().sum()"
   ]
  },
  {
   "cell_type": "markdown",
   "id": "5ebbb42a",
   "metadata": {},
   "source": [
    "There are no null values."
   ]
  },
  {
   "cell_type": "code",
   "execution_count": 13,
   "id": "73b6fe4b",
   "metadata": {},
   "outputs": [
    {
     "data": {
      "text/plain": [
       "False"
      ]
     },
     "execution_count": 13,
     "metadata": {},
     "output_type": "execute_result"
    }
   ],
   "source": [
    "#Check for nay missing/null values in the data\n",
    "df.isnull().values.any()"
   ]
  },
  {
   "cell_type": "code",
   "execution_count": 14,
   "id": "beaff3b0",
   "metadata": {},
   "outputs": [
    {
     "name": "stdout",
     "output_type": "stream",
     "text": [
      "Date :['2015-12-27' '2015-12-20' '2015-12-13' '2015-12-06' '2015-11-29'\n",
      " '2015-11-22' '2015-11-15' '2015-11-08' '2015-11-01' '2015-10-25'\n",
      " '2015-10-18' '2015-10-11' '2015-10-04' '2015-09-27' '2015-09-20'\n",
      " '2015-09-13' '2015-09-06' '2015-08-30' '2015-08-23' '2015-08-16'\n",
      " '2015-08-09' '2015-08-02' '2015-07-26' '2015-07-19' '2015-07-12'\n",
      " '2015-07-05' '2015-06-28' '2015-06-21' '2015-06-14' '2015-06-07'\n",
      " '2015-05-31' '2015-05-24' '2015-05-17' '2015-05-10' '2015-05-03'\n",
      " '2015-04-26' '2015-04-19' '2015-04-12' '2015-04-05' '2015-03-29'\n",
      " '2015-03-22' '2015-03-15' '2015-03-08' '2015-03-01' '2015-02-22'\n",
      " '2015-02-15' '2015-02-08' '2015-02-01' '2015-01-25' '2015-01-18'\n",
      " '2015-01-11' '2015-01-04' '2016-12-25' '2016-12-18' '2016-12-11'\n",
      " '2016-12-04' '2016-11-27' '2016-11-20' '2016-11-13' '2016-11-06'\n",
      " '2016-10-30' '2016-10-23' '2016-10-16' '2016-10-09' '2016-10-02'\n",
      " '2016-09-25' '2016-09-18' '2016-09-11' '2016-09-04' '2016-08-28'\n",
      " '2016-08-21' '2016-08-14' '2016-08-07' '2016-07-31' '2016-07-24'\n",
      " '2016-07-17' '2016-07-10' '2016-07-03' '2016-06-26' '2016-06-19'\n",
      " '2016-06-12' '2016-06-05' '2016-05-29' '2016-05-22' '2016-05-15'\n",
      " '2016-05-08' '2016-05-01' '2016-04-24' '2016-04-17' '2016-04-10'\n",
      " '2016-04-03' '2016-03-27' '2016-03-20' '2016-03-13' '2016-03-06'\n",
      " '2016-02-28' '2016-02-21' '2016-02-14' '2016-02-07' '2016-01-31'\n",
      " '2016-01-24' '2016-01-17' '2016-01-10' '2016-01-03' '2017-12-31'\n",
      " '2017-12-24' '2017-12-17' '2017-12-10' '2017-12-03' '2017-11-26'\n",
      " '2017-11-19' '2017-11-12' '2017-11-05' '2017-10-29' '2017-10-22'\n",
      " '2017-10-15' '2017-10-08' '2017-10-01' '2017-09-24' '2017-09-17'\n",
      " '2017-09-10' '2017-09-03' '2017-08-27' '2017-08-20' '2017-08-13'\n",
      " '2017-08-06' '2017-07-30' '2017-07-23' '2017-07-16' '2017-07-09'\n",
      " '2017-07-02' '2017-06-25' '2017-06-18' '2017-06-11' '2017-06-04'\n",
      " '2017-05-28' '2017-05-21' '2017-05-14' '2017-05-07' '2017-04-30'\n",
      " '2017-04-23' '2017-04-16' '2017-04-09' '2017-04-02' '2017-03-26'\n",
      " '2017-03-19' '2017-03-12' '2017-03-05' '2017-02-26' '2017-02-19'\n",
      " '2017-02-12' '2017-02-05' '2017-01-29' '2017-01-22' '2017-01-15'\n",
      " '2017-01-08' '2017-01-01' '2018-03-25' '2018-03-18' '2018-03-11'\n",
      " '2018-03-04' '2018-02-25' '2018-02-18' '2018-02-11' '2018-02-04'\n",
      " '2018-01-28' '2018-01-21' '2018-01-14' '2018-01-07']\n",
      "2015-03-08    108\n",
      "2015-07-12    108\n",
      "2017-07-23    108\n",
      "2016-11-27    108\n",
      "2016-05-22    108\n",
      "             ... \n",
      "2017-05-14    108\n",
      "2016-09-18    108\n",
      "2017-06-18    107\n",
      "2017-06-25    107\n",
      "2015-12-06    107\n",
      "Name: Date, Length: 169, dtype: int64\n",
      "------------------------\n",
      "type :['conventional' 'organic']\n",
      "conventional    9126\n",
      "organic         9123\n",
      "Name: type, dtype: int64\n",
      "------------------------\n",
      "region :['Albany' 'Atlanta' 'BaltimoreWashington' 'Boise' 'Boston'\n",
      " 'BuffaloRochester' 'California' 'Charlotte' 'Chicago' 'CincinnatiDayton'\n",
      " 'Columbus' 'DallasFtWorth' 'Denver' 'Detroit' 'GrandRapids' 'GreatLakes'\n",
      " 'HarrisburgScranton' 'HartfordSpringfield' 'Houston' 'Indianapolis'\n",
      " 'Jacksonville' 'LasVegas' 'LosAngeles' 'Louisville' 'MiamiFtLauderdale'\n",
      " 'Midsouth' 'Nashville' 'NewOrleansMobile' 'NewYork' 'Northeast'\n",
      " 'NorthernNewEngland' 'Orlando' 'Philadelphia' 'PhoenixTucson'\n",
      " 'Pittsburgh' 'Plains' 'Portland' 'RaleighGreensboro' 'RichmondNorfolk'\n",
      " 'Roanoke' 'Sacramento' 'SanDiego' 'SanFrancisco' 'Seattle'\n",
      " 'SouthCarolina' 'SouthCentral' 'Southeast' 'Spokane' 'StLouis' 'Syracuse'\n",
      " 'Tampa' 'TotalUS' 'West' 'WestTexNewMexico']\n",
      "Roanoke                338\n",
      "Southeast              338\n",
      "SouthCentral           338\n",
      "GreatLakes             338\n",
      "PhoenixTucson          338\n",
      "CincinnatiDayton       338\n",
      "HarrisburgScranton     338\n",
      "NewYork                338\n",
      "Pittsburgh             338\n",
      "Spokane                338\n",
      "West                   338\n",
      "Northeast              338\n",
      "Tampa                  338\n",
      "LasVegas               338\n",
      "Houston                338\n",
      "Portland               338\n",
      "RaleighGreensboro      338\n",
      "BaltimoreWashington    338\n",
      "Syracuse               338\n",
      "RichmondNorfolk        338\n",
      "SanDiego               338\n",
      "NewOrleansMobile       338\n",
      "Boise                  338\n",
      "Denver                 338\n",
      "NorthernNewEngland     338\n",
      "SouthCarolina          338\n",
      "Midsouth               338\n",
      "California             338\n",
      "GrandRapids            338\n",
      "TotalUS                338\n",
      "Jacksonville           338\n",
      "Atlanta                338\n",
      "Indianapolis           338\n",
      "Orlando                338\n",
      "BuffaloRochester       338\n",
      "Seattle                338\n",
      "Louisville             338\n",
      "Chicago                338\n",
      "LosAngeles             338\n",
      "DallasFtWorth          338\n",
      "Albany                 338\n",
      "Columbus               338\n",
      "Boston                 338\n",
      "Plains                 338\n",
      "Sacramento             338\n",
      "StLouis                338\n",
      "Detroit                338\n",
      "Philadelphia           338\n",
      "Charlotte              338\n",
      "HartfordSpringfield    338\n",
      "SanFrancisco           338\n",
      "MiamiFtLauderdale      338\n",
      "Nashville              338\n",
      "WestTexNewMexico       335\n",
      "Name: region, dtype: int64\n",
      "------------------------\n"
     ]
    }
   ],
   "source": [
    "#Print all of the data types and their unique value\n",
    "for column in df.columns:\n",
    "    if df[column].dtype == object:\n",
    "        print(str(column) + ' :'+ str(df[column].unique()))\n",
    "        print(df[column].value_counts())\n",
    "        print('------------------------')"
   ]
  },
  {
   "cell_type": "code",
   "execution_count": 15,
   "id": "1ad411c0",
   "metadata": {},
   "outputs": [
    {
     "data": {
      "text/html": [
       "<div>\n",
       "<style scoped>\n",
       "    .dataframe tbody tr th:only-of-type {\n",
       "        vertical-align: middle;\n",
       "    }\n",
       "\n",
       "    .dataframe tbody tr th {\n",
       "        vertical-align: top;\n",
       "    }\n",
       "\n",
       "    .dataframe thead th {\n",
       "        text-align: right;\n",
       "    }\n",
       "</style>\n",
       "<table border=\"1\" class=\"dataframe\">\n",
       "  <thead>\n",
       "    <tr style=\"text-align: right;\">\n",
       "      <th></th>\n",
       "      <th>Date</th>\n",
       "      <th>AveragePrice</th>\n",
       "      <th>Total Volume</th>\n",
       "      <th>4046</th>\n",
       "      <th>4225</th>\n",
       "      <th>4770</th>\n",
       "      <th>Total Bags</th>\n",
       "      <th>Small Bags</th>\n",
       "      <th>Large Bags</th>\n",
       "      <th>XLarge Bags</th>\n",
       "      <th>type</th>\n",
       "      <th>year</th>\n",
       "      <th>region</th>\n",
       "    </tr>\n",
       "  </thead>\n",
       "  <tbody>\n",
       "    <tr>\n",
       "      <th>0</th>\n",
       "      <td>51</td>\n",
       "      <td>86</td>\n",
       "      <td>7931</td>\n",
       "      <td>4383</td>\n",
       "      <td>10872</td>\n",
       "      <td>1400</td>\n",
       "      <td>5780</td>\n",
       "      <td>5782</td>\n",
       "      <td>1264</td>\n",
       "      <td>0</td>\n",
       "      <td>0</td>\n",
       "      <td>0</td>\n",
       "      <td>0</td>\n",
       "    </tr>\n",
       "    <tr>\n",
       "      <th>1</th>\n",
       "      <td>50</td>\n",
       "      <td>88</td>\n",
       "      <td>7645</td>\n",
       "      <td>3616</td>\n",
       "      <td>10213</td>\n",
       "      <td>1570</td>\n",
       "      <td>6013</td>\n",
       "      <td>5972</td>\n",
       "      <td>1288</td>\n",
       "      <td>0</td>\n",
       "      <td>0</td>\n",
       "      <td>0</td>\n",
       "      <td>0</td>\n",
       "    </tr>\n",
       "    <tr>\n",
       "      <th>2</th>\n",
       "      <td>49</td>\n",
       "      <td>46</td>\n",
       "      <td>9388</td>\n",
       "      <td>3891</td>\n",
       "      <td>12864</td>\n",
       "      <td>2516</td>\n",
       "      <td>5616</td>\n",
       "      <td>5625</td>\n",
       "      <td>1328</td>\n",
       "      <td>0</td>\n",
       "      <td>0</td>\n",
       "      <td>0</td>\n",
       "      <td>0</td>\n",
       "    </tr>\n",
       "    <tr>\n",
       "      <th>3</th>\n",
       "      <td>48</td>\n",
       "      <td>61</td>\n",
       "      <td>8374</td>\n",
       "      <td>4545</td>\n",
       "      <td>11751</td>\n",
       "      <td>1789</td>\n",
       "      <td>4727</td>\n",
       "      <td>4880</td>\n",
       "      <td>1513</td>\n",
       "      <td>0</td>\n",
       "      <td>0</td>\n",
       "      <td>0</td>\n",
       "      <td>0</td>\n",
       "    </tr>\n",
       "    <tr>\n",
       "      <th>4</th>\n",
       "      <td>47</td>\n",
       "      <td>81</td>\n",
       "      <td>7540</td>\n",
       "      <td>4201</td>\n",
       "      <td>10157</td>\n",
       "      <td>1836</td>\n",
       "      <td>4874</td>\n",
       "      <td>4985</td>\n",
       "      <td>1855</td>\n",
       "      <td>0</td>\n",
       "      <td>0</td>\n",
       "      <td>0</td>\n",
       "      <td>0</td>\n",
       "    </tr>\n",
       "    <tr>\n",
       "      <th>...</th>\n",
       "      <td>...</td>\n",
       "      <td>...</td>\n",
       "      <td>...</td>\n",
       "      <td>...</td>\n",
       "      <td>...</td>\n",
       "      <td>...</td>\n",
       "      <td>...</td>\n",
       "      <td>...</td>\n",
       "      <td>...</td>\n",
       "      <td>...</td>\n",
       "      <td>...</td>\n",
       "      <td>...</td>\n",
       "      <td>...</td>\n",
       "    </tr>\n",
       "    <tr>\n",
       "      <th>18244</th>\n",
       "      <td>161</td>\n",
       "      <td>116</td>\n",
       "      <td>5729</td>\n",
       "      <td>5810</td>\n",
       "      <td>3188</td>\n",
       "      <td>0</td>\n",
       "      <td>6785</td>\n",
       "      <td>6648</td>\n",
       "      <td>2676</td>\n",
       "      <td>0</td>\n",
       "      <td>1</td>\n",
       "      <td>3</td>\n",
       "      <td>53</td>\n",
       "    </tr>\n",
       "    <tr>\n",
       "      <th>18245</th>\n",
       "      <td>160</td>\n",
       "      <td>124</td>\n",
       "      <td>5233</td>\n",
       "      <td>4653</td>\n",
       "      <td>4757</td>\n",
       "      <td>0</td>\n",
       "      <td>5955</td>\n",
       "      <td>5864</td>\n",
       "      <td>2340</td>\n",
       "      <td>0</td>\n",
       "      <td>1</td>\n",
       "      <td>3</td>\n",
       "      <td>53</td>\n",
       "    </tr>\n",
       "    <tr>\n",
       "      <th>18246</th>\n",
       "      <td>159</td>\n",
       "      <td>140</td>\n",
       "      <td>5203</td>\n",
       "      <td>4654</td>\n",
       "      <td>3928</td>\n",
       "      <td>4712</td>\n",
       "      <td>5985</td>\n",
       "      <td>5961</td>\n",
       "      <td>818</td>\n",
       "      <td>0</td>\n",
       "      <td>1</td>\n",
       "      <td>3</td>\n",
       "      <td>53</td>\n",
       "    </tr>\n",
       "    <tr>\n",
       "      <th>18247</th>\n",
       "      <td>158</td>\n",
       "      <td>146</td>\n",
       "      <td>5616</td>\n",
       "      <td>5183</td>\n",
       "      <td>4402</td>\n",
       "      <td>4710</td>\n",
       "      <td>6360</td>\n",
       "      <td>6284</td>\n",
       "      <td>901</td>\n",
       "      <td>0</td>\n",
       "      <td>1</td>\n",
       "      <td>3</td>\n",
       "      <td>53</td>\n",
       "    </tr>\n",
       "    <tr>\n",
       "      <th>18248</th>\n",
       "      <td>157</td>\n",
       "      <td>115</td>\n",
       "      <td>5789</td>\n",
       "      <td>6546</td>\n",
       "      <td>3853</td>\n",
       "      <td>3252</td>\n",
       "      <td>6541</td>\n",
       "      <td>6460</td>\n",
       "      <td>594</td>\n",
       "      <td>0</td>\n",
       "      <td>1</td>\n",
       "      <td>3</td>\n",
       "      <td>53</td>\n",
       "    </tr>\n",
       "  </tbody>\n",
       "</table>\n",
       "<p>18249 rows × 13 columns</p>\n",
       "</div>"
      ],
      "text/plain": [
       "       Date  AveragePrice  Total Volume  4046   4225  4770  Total Bags  \\\n",
       "0        51            86          7931  4383  10872  1400        5780   \n",
       "1        50            88          7645  3616  10213  1570        6013   \n",
       "2        49            46          9388  3891  12864  2516        5616   \n",
       "3        48            61          8374  4545  11751  1789        4727   \n",
       "4        47            81          7540  4201  10157  1836        4874   \n",
       "...     ...           ...           ...   ...    ...   ...         ...   \n",
       "18244   161           116          5729  5810   3188     0        6785   \n",
       "18245   160           124          5233  4653   4757     0        5955   \n",
       "18246   159           140          5203  4654   3928  4712        5985   \n",
       "18247   158           146          5616  5183   4402  4710        6360   \n",
       "18248   157           115          5789  6546   3853  3252        6541   \n",
       "\n",
       "       Small Bags  Large Bags  XLarge Bags  type  year  region  \n",
       "0            5782        1264            0     0     0       0  \n",
       "1            5972        1288            0     0     0       0  \n",
       "2            5625        1328            0     0     0       0  \n",
       "3            4880        1513            0     0     0       0  \n",
       "4            4985        1855            0     0     0       0  \n",
       "...           ...         ...          ...   ...   ...     ...  \n",
       "18244        6648        2676            0     1     3      53  \n",
       "18245        5864        2340            0     1     3      53  \n",
       "18246        5961         818            0     1     3      53  \n",
       "18247        6284         901            0     1     3      53  \n",
       "18248        6460         594            0     1     3      53  \n",
       "\n",
       "[18249 rows x 13 columns]"
      ]
     },
     "execution_count": 15,
     "metadata": {},
     "output_type": "execute_result"
    }
   ],
   "source": [
    "le= LabelEncoder()\n",
    "df= df.apply(LabelEncoder().fit_transform)\n",
    "df"
   ]
  },
  {
   "cell_type": "code",
   "execution_count": 16,
   "id": "bcfc5d20",
   "metadata": {},
   "outputs": [
    {
     "data": {
      "text/plain": [
       "Date            int32\n",
       "AveragePrice    int64\n",
       "Total Volume    int64\n",
       "4046            int64\n",
       "4225            int64\n",
       "4770            int64\n",
       "Total Bags      int64\n",
       "Small Bags      int64\n",
       "Large Bags      int64\n",
       "XLarge Bags     int64\n",
       "type            int32\n",
       "year            int64\n",
       "region          int32\n",
       "dtype: object"
      ]
     },
     "execution_count": 16,
     "metadata": {},
     "output_type": "execute_result"
    }
   ],
   "source": [
    "df.dtypes"
   ]
  },
  {
   "cell_type": "markdown",
   "id": "0f074b86",
   "metadata": {},
   "source": [
    "Now data types is int for all variables."
   ]
  },
  {
   "cell_type": "code",
   "execution_count": 17,
   "id": "3ff8b598",
   "metadata": {},
   "outputs": [
    {
     "data": {
      "text/plain": [
       "Date               AxesSubplot(0.125,0.816017;0.168478x0.0639831)\n",
       "AveragePrice    AxesSubplot(0.327174,0.816017;0.168478x0.0639831)\n",
       "Total Volume    AxesSubplot(0.529348,0.816017;0.168478x0.0639831)\n",
       "4046            AxesSubplot(0.731522,0.816017;0.168478x0.0639831)\n",
       "4225               AxesSubplot(0.125,0.739237;0.168478x0.0639831)\n",
       "4770            AxesSubplot(0.327174,0.739237;0.168478x0.0639831)\n",
       "Total Bags      AxesSubplot(0.529348,0.739237;0.168478x0.0639831)\n",
       "Small Bags      AxesSubplot(0.731522,0.739237;0.168478x0.0639831)\n",
       "Large Bags         AxesSubplot(0.125,0.662458;0.168478x0.0639831)\n",
       "XLarge Bags     AxesSubplot(0.327174,0.662458;0.168478x0.0639831)\n",
       "type            AxesSubplot(0.529348,0.662458;0.168478x0.0639831)\n",
       "year            AxesSubplot(0.731522,0.662458;0.168478x0.0639831)\n",
       "region             AxesSubplot(0.125,0.585678;0.168478x0.0639831)\n",
       "dtype: object"
      ]
     },
     "execution_count": 17,
     "metadata": {},
     "output_type": "execute_result"
    },
    {
     "data": {
      "image/png": "[encoded data removed]",
      "text/plain": [
       "<Figure size 432x288 with 40 Axes>"
      ]
     },
     "metadata": {
      "needs_background": "light"
     },
     "output_type": "display_data"
    }
   ],
   "source": [
    "df.plot(kind='box',subplots=True,layout=(10,4))"
   ]
  },
  {
   "cell_type": "markdown",
   "id": "c1bc58b9",
   "metadata": {},
   "source": [
    "No outliers are present."
   ]
  },
  {
   "cell_type": "markdown",
   "id": "41266066",
   "metadata": {},
   "source": [
    "# Consider target is AveragePrice solve by Using Regression "
   ]
  },
  {
   "cell_type": "code",
   "execution_count": 18,
   "id": "be5acea9",
   "metadata": {},
   "outputs": [
    {
     "data": {
      "text/html": [
       "<div>\n",
       "<style scoped>\n",
       "    .dataframe tbody tr th:only-of-type {\n",
       "        vertical-align: middle;\n",
       "    }\n",
       "\n",
       "    .dataframe tbody tr th {\n",
       "        vertical-align: top;\n",
       "    }\n",
       "\n",
       "    .dataframe thead th {\n",
       "        text-align: right;\n",
       "    }\n",
       "</style>\n",
       "<table border=\"1\" class=\"dataframe\">\n",
       "  <thead>\n",
       "    <tr style=\"text-align: right;\">\n",
       "      <th></th>\n",
       "      <th>Date</th>\n",
       "      <th>AveragePrice</th>\n",
       "      <th>Total Volume</th>\n",
       "      <th>4046</th>\n",
       "      <th>4225</th>\n",
       "      <th>4770</th>\n",
       "      <th>Total Bags</th>\n",
       "      <th>Small Bags</th>\n",
       "      <th>Large Bags</th>\n",
       "      <th>XLarge Bags</th>\n",
       "      <th>type</th>\n",
       "      <th>year</th>\n",
       "      <th>region</th>\n",
       "    </tr>\n",
       "  </thead>\n",
       "  <tbody>\n",
       "    <tr>\n",
       "      <th>count</th>\n",
       "      <td>18249.000000</td>\n",
       "      <td>18249.000000</td>\n",
       "      <td>18249.000000</td>\n",
       "      <td>18249.000000</td>\n",
       "      <td>18249.000000</td>\n",
       "      <td>18249.000000</td>\n",
       "      <td>18249.000000</td>\n",
       "      <td>18249.000000</td>\n",
       "      <td>18249.000000</td>\n",
       "      <td>18249.000000</td>\n",
       "      <td>18249.000000</td>\n",
       "      <td>18249.000000</td>\n",
       "      <td>18249.000000</td>\n",
       "    </tr>\n",
       "    <tr>\n",
       "      <th>mean</th>\n",
       "      <td>83.997096</td>\n",
       "      <td>93.595265</td>\n",
       "      <td>9114.688312</td>\n",
       "      <td>8601.745356</td>\n",
       "      <td>8984.864376</td>\n",
       "      <td>4029.833142</td>\n",
       "      <td>8982.184777</td>\n",
       "      <td>8263.606115</td>\n",
       "      <td>6261.255850</td>\n",
       "      <td>893.316894</td>\n",
       "      <td>0.499918</td>\n",
       "      <td>1.147899</td>\n",
       "      <td>26.495644</td>\n",
       "    </tr>\n",
       "    <tr>\n",
       "      <th>std</th>\n",
       "      <td>48.787638</td>\n",
       "      <td>40.253995</td>\n",
       "      <td>5265.433348</td>\n",
       "      <td>5232.888735</td>\n",
       "      <td>5258.854866</td>\n",
       "      <td>3996.027809</td>\n",
       "      <td>5253.461654</td>\n",
       "      <td>5168.860788</td>\n",
       "      <td>4852.398211</td>\n",
       "      <td>1569.392283</td>\n",
       "      <td>0.500014</td>\n",
       "      <td>0.939938</td>\n",
       "      <td>15.583788</td>\n",
       "    </tr>\n",
       "    <tr>\n",
       "      <th>min</th>\n",
       "      <td>0.000000</td>\n",
       "      <td>0.000000</td>\n",
       "      <td>0.000000</td>\n",
       "      <td>0.000000</td>\n",
       "      <td>0.000000</td>\n",
       "      <td>0.000000</td>\n",
       "      <td>0.000000</td>\n",
       "      <td>0.000000</td>\n",
       "      <td>0.000000</td>\n",
       "      <td>0.000000</td>\n",
       "      <td>0.000000</td>\n",
       "      <td>0.000000</td>\n",
       "      <td>0.000000</td>\n",
       "    </tr>\n",
       "    <tr>\n",
       "      <th>25%</th>\n",
       "      <td>42.000000</td>\n",
       "      <td>63.000000</td>\n",
       "      <td>4554.000000</td>\n",
       "      <td>4032.000000</td>\n",
       "      <td>4426.000000</td>\n",
       "      <td>0.000000</td>\n",
       "      <td>4414.000000</td>\n",
       "      <td>3651.000000</td>\n",
       "      <td>1479.000000</td>\n",
       "      <td>0.000000</td>\n",
       "      <td>0.000000</td>\n",
       "      <td>0.000000</td>\n",
       "      <td>13.000000</td>\n",
       "    </tr>\n",
       "    <tr>\n",
       "      <th>50%</th>\n",
       "      <td>84.000000</td>\n",
       "      <td>90.000000</td>\n",
       "      <td>9113.000000</td>\n",
       "      <td>8579.000000</td>\n",
       "      <td>8979.000000</td>\n",
       "      <td>2993.000000</td>\n",
       "      <td>8973.000000</td>\n",
       "      <td>8199.000000</td>\n",
       "      <td>5969.000000</td>\n",
       "      <td>0.000000</td>\n",
       "      <td>0.000000</td>\n",
       "      <td>1.000000</td>\n",
       "      <td>26.000000</td>\n",
       "    </tr>\n",
       "    <tr>\n",
       "      <th>75%</th>\n",
       "      <td>126.000000</td>\n",
       "      <td>119.000000</td>\n",
       "      <td>13675.000000</td>\n",
       "      <td>13139.000000</td>\n",
       "      <td>13540.000000</td>\n",
       "      <td>7508.000000</td>\n",
       "      <td>13534.000000</td>\n",
       "      <td>12758.000000</td>\n",
       "      <td>10520.000000</td>\n",
       "      <td>1270.000000</td>\n",
       "      <td>1.000000</td>\n",
       "      <td>2.000000</td>\n",
       "      <td>40.000000</td>\n",
       "    </tr>\n",
       "    <tr>\n",
       "      <th>max</th>\n",
       "      <td>168.000000</td>\n",
       "      <td>258.000000</td>\n",
       "      <td>18236.000000</td>\n",
       "      <td>17701.000000</td>\n",
       "      <td>18102.000000</td>\n",
       "      <td>12070.000000</td>\n",
       "      <td>18096.000000</td>\n",
       "      <td>17320.000000</td>\n",
       "      <td>15081.000000</td>\n",
       "      <td>5587.000000</td>\n",
       "      <td>1.000000</td>\n",
       "      <td>3.000000</td>\n",
       "      <td>53.000000</td>\n",
       "    </tr>\n",
       "  </tbody>\n",
       "</table>\n",
       "</div>"
      ],
      "text/plain": [
       "               Date  AveragePrice  Total Volume          4046          4225  \\\n",
       "count  18249.000000  18249.000000  18249.000000  18249.000000  18249.000000   \n",
       "mean      83.997096     93.595265   9114.688312   8601.745356   8984.864376   \n",
       "std       48.787638     40.253995   5265.433348   5232.888735   5258.854866   \n",
       "min        0.000000      0.000000      0.000000      0.000000      0.000000   \n",
       "25%       42.000000     63.000000   4554.000000   4032.000000   4426.000000   \n",
       "50%       84.000000     90.000000   9113.000000   8579.000000   8979.000000   \n",
       "75%      126.000000    119.000000  13675.000000  13139.000000  13540.000000   \n",
       "max      168.000000    258.000000  18236.000000  17701.000000  18102.000000   \n",
       "\n",
       "               4770    Total Bags    Small Bags    Large Bags   XLarge Bags  \\\n",
       "count  18249.000000  18249.000000  18249.000000  18249.000000  18249.000000   \n",
       "mean    4029.833142   8982.184777   8263.606115   6261.255850    893.316894   \n",
       "std     3996.027809   5253.461654   5168.860788   4852.398211   1569.392283   \n",
       "min        0.000000      0.000000      0.000000      0.000000      0.000000   \n",
       "25%        0.000000   4414.000000   3651.000000   1479.000000      0.000000   \n",
       "50%     2993.000000   8973.000000   8199.000000   5969.000000      0.000000   \n",
       "75%     7508.000000  13534.000000  12758.000000  10520.000000   1270.000000   \n",
       "max    12070.000000  18096.000000  17320.000000  15081.000000   5587.000000   \n",
       "\n",
       "               type          year        region  \n",
       "count  18249.000000  18249.000000  18249.000000  \n",
       "mean       0.499918      1.147899     26.495644  \n",
       "std        0.500014      0.939938     15.583788  \n",
       "min        0.000000      0.000000      0.000000  \n",
       "25%        0.000000      0.000000     13.000000  \n",
       "50%        0.000000      1.000000     26.000000  \n",
       "75%        1.000000      2.000000     40.000000  \n",
       "max        1.000000      3.000000     53.000000  "
      ]
     },
     "execution_count": 18,
     "metadata": {},
     "output_type": "execute_result"
    }
   ],
   "source": [
    "df.describe()"
   ]
  },
  {
   "cell_type": "markdown",
   "id": "6e897170",
   "metadata": {},
   "source": [
    "The minimum average price is 0 and max is 258.\n",
    "no outliers are presents.\n",
    "\n"
   ]
  },
  {
   "cell_type": "code",
   "execution_count": 19,
   "id": "d9403e69",
   "metadata": {},
   "outputs": [
    {
     "data": {
      "text/html": [
       "<div>\n",
       "<style scoped>\n",
       "    .dataframe tbody tr th:only-of-type {\n",
       "        vertical-align: middle;\n",
       "    }\n",
       "\n",
       "    .dataframe tbody tr th {\n",
       "        vertical-align: top;\n",
       "    }\n",
       "\n",
       "    .dataframe thead th {\n",
       "        text-align: right;\n",
       "    }\n",
       "</style>\n",
       "<table border=\"1\" class=\"dataframe\">\n",
       "  <thead>\n",
       "    <tr style=\"text-align: right;\">\n",
       "      <th></th>\n",
       "      <th>Date</th>\n",
       "      <th>AveragePrice</th>\n",
       "      <th>Total Volume</th>\n",
       "      <th>4046</th>\n",
       "      <th>4225</th>\n",
       "      <th>4770</th>\n",
       "      <th>Total Bags</th>\n",
       "      <th>Small Bags</th>\n",
       "      <th>Large Bags</th>\n",
       "      <th>XLarge Bags</th>\n",
       "      <th>type</th>\n",
       "      <th>year</th>\n",
       "      <th>region</th>\n",
       "    </tr>\n",
       "  </thead>\n",
       "  <tbody>\n",
       "    <tr>\n",
       "      <th>Date</th>\n",
       "      <td>1.000000</td>\n",
       "      <td>0.145533</td>\n",
       "      <td>0.074852</td>\n",
       "      <td>0.000498</td>\n",
       "      <td>-0.004087</td>\n",
       "      <td>-0.065781</td>\n",
       "      <td>0.198822</td>\n",
       "      <td>0.175062</td>\n",
       "      <td>0.172256</td>\n",
       "      <td>0.159309</td>\n",
       "      <td>-0.000060</td>\n",
       "      <td>0.950274</td>\n",
       "      <td>-0.000101</td>\n",
       "    </tr>\n",
       "    <tr>\n",
       "      <th>AveragePrice</th>\n",
       "      <td>0.145533</td>\n",
       "      <td>1.000000</td>\n",
       "      <td>-0.589341</td>\n",
       "      <td>-0.570148</td>\n",
       "      <td>-0.490201</td>\n",
       "      <td>-0.513770</td>\n",
       "      <td>-0.581311</td>\n",
       "      <td>-0.525067</td>\n",
       "      <td>-0.498835</td>\n",
       "      <td>-0.339222</td>\n",
       "      <td>0.615982</td>\n",
       "      <td>0.093216</td>\n",
       "      <td>-0.011796</td>\n",
       "    </tr>\n",
       "    <tr>\n",
       "      <th>Total Volume</th>\n",
       "      <td>0.074852</td>\n",
       "      <td>-0.589341</td>\n",
       "      <td>1.000000</td>\n",
       "      <td>0.903278</td>\n",
       "      <td>0.940148</td>\n",
       "      <td>0.810884</td>\n",
       "      <td>0.952844</td>\n",
       "      <td>0.928842</td>\n",
       "      <td>0.708302</td>\n",
       "      <td>0.600745</td>\n",
       "      <td>-0.808491</td>\n",
       "      <td>0.085824</td>\n",
       "      <td>0.095988</td>\n",
       "    </tr>\n",
       "    <tr>\n",
       "      <th>4046</th>\n",
       "      <td>0.000498</td>\n",
       "      <td>-0.570148</td>\n",
       "      <td>0.903278</td>\n",
       "      <td>1.000000</td>\n",
       "      <td>0.793995</td>\n",
       "      <td>0.741457</td>\n",
       "      <td>0.838443</td>\n",
       "      <td>0.826777</td>\n",
       "      <td>0.647191</td>\n",
       "      <td>0.562309</td>\n",
       "      <td>-0.748193</td>\n",
       "      <td>0.011444</td>\n",
       "      <td>0.184896</td>\n",
       "    </tr>\n",
       "    <tr>\n",
       "      <th>4225</th>\n",
       "      <td>-0.004087</td>\n",
       "      <td>-0.490201</td>\n",
       "      <td>0.940148</td>\n",
       "      <td>0.793995</td>\n",
       "      <td>1.000000</td>\n",
       "      <td>0.801623</td>\n",
       "      <td>0.857661</td>\n",
       "      <td>0.838541</td>\n",
       "      <td>0.639056</td>\n",
       "      <td>0.577395</td>\n",
       "      <td>-0.780779</td>\n",
       "      <td>0.006278</td>\n",
       "      <td>0.068547</td>\n",
       "    </tr>\n",
       "    <tr>\n",
       "      <th>4770</th>\n",
       "      <td>-0.065781</td>\n",
       "      <td>-0.513770</td>\n",
       "      <td>0.810884</td>\n",
       "      <td>0.741457</td>\n",
       "      <td>0.801623</td>\n",
       "      <td>1.000000</td>\n",
       "      <td>0.757695</td>\n",
       "      <td>0.767877</td>\n",
       "      <td>0.554446</td>\n",
       "      <td>0.624137</td>\n",
       "      <td>-0.748100</td>\n",
       "      <td>-0.055180</td>\n",
       "      <td>0.050078</td>\n",
       "    </tr>\n",
       "    <tr>\n",
       "      <th>Total Bags</th>\n",
       "      <td>0.198822</td>\n",
       "      <td>-0.581311</td>\n",
       "      <td>0.952844</td>\n",
       "      <td>0.838443</td>\n",
       "      <td>0.857661</td>\n",
       "      <td>0.757695</td>\n",
       "      <td>1.000000</td>\n",
       "      <td>0.962575</td>\n",
       "      <td>0.758396</td>\n",
       "      <td>0.594852</td>\n",
       "      <td>-0.754928</td>\n",
       "      <td>0.205703</td>\n",
       "      <td>0.098432</td>\n",
       "    </tr>\n",
       "    <tr>\n",
       "      <th>Small Bags</th>\n",
       "      <td>0.175062</td>\n",
       "      <td>-0.525067</td>\n",
       "      <td>0.928842</td>\n",
       "      <td>0.826777</td>\n",
       "      <td>0.838541</td>\n",
       "      <td>0.767877</td>\n",
       "      <td>0.962575</td>\n",
       "      <td>1.000000</td>\n",
       "      <td>0.612231</td>\n",
       "      <td>0.590193</td>\n",
       "      <td>-0.757381</td>\n",
       "      <td>0.180780</td>\n",
       "      <td>0.094037</td>\n",
       "    </tr>\n",
       "    <tr>\n",
       "      <th>Large Bags</th>\n",
       "      <td>0.172256</td>\n",
       "      <td>-0.498835</td>\n",
       "      <td>0.708302</td>\n",
       "      <td>0.647191</td>\n",
       "      <td>0.639056</td>\n",
       "      <td>0.554446</td>\n",
       "      <td>0.758396</td>\n",
       "      <td>0.612231</td>\n",
       "      <td>1.000000</td>\n",
       "      <td>0.474620</td>\n",
       "      <td>-0.527684</td>\n",
       "      <td>0.180002</td>\n",
       "      <td>0.121728</td>\n",
       "    </tr>\n",
       "    <tr>\n",
       "      <th>XLarge Bags</th>\n",
       "      <td>0.159309</td>\n",
       "      <td>-0.339222</td>\n",
       "      <td>0.600745</td>\n",
       "      <td>0.562309</td>\n",
       "      <td>0.577395</td>\n",
       "      <td>0.624137</td>\n",
       "      <td>0.594852</td>\n",
       "      <td>0.590193</td>\n",
       "      <td>0.474620</td>\n",
       "      <td>1.000000</td>\n",
       "      <td>-0.561368</td>\n",
       "      <td>0.160041</td>\n",
       "      <td>0.012659</td>\n",
       "    </tr>\n",
       "    <tr>\n",
       "      <th>type</th>\n",
       "      <td>-0.000060</td>\n",
       "      <td>0.615982</td>\n",
       "      <td>-0.808491</td>\n",
       "      <td>-0.748193</td>\n",
       "      <td>-0.780779</td>\n",
       "      <td>-0.748100</td>\n",
       "      <td>-0.754928</td>\n",
       "      <td>-0.757381</td>\n",
       "      <td>-0.527684</td>\n",
       "      <td>-0.561368</td>\n",
       "      <td>1.000000</td>\n",
       "      <td>-0.000032</td>\n",
       "      <td>-0.000280</td>\n",
       "    </tr>\n",
       "    <tr>\n",
       "      <th>year</th>\n",
       "      <td>0.950274</td>\n",
       "      <td>0.093216</td>\n",
       "      <td>0.085824</td>\n",
       "      <td>0.011444</td>\n",
       "      <td>0.006278</td>\n",
       "      <td>-0.055180</td>\n",
       "      <td>0.205703</td>\n",
       "      <td>0.180780</td>\n",
       "      <td>0.180002</td>\n",
       "      <td>0.160041</td>\n",
       "      <td>-0.000032</td>\n",
       "      <td>1.000000</td>\n",
       "      <td>-0.000055</td>\n",
       "    </tr>\n",
       "    <tr>\n",
       "      <th>region</th>\n",
       "      <td>-0.000101</td>\n",
       "      <td>-0.011796</td>\n",
       "      <td>0.095988</td>\n",
       "      <td>0.184896</td>\n",
       "      <td>0.068547</td>\n",
       "      <td>0.050078</td>\n",
       "      <td>0.098432</td>\n",
       "      <td>0.094037</td>\n",
       "      <td>0.121728</td>\n",
       "      <td>0.012659</td>\n",
       "      <td>-0.000280</td>\n",
       "      <td>-0.000055</td>\n",
       "      <td>1.000000</td>\n",
       "    </tr>\n",
       "  </tbody>\n",
       "</table>\n",
       "</div>"
      ],
      "text/plain": [
       "                  Date  AveragePrice  Total Volume      4046      4225  \\\n",
       "Date          1.000000      0.145533      0.074852  0.000498 -0.004087   \n",
       "AveragePrice  0.145533      1.000000     -0.589341 -0.570148 -0.490201   \n",
       "Total Volume  0.074852     -0.589341      1.000000  0.903278  0.940148   \n",
       "4046          0.000498     -0.570148      0.903278  1.000000  0.793995   \n",
       "4225         -0.004087     -0.490201      0.940148  0.793995  1.000000   \n",
       "4770         -0.065781     -0.513770      0.810884  0.741457  0.801623   \n",
       "Total Bags    0.198822     -0.581311      0.952844  0.838443  0.857661   \n",
       "Small Bags    0.175062     -0.525067      0.928842  0.826777  0.838541   \n",
       "Large Bags    0.172256     -0.498835      0.708302  0.647191  0.639056   \n",
       "XLarge Bags   0.159309     -0.339222      0.600745  0.562309  0.577395   \n",
       "type         -0.000060      0.615982     -0.808491 -0.748193 -0.780779   \n",
       "year          0.950274      0.093216      0.085824  0.011444  0.006278   \n",
       "region       -0.000101     -0.011796      0.095988  0.184896  0.068547   \n",
       "\n",
       "                  4770  Total Bags  Small Bags  Large Bags  XLarge Bags  \\\n",
       "Date         -0.065781    0.198822    0.175062    0.172256     0.159309   \n",
       "AveragePrice -0.513770   -0.581311   -0.525067   -0.498835    -0.339222   \n",
       "Total Volume  0.810884    0.952844    0.928842    0.708302     0.600745   \n",
       "4046          0.741457    0.838443    0.826777    0.647191     0.562309   \n",
       "4225          0.801623    0.857661    0.838541    0.639056     0.577395   \n",
       "4770          1.000000    0.757695    0.767877    0.554446     0.624137   \n",
       "Total Bags    0.757695    1.000000    0.962575    0.758396     0.594852   \n",
       "Small Bags    0.767877    0.962575    1.000000    0.612231     0.590193   \n",
       "Large Bags    0.554446    0.758396    0.612231    1.000000     0.474620   \n",
       "XLarge Bags   0.624137    0.594852    0.590193    0.474620     1.000000   \n",
       "type         -0.748100   -0.754928   -0.757381   -0.527684    -0.561368   \n",
       "year         -0.055180    0.205703    0.180780    0.180002     0.160041   \n",
       "region        0.050078    0.098432    0.094037    0.121728     0.012659   \n",
       "\n",
       "                  type      year    region  \n",
       "Date         -0.000060  0.950274 -0.000101  \n",
       "AveragePrice  0.615982  0.093216 -0.011796  \n",
       "Total Volume -0.808491  0.085824  0.095988  \n",
       "4046         -0.748193  0.011444  0.184896  \n",
       "4225         -0.780779  0.006278  0.068547  \n",
       "4770         -0.748100 -0.055180  0.050078  \n",
       "Total Bags   -0.754928  0.205703  0.098432  \n",
       "Small Bags   -0.757381  0.180780  0.094037  \n",
       "Large Bags   -0.527684  0.180002  0.121728  \n",
       "XLarge Bags  -0.561368  0.160041  0.012659  \n",
       "type          1.000000 -0.000032 -0.000280  \n",
       "year         -0.000032  1.000000 -0.000055  \n",
       "region       -0.000280 -0.000055  1.000000  "
      ]
     },
     "execution_count": 19,
     "metadata": {},
     "output_type": "execute_result"
    }
   ],
   "source": [
    "cor=df.corr()\n",
    "cor"
   ]
  },
  {
   "cell_type": "code",
   "execution_count": 20,
   "id": "45789392",
   "metadata": {},
   "outputs": [
    {
     "data": {
      "text/plain": [
       "<AxesSubplot:>"
      ]
     },
     "execution_count": 20,
     "metadata": {},
     "output_type": "execute_result"
    },
    {
     "data": {
      "image/png": "[encoded data removed]",
      "text/plain": [
       "<Figure size 648x648 with 2 Axes>"
      ]
     },
     "metadata": {
      "needs_background": "light"
     },
     "output_type": "display_data"
    }
   ],
   "source": [
    "plt.figure(figsize=(9,9))\n",
    "sn.heatmap(cor,annot=True,linewidths=6,linecolor='r')"
   ]
  },
  {
   "cell_type": "code",
   "execution_count": 21,
   "id": "31e589d8",
   "metadata": {},
   "outputs": [
    {
     "data": {
      "text/plain": [
       "Date            0.000117\n",
       "AveragePrice    0.577300\n",
       "Total Volume    0.000753\n",
       "4046            0.016272\n",
       "4225            0.003850\n",
       "4770            0.510735\n",
       "Total Bags      0.007023\n",
       "Small Bags      0.048568\n",
       "Large Bags      0.188522\n",
       "XLarge Bags     1.610157\n",
       "type            0.000329\n",
       "year            0.215339\n",
       "region          0.000030\n",
       "dtype: float64"
      ]
     },
     "execution_count": 21,
     "metadata": {},
     "output_type": "execute_result"
    }
   ],
   "source": [
    "df.skew()"
   ]
  },
  {
   "cell_type": "code",
   "execution_count": 22,
   "id": "e5611946",
   "metadata": {},
   "outputs": [
    {
     "data": {
      "image/png": "[encoded data removed]",
      "text/plain": [
       "<Figure size 432x288 with 1 Axes>"
      ]
     },
     "metadata": {
      "needs_background": "light"
     },
     "output_type": "display_data"
    }
   ],
   "source": [
    "sn.distplot(df['Total Volume'])\n",
    "plt.show()"
   ]
  },
  {
   "cell_type": "markdown",
   "id": "846f80d5",
   "metadata": {},
   "source": [
    "Total Volume is between 0 and more then 15000."
   ]
  },
  {
   "cell_type": "code",
   "execution_count": 23,
   "id": "f75ee89f",
   "metadata": {},
   "outputs": [
    {
     "data": {
      "image/png": "[encoded data removed]",
      "text/plain": [
       "<Figure size 432x432 with 1 Axes>"
      ]
     },
     "metadata": {
      "needs_background": "light"
     },
     "output_type": "display_data"
    }
   ],
   "source": [
    "plt.figure(figsize=(6,6))\n",
    "sn.distplot(df['4046'])\n",
    "plt.show()"
   ]
  },
  {
   "cell_type": "code",
   "execution_count": 24,
   "id": "bfebe647",
   "metadata": {},
   "outputs": [
    {
     "data": {
      "image/png": "[encoded data removed]",
      "text/plain": [
       "<Figure size 432x432 with 1 Axes>"
      ]
     },
     "metadata": {
      "needs_background": "light"
     },
     "output_type": "display_data"
    }
   ],
   "source": [
    "plt.figure(figsize=(6,6))\n",
    "sn.distplot(df['4225'])\n",
    "plt.show()"
   ]
  },
  {
   "cell_type": "code",
   "execution_count": 25,
   "id": "350566f5",
   "metadata": {},
   "outputs": [
    {
     "data": {
      "image/png": "[encoded data removed]",
      "text/plain": [
       "<Figure size 720x720 with 1 Axes>"
      ]
     },
     "metadata": {
      "needs_background": "light"
     },
     "output_type": "display_data"
    }
   ],
   "source": [
    "plt.figure(figsize=(10,10))\n",
    "sn.countplot(x='region',data=df)\n",
    "plt.show()"
   ]
  },
  {
   "cell_type": "code",
   "execution_count": 26,
   "id": "b176a3ac",
   "metadata": {
    "scrolled": true
   },
   "outputs": [
    {
     "data": {
      "image/png": "[encoded data removed]",
      "text/plain": [
       "<Figure size 432x432 with 1 Axes>"
      ]
     },
     "metadata": {
      "needs_background": "light"
     },
     "output_type": "display_data"
    }
   ],
   "source": [
    "plt.figure(figsize=(6,6))\n",
    "sn.countplot(x='year',data=df)\n",
    "plt.show()"
   ]
  },
  {
   "cell_type": "code",
   "execution_count": 27,
   "id": "4011a39e",
   "metadata": {},
   "outputs": [],
   "source": [
    "x= df.drop('AveragePrice',axis=1)\n",
    "y=df['AveragePrice']"
   ]
  },
  {
   "cell_type": "code",
   "execution_count": 28,
   "id": "e66507c6",
   "metadata": {},
   "outputs": [
    {
     "data": {
      "text/html": [
       "<div>\n",
       "<style scoped>\n",
       "    .dataframe tbody tr th:only-of-type {\n",
       "        vertical-align: middle;\n",
       "    }\n",
       "\n",
       "    .dataframe tbody tr th {\n",
       "        vertical-align: top;\n",
       "    }\n",
       "\n",
       "    .dataframe thead th {\n",
       "        text-align: right;\n",
       "    }\n",
       "</style>\n",
       "<table border=\"1\" class=\"dataframe\">\n",
       "  <thead>\n",
       "    <tr style=\"text-align: right;\">\n",
       "      <th></th>\n",
       "      <th>Date</th>\n",
       "      <th>Total Volume</th>\n",
       "      <th>4046</th>\n",
       "      <th>4225</th>\n",
       "      <th>4770</th>\n",
       "      <th>Total Bags</th>\n",
       "      <th>Small Bags</th>\n",
       "      <th>Large Bags</th>\n",
       "      <th>XLarge Bags</th>\n",
       "      <th>type</th>\n",
       "      <th>year</th>\n",
       "      <th>region</th>\n",
       "    </tr>\n",
       "  </thead>\n",
       "  <tbody>\n",
       "    <tr>\n",
       "      <th>0</th>\n",
       "      <td>51</td>\n",
       "      <td>7931</td>\n",
       "      <td>4383</td>\n",
       "      <td>10872</td>\n",
       "      <td>1400</td>\n",
       "      <td>5780</td>\n",
       "      <td>5782</td>\n",
       "      <td>1264</td>\n",
       "      <td>0</td>\n",
       "      <td>0</td>\n",
       "      <td>0</td>\n",
       "      <td>0</td>\n",
       "    </tr>\n",
       "    <tr>\n",
       "      <th>1</th>\n",
       "      <td>50</td>\n",
       "      <td>7645</td>\n",
       "      <td>3616</td>\n",
       "      <td>10213</td>\n",
       "      <td>1570</td>\n",
       "      <td>6013</td>\n",
       "      <td>5972</td>\n",
       "      <td>1288</td>\n",
       "      <td>0</td>\n",
       "      <td>0</td>\n",
       "      <td>0</td>\n",
       "      <td>0</td>\n",
       "    </tr>\n",
       "    <tr>\n",
       "      <th>2</th>\n",
       "      <td>49</td>\n",
       "      <td>9388</td>\n",
       "      <td>3891</td>\n",
       "      <td>12864</td>\n",
       "      <td>2516</td>\n",
       "      <td>5616</td>\n",
       "      <td>5625</td>\n",
       "      <td>1328</td>\n",
       "      <td>0</td>\n",
       "      <td>0</td>\n",
       "      <td>0</td>\n",
       "      <td>0</td>\n",
       "    </tr>\n",
       "    <tr>\n",
       "      <th>3</th>\n",
       "      <td>48</td>\n",
       "      <td>8374</td>\n",
       "      <td>4545</td>\n",
       "      <td>11751</td>\n",
       "      <td>1789</td>\n",
       "      <td>4727</td>\n",
       "      <td>4880</td>\n",
       "      <td>1513</td>\n",
       "      <td>0</td>\n",
       "      <td>0</td>\n",
       "      <td>0</td>\n",
       "      <td>0</td>\n",
       "    </tr>\n",
       "    <tr>\n",
       "      <th>4</th>\n",
       "      <td>47</td>\n",
       "      <td>7540</td>\n",
       "      <td>4201</td>\n",
       "      <td>10157</td>\n",
       "      <td>1836</td>\n",
       "      <td>4874</td>\n",
       "      <td>4985</td>\n",
       "      <td>1855</td>\n",
       "      <td>0</td>\n",
       "      <td>0</td>\n",
       "      <td>0</td>\n",
       "      <td>0</td>\n",
       "    </tr>\n",
       "    <tr>\n",
       "      <th>...</th>\n",
       "      <td>...</td>\n",
       "      <td>...</td>\n",
       "      <td>...</td>\n",
       "      <td>...</td>\n",
       "      <td>...</td>\n",
       "      <td>...</td>\n",
       "      <td>...</td>\n",
       "      <td>...</td>\n",
       "      <td>...</td>\n",
       "      <td>...</td>\n",
       "      <td>...</td>\n",
       "      <td>...</td>\n",
       "    </tr>\n",
       "    <tr>\n",
       "      <th>18244</th>\n",
       "      <td>161</td>\n",
       "      <td>5729</td>\n",
       "      <td>5810</td>\n",
       "      <td>3188</td>\n",
       "      <td>0</td>\n",
       "      <td>6785</td>\n",
       "      <td>6648</td>\n",
       "      <td>2676</td>\n",
       "      <td>0</td>\n",
       "      <td>1</td>\n",
       "      <td>3</td>\n",
       "      <td>53</td>\n",
       "    </tr>\n",
       "    <tr>\n",
       "      <th>18245</th>\n",
       "      <td>160</td>\n",
       "      <td>5233</td>\n",
       "      <td>4653</td>\n",
       "      <td>4757</td>\n",
       "      <td>0</td>\n",
       "      <td>5955</td>\n",
       "      <td>5864</td>\n",
       "      <td>2340</td>\n",
       "      <td>0</td>\n",
       "      <td>1</td>\n",
       "      <td>3</td>\n",
       "      <td>53</td>\n",
       "    </tr>\n",
       "    <tr>\n",
       "      <th>18246</th>\n",
       "      <td>159</td>\n",
       "      <td>5203</td>\n",
       "      <td>4654</td>\n",
       "      <td>3928</td>\n",
       "      <td>4712</td>\n",
       "      <td>5985</td>\n",
       "      <td>5961</td>\n",
       "      <td>818</td>\n",
       "      <td>0</td>\n",
       "      <td>1</td>\n",
       "      <td>3</td>\n",
       "      <td>53</td>\n",
       "    </tr>\n",
       "    <tr>\n",
       "      <th>18247</th>\n",
       "      <td>158</td>\n",
       "      <td>5616</td>\n",
       "      <td>5183</td>\n",
       "      <td>4402</td>\n",
       "      <td>4710</td>\n",
       "      <td>6360</td>\n",
       "      <td>6284</td>\n",
       "      <td>901</td>\n",
       "      <td>0</td>\n",
       "      <td>1</td>\n",
       "      <td>3</td>\n",
       "      <td>53</td>\n",
       "    </tr>\n",
       "    <tr>\n",
       "      <th>18248</th>\n",
       "      <td>157</td>\n",
       "      <td>5789</td>\n",
       "      <td>6546</td>\n",
       "      <td>3853</td>\n",
       "      <td>3252</td>\n",
       "      <td>6541</td>\n",
       "      <td>6460</td>\n",
       "      <td>594</td>\n",
       "      <td>0</td>\n",
       "      <td>1</td>\n",
       "      <td>3</td>\n",
       "      <td>53</td>\n",
       "    </tr>\n",
       "  </tbody>\n",
       "</table>\n",
       "<p>18249 rows × 12 columns</p>\n",
       "</div>"
      ],
      "text/plain": [
       "       Date  Total Volume  4046   4225  4770  Total Bags  Small Bags  \\\n",
       "0        51          7931  4383  10872  1400        5780        5782   \n",
       "1        50          7645  3616  10213  1570        6013        5972   \n",
       "2        49          9388  3891  12864  2516        5616        5625   \n",
       "3        48          8374  4545  11751  1789        4727        4880   \n",
       "4        47          7540  4201  10157  1836        4874        4985   \n",
       "...     ...           ...   ...    ...   ...         ...         ...   \n",
       "18244   161          5729  5810   3188     0        6785        6648   \n",
       "18245   160          5233  4653   4757     0        5955        5864   \n",
       "18246   159          5203  4654   3928  4712        5985        5961   \n",
       "18247   158          5616  5183   4402  4710        6360        6284   \n",
       "18248   157          5789  6546   3853  3252        6541        6460   \n",
       "\n",
       "       Large Bags  XLarge Bags  type  year  region  \n",
       "0            1264            0     0     0       0  \n",
       "1            1288            0     0     0       0  \n",
       "2            1328            0     0     0       0  \n",
       "3            1513            0     0     0       0  \n",
       "4            1855            0     0     0       0  \n",
       "...           ...          ...   ...   ...     ...  \n",
       "18244        2676            0     1     3      53  \n",
       "18245        2340            0     1     3      53  \n",
       "18246         818            0     1     3      53  \n",
       "18247         901            0     1     3      53  \n",
       "18248         594            0     1     3      53  \n",
       "\n",
       "[18249 rows x 12 columns]"
      ]
     },
     "execution_count": 28,
     "metadata": {},
     "output_type": "execute_result"
    }
   ],
   "source": [
    "x"
   ]
  },
  {
   "cell_type": "code",
   "execution_count": 29,
   "id": "4d154105",
   "metadata": {},
   "outputs": [
    {
     "data": {
      "text/plain": [
       "0         86\n",
       "1         88\n",
       "2         46\n",
       "3         61\n",
       "4         81\n",
       "        ... \n",
       "18244    116\n",
       "18245    124\n",
       "18246    140\n",
       "18247    146\n",
       "18248    115\n",
       "Name: AveragePrice, Length: 18249, dtype: int64"
      ]
     },
     "execution_count": 29,
     "metadata": {},
     "output_type": "execute_result"
    }
   ],
   "source": [
    "y"
   ]
  },
  {
   "cell_type": "code",
   "execution_count": 30,
   "id": "2a0277d3",
   "metadata": {},
   "outputs": [],
   "source": [
    "#spliting data into training data and testing data\n",
    "x_train,x_test,y_train,y_test=train_test_split(x,y,test_size=0.2,random_state=12)"
   ]
  },
  {
   "cell_type": "code",
   "execution_count": 31,
   "id": "2c3011f9",
   "metadata": {},
   "outputs": [
    {
     "name": "stdout",
     "output_type": "stream",
     "text": [
      "(18249, 12) (14599, 12) (3650, 12)\n"
     ]
    }
   ],
   "source": [
    "print(x.shape,x_train.shape,x_test.shape)"
   ]
  },
  {
   "cell_type": "code",
   "execution_count": 32,
   "id": "af8ec96a",
   "metadata": {},
   "outputs": [],
   "source": [
    "lm= LinearRegression()"
   ]
  },
  {
   "cell_type": "code",
   "execution_count": 33,
   "id": "9a288517",
   "metadata": {},
   "outputs": [
    {
     "data": {
      "text/plain": [
       "LinearRegression()"
      ]
     },
     "execution_count": 33,
     "metadata": {},
     "output_type": "execute_result"
    }
   ],
   "source": [
    "lm.fit(x_train,y_train)"
   ]
  },
  {
   "cell_type": "code",
   "execution_count": 34,
   "id": "dd03e251",
   "metadata": {},
   "outputs": [
    {
     "data": {
      "text/plain": [
       "array([ 5.18529225e-01, -6.05485123e-03,  6.75176826e-04,  5.87450022e-03,\n",
       "       -5.25328047e-04, -6.47554346e-03,  5.10215367e-03, -2.40829835e-04,\n",
       "        7.32235488e-04,  3.68009548e+01, -1.66262298e+01,  4.77953866e-02])"
      ]
     },
     "execution_count": 34,
     "metadata": {},
     "output_type": "execute_result"
    }
   ],
   "source": [
    "lm.coef_"
   ]
  },
  {
   "cell_type": "code",
   "execution_count": 35,
   "id": "9ac04ac5",
   "metadata": {},
   "outputs": [
    {
     "data": {
      "text/plain": [
       "64.92324520957393"
      ]
     },
     "execution_count": 35,
     "metadata": {},
     "output_type": "execute_result"
    }
   ],
   "source": [
    "lm.intercept_"
   ]
  },
  {
   "cell_type": "code",
   "execution_count": 36,
   "id": "3695049b",
   "metadata": {},
   "outputs": [],
   "source": [
    "pred=lm.predict(x_test)"
   ]
  },
  {
   "cell_type": "code",
   "execution_count": 37,
   "id": "80f5387a",
   "metadata": {},
   "outputs": [
    {
     "data": {
      "text/plain": [
       "0.5564002865899143"
      ]
     },
     "execution_count": 37,
     "metadata": {},
     "output_type": "execute_result"
    }
   ],
   "source": [
    "lm.score(x_train,y_train)"
   ]
  },
  {
   "cell_type": "markdown",
   "id": "23657884",
   "metadata": {},
   "source": [
    "# Regularization"
   ]
  },
  {
   "cell_type": "code",
   "execution_count": 38,
   "id": "0c851cdc",
   "metadata": {},
   "outputs": [],
   "source": [
    "from sklearn.model_selection import GridSearchCV\n",
    "from sklearn.model_selection import cross_val_score\n",
    "import warnings\n",
    "warnings.filterwarnings('ignore')"
   ]
  },
  {
   "cell_type": "code",
   "execution_count": 39,
   "id": "9f673ee8",
   "metadata": {},
   "outputs": [
    {
     "name": "stdout",
     "output_type": "stream",
     "text": [
      "{'alpha': 0.0001, 'random_state': 0}\n"
     ]
    }
   ],
   "source": [
    "from sklearn.linear_model import Lasso\n",
    "\n",
    "parameters ={'alpha':[.0001,.001,.01,.1,1,10],'random_state':list(range(0,10))}\n",
    "ls = Lasso()\n",
    "clf = GridSearchCV(ls,parameters)\n",
    "clf.fit(x_train,y_train)\n",
    "\n",
    "print(clf.best_params_)"
   ]
  },
  {
   "cell_type": "code",
   "execution_count": 40,
   "id": "136c7b63",
   "metadata": {},
   "outputs": [
    {
     "name": "stdout",
     "output_type": "stream",
     "text": [
      "728.3582738114471\n"
     ]
    }
   ],
   "source": [
    "from sklearn.metrics import mean_squared_error,r2_score\n",
    "print(mean_squared_error(pred,y_test))"
   ]
  },
  {
   "cell_type": "code",
   "execution_count": 41,
   "id": "ce4cd7b9",
   "metadata": {},
   "outputs": [
    {
     "data": {
      "text/plain": [
       "0.5552177652533021"
      ]
     },
     "execution_count": 41,
     "metadata": {},
     "output_type": "execute_result"
    }
   ],
   "source": [
    "ls = Lasso(alpha=0.0001,random_state=0)\n",
    "ls.fit(x_train,y_train)\n",
    "ls.score(x_train,y_train)\n",
    "pred_ls = ls.predict(x_test)\n",
    "\n",
    "lss = r2_score(y_test,pred_ls)\n",
    "lss"
   ]
  },
  {
   "cell_type": "markdown",
   "id": "834c6497",
   "metadata": {},
   "source": [
    "# Ensemble Technique"
   ]
  },
  {
   "cell_type": "code",
   "execution_count": 42,
   "id": "97937f88",
   "metadata": {},
   "outputs": [
    {
     "data": {
      "text/plain": [
       "DecisionTreeRegressor(max_depth=5, random_state=0)"
      ]
     },
     "execution_count": 42,
     "metadata": {},
     "output_type": "execute_result"
    }
   ],
   "source": [
    "from sklearn.tree import DecisionTreeRegressor\n",
    "dt = DecisionTreeRegressor(random_state =0, max_depth =5)\n",
    "dt.fit(x_train,y_train)"
   ]
  },
  {
   "cell_type": "code",
   "execution_count": 43,
   "id": "c609a3f1",
   "metadata": {},
   "outputs": [
    {
     "data": {
      "text/plain": [
       "0.6182156868944975"
      ]
     },
     "execution_count": 43,
     "metadata": {},
     "output_type": "execute_result"
    }
   ],
   "source": [
    "dt.score(x_train,y_train)"
   ]
  },
  {
   "cell_type": "code",
   "execution_count": 44,
   "id": "d4b4531d",
   "metadata": {},
   "outputs": [],
   "source": [
    "predictions = dt.predict(x_test)"
   ]
  },
  {
   "cell_type": "code",
   "execution_count": 45,
   "id": "36f8bcae",
   "metadata": {},
   "outputs": [
    {
     "name": "stdout",
     "output_type": "stream",
     "text": [
      "Cross Val Score: 16.2949575416761\n"
     ]
    }
   ],
   "source": [
    "dtscore = cross_val_score(dt,x,y,cv=5)\n",
    "dtc=dtscore.mean()\n",
    "print('Cross Val Score:',dtc*100)"
   ]
  },
  {
   "cell_type": "markdown",
   "id": "dc04c291",
   "metadata": {},
   "source": [
    "# Hyper Parameter tuning"
   ]
  },
  {
   "cell_type": "code",
   "execution_count": 46,
   "id": "e0f98bfb",
   "metadata": {},
   "outputs": [],
   "source": [
    "from sklearn.model_selection import GridSearchCV"
   ]
  },
  {
   "cell_type": "code",
   "execution_count": 47,
   "id": "ed214087",
   "metadata": {},
   "outputs": [],
   "source": [
    "parameter ={'max_depth':np.arange(2,10),\n",
    "           'criterion':['gini','entropy'],\n",
    "           'splitter':['best','random'],\n",
    "           'max_features':['auto','sqrt','log2']}"
   ]
  },
  {
   "cell_type": "code",
   "execution_count": 48,
   "id": "09a939c0",
   "metadata": {},
   "outputs": [],
   "source": [
    "GCV=GridSearchCV(DecisionTreeRegressor(),parameter,cv=5)"
   ]
  },
  {
   "cell_type": "code",
   "execution_count": 49,
   "id": "4a5fba63",
   "metadata": {},
   "outputs": [
    {
     "data": {
      "text/plain": [
       "GridSearchCV(cv=5, estimator=DecisionTreeRegressor(),\n",
       "             param_grid={'criterion': ['gini', 'entropy'],\n",
       "                         'max_depth': array([2, 3, 4, 5, 6, 7, 8, 9]),\n",
       "                         'max_features': ['auto', 'sqrt', 'log2'],\n",
       "                         'splitter': ['best', 'random']})"
      ]
     },
     "execution_count": 49,
     "metadata": {},
     "output_type": "execute_result"
    }
   ],
   "source": [
    "GCV"
   ]
  },
  {
   "cell_type": "markdown",
   "id": "2f3b88b5",
   "metadata": {},
   "source": [
    "The best model is Decision Tree."
   ]
  },
  {
   "cell_type": "code",
   "execution_count": 50,
   "id": "e52826ff",
   "metadata": {},
   "outputs": [],
   "source": [
    "import pickle\n",
    "filename ='Avocado.pkl'\n",
    "pickle.dump(dtc,open(filename,'wb'))"
   ]
  },
  {
   "cell_type": "code",
   "execution_count": 51,
   "id": "9b53151e",
   "metadata": {},
   "outputs": [],
   "source": [
    "loaded_model = pickle.load(open('Avocado.pkl','rb'))"
   ]
  },
  {
   "cell_type": "code",
   "execution_count": null,
   "id": "2f418956",
   "metadata": {},
   "outputs": [],
   "source": []
  },
  {
   "cell_type": "markdown",
   "id": "74f4d401",
   "metadata": {},
   "source": [
    "# Consider target is region solve by Using classification"
   ]
  },
  {
   "cell_type": "code",
   "execution_count": 52,
   "id": "740f3886",
   "metadata": {},
   "outputs": [],
   "source": [
    "x = df.drop(['region'],axis=1)\n",
    "y = df['region']"
   ]
  },
  {
   "cell_type": "code",
   "execution_count": 53,
   "id": "2be4b8db",
   "metadata": {},
   "outputs": [
    {
     "data": {
      "text/html": [
       "<div>\n",
       "<style scoped>\n",
       "    .dataframe tbody tr th:only-of-type {\n",
       "        vertical-align: middle;\n",
       "    }\n",
       "\n",
       "    .dataframe tbody tr th {\n",
       "        vertical-align: top;\n",
       "    }\n",
       "\n",
       "    .dataframe thead th {\n",
       "        text-align: right;\n",
       "    }\n",
       "</style>\n",
       "<table border=\"1\" class=\"dataframe\">\n",
       "  <thead>\n",
       "    <tr style=\"text-align: right;\">\n",
       "      <th></th>\n",
       "      <th>Date</th>\n",
       "      <th>AveragePrice</th>\n",
       "      <th>Total Volume</th>\n",
       "      <th>4046</th>\n",
       "      <th>4225</th>\n",
       "      <th>4770</th>\n",
       "      <th>Total Bags</th>\n",
       "      <th>Small Bags</th>\n",
       "      <th>Large Bags</th>\n",
       "      <th>XLarge Bags</th>\n",
       "      <th>type</th>\n",
       "      <th>year</th>\n",
       "    </tr>\n",
       "  </thead>\n",
       "  <tbody>\n",
       "    <tr>\n",
       "      <th>0</th>\n",
       "      <td>51</td>\n",
       "      <td>86</td>\n",
       "      <td>7931</td>\n",
       "      <td>4383</td>\n",
       "      <td>10872</td>\n",
       "      <td>1400</td>\n",
       "      <td>5780</td>\n",
       "      <td>5782</td>\n",
       "      <td>1264</td>\n",
       "      <td>0</td>\n",
       "      <td>0</td>\n",
       "      <td>0</td>\n",
       "    </tr>\n",
       "    <tr>\n",
       "      <th>1</th>\n",
       "      <td>50</td>\n",
       "      <td>88</td>\n",
       "      <td>7645</td>\n",
       "      <td>3616</td>\n",
       "      <td>10213</td>\n",
       "      <td>1570</td>\n",
       "      <td>6013</td>\n",
       "      <td>5972</td>\n",
       "      <td>1288</td>\n",
       "      <td>0</td>\n",
       "      <td>0</td>\n",
       "      <td>0</td>\n",
       "    </tr>\n",
       "    <tr>\n",
       "      <th>2</th>\n",
       "      <td>49</td>\n",
       "      <td>46</td>\n",
       "      <td>9388</td>\n",
       "      <td>3891</td>\n",
       "      <td>12864</td>\n",
       "      <td>2516</td>\n",
       "      <td>5616</td>\n",
       "      <td>5625</td>\n",
       "      <td>1328</td>\n",
       "      <td>0</td>\n",
       "      <td>0</td>\n",
       "      <td>0</td>\n",
       "    </tr>\n",
       "    <tr>\n",
       "      <th>3</th>\n",
       "      <td>48</td>\n",
       "      <td>61</td>\n",
       "      <td>8374</td>\n",
       "      <td>4545</td>\n",
       "      <td>11751</td>\n",
       "      <td>1789</td>\n",
       "      <td>4727</td>\n",
       "      <td>4880</td>\n",
       "      <td>1513</td>\n",
       "      <td>0</td>\n",
       "      <td>0</td>\n",
       "      <td>0</td>\n",
       "    </tr>\n",
       "    <tr>\n",
       "      <th>4</th>\n",
       "      <td>47</td>\n",
       "      <td>81</td>\n",
       "      <td>7540</td>\n",
       "      <td>4201</td>\n",
       "      <td>10157</td>\n",
       "      <td>1836</td>\n",
       "      <td>4874</td>\n",
       "      <td>4985</td>\n",
       "      <td>1855</td>\n",
       "      <td>0</td>\n",
       "      <td>0</td>\n",
       "      <td>0</td>\n",
       "    </tr>\n",
       "  </tbody>\n",
       "</table>\n",
       "</div>"
      ],
      "text/plain": [
       "   Date  AveragePrice  Total Volume  4046   4225  4770  Total Bags  \\\n",
       "0    51            86          7931  4383  10872  1400        5780   \n",
       "1    50            88          7645  3616  10213  1570        6013   \n",
       "2    49            46          9388  3891  12864  2516        5616   \n",
       "3    48            61          8374  4545  11751  1789        4727   \n",
       "4    47            81          7540  4201  10157  1836        4874   \n",
       "\n",
       "   Small Bags  Large Bags  XLarge Bags  type  year  \n",
       "0        5782        1264            0     0     0  \n",
       "1        5972        1288            0     0     0  \n",
       "2        5625        1328            0     0     0  \n",
       "3        4880        1513            0     0     0  \n",
       "4        4985        1855            0     0     0  "
      ]
     },
     "execution_count": 53,
     "metadata": {},
     "output_type": "execute_result"
    }
   ],
   "source": [
    "x.head()"
   ]
  },
  {
   "cell_type": "code",
   "execution_count": 54,
   "id": "e82a54a4",
   "metadata": {},
   "outputs": [
    {
     "data": {
      "text/plain": [
       "0    0\n",
       "1    0\n",
       "2    0\n",
       "3    0\n",
       "4    0\n",
       "Name: region, dtype: int32"
      ]
     },
     "execution_count": 54,
     "metadata": {},
     "output_type": "execute_result"
    }
   ],
   "source": [
    "y.head()"
   ]
  },
  {
   "cell_type": "code",
   "execution_count": 55,
   "id": "7e7b27d6",
   "metadata": {},
   "outputs": [],
   "source": [
    "#Split the data into 75% training and 25% testing\n",
    "from sklearn.model_selection import train_test_split\n",
    "x_train,x_test,y_train,y_test=train_test_split(x,y,test_size=.25,random_state=42)"
   ]
  },
  {
   "cell_type": "code",
   "execution_count": 56,
   "id": "727b27aa",
   "metadata": {},
   "outputs": [
    {
     "data": {
      "text/plain": [
       "(13686, 12)"
      ]
     },
     "execution_count": 56,
     "metadata": {},
     "output_type": "execute_result"
    }
   ],
   "source": [
    "x_train.shape"
   ]
  },
  {
   "cell_type": "code",
   "execution_count": 57,
   "id": "1da8a447",
   "metadata": {},
   "outputs": [
    {
     "data": {
      "text/plain": [
       "(4563, 12)"
      ]
     },
     "execution_count": 57,
     "metadata": {},
     "output_type": "execute_result"
    }
   ],
   "source": [
    "x_test.shape"
   ]
  },
  {
   "cell_type": "code",
   "execution_count": 58,
   "id": "a08db70b",
   "metadata": {},
   "outputs": [
    {
     "data": {
      "text/plain": [
       "(13686,)"
      ]
     },
     "execution_count": 58,
     "metadata": {},
     "output_type": "execute_result"
    }
   ],
   "source": [
    "y_train.shape"
   ]
  },
  {
   "cell_type": "code",
   "execution_count": 59,
   "id": "84b529d0",
   "metadata": {},
   "outputs": [
    {
     "data": {
      "text/plain": [
       "(4563,)"
      ]
     },
     "execution_count": 59,
     "metadata": {},
     "output_type": "execute_result"
    }
   ],
   "source": [
    "y_test.shape"
   ]
  },
  {
   "cell_type": "code",
   "execution_count": 65,
   "id": "0415011e",
   "metadata": {},
   "outputs": [],
   "source": [
    "from sklearn.model_selection import GridSearchCV\n",
    "from sklearn.model_selection import cross_val_score\n",
    "from sklearn.naive_bayes import MultinomialNB\n",
    "from sklearn.metrics import accuracy_score,confusion_matrix,classification_report"
   ]
  },
  {
   "cell_type": "code",
   "execution_count": 66,
   "id": "63c3304b",
   "metadata": {},
   "outputs": [
    {
     "data": {
      "text/plain": [
       "LogisticRegression()"
      ]
     },
     "execution_count": 66,
     "metadata": {},
     "output_type": "execute_result"
    }
   ],
   "source": [
    "from sklearn.linear_model import LogisticRegression\n",
    "lg=LogisticRegression()\n",
    "lg.fit(x_train,y_train)"
   ]
  },
  {
   "cell_type": "code",
   "execution_count": 67,
   "id": "8737d005",
   "metadata": {},
   "outputs": [
    {
     "name": "stdout",
     "output_type": "stream",
     "text": [
      "[20  1 27 ... 44 29 20]\n"
     ]
    }
   ],
   "source": [
    "pred=lg.predict(x_test)\n",
    "print(pred)"
   ]
  },
  {
   "cell_type": "code",
   "execution_count": 68,
   "id": "f20e47b1",
   "metadata": {},
   "outputs": [
    {
     "name": "stdout",
     "output_type": "stream",
     "text": [
      "accuracy_score: 0.2664913434144203\n"
     ]
    }
   ],
   "source": [
    "print('accuracy_score:',accuracy_score(y_test,pred))"
   ]
  },
  {
   "cell_type": "code",
   "execution_count": 69,
   "id": "485692b8",
   "metadata": {},
   "outputs": [
    {
     "name": "stdout",
     "output_type": "stream",
     "text": [
      "0.15077799693184307\n",
      "[[ 5  0  0 ...  0  0  0]\n",
      " [ 0 25  0 ...  0  0  0]\n",
      " [ 0  0 22 ...  0  0  0]\n",
      " ...\n",
      " [ 0  0  0 ...  0  0  0]\n",
      " [ 0 12  0 ... 15  0  0]\n",
      " [ 2  1  1 ...  2  1  1]]\n",
      "              precision    recall  f1-score   support\n",
      "\n",
      "           0       0.06      0.07      0.06        76\n",
      "           1       0.12      0.29      0.18        85\n",
      "           2       0.19      0.28      0.22        80\n",
      "           3       0.27      0.15      0.19        88\n",
      "           4       0.06      0.02      0.03        83\n",
      "           5       0.09      0.19      0.12        94\n",
      "           6       0.00      0.00      0.00        82\n",
      "           7       0.36      0.56      0.44        94\n",
      "           8       0.28      0.12      0.17        90\n",
      "           9       0.31      0.55      0.40        88\n",
      "          10       0.20      0.03      0.04        79\n",
      "          11       0.14      0.01      0.02        85\n",
      "          12       0.13      0.30      0.18        83\n",
      "          13       0.05      0.22      0.08        81\n",
      "          14       0.33      0.33      0.33        87\n",
      "          15       0.00      0.00      0.00        93\n",
      "          16       0.14      0.26      0.18        92\n",
      "          17       0.17      0.21      0.19        90\n",
      "          18       0.00      0.00      0.00        82\n",
      "          19       0.19      0.11      0.14        76\n",
      "          20       0.28      0.19      0.22        80\n",
      "          21       0.10      0.13      0.11        76\n",
      "          22       0.17      0.09      0.12        89\n",
      "          23       0.20      0.56      0.30        88\n",
      "          24       0.00      0.00      0.00        88\n",
      "          25       0.20      0.13      0.16        83\n",
      "          26       0.06      0.01      0.02        94\n",
      "          27       0.17      0.28      0.21        87\n",
      "          28       0.00      0.00      0.00        86\n",
      "          29       0.24      0.11      0.15        89\n",
      "          30       0.08      0.11      0.09        84\n",
      "          31       0.23      0.35      0.28        86\n",
      "          32       0.33      0.20      0.25        86\n",
      "          33       0.00      0.00      0.00        70\n",
      "          34       0.01      0.01      0.01        75\n",
      "          35       0.30      0.03      0.06        90\n",
      "          36       0.00      0.00      0.00        94\n",
      "          37       0.28      0.29      0.29        78\n",
      "          38       0.15      0.09      0.11        78\n",
      "          39       0.05      0.07      0.06        83\n",
      "          40       0.17      0.77      0.28        87\n",
      "          41       0.37      0.07      0.12        94\n",
      "          42       0.28      0.22      0.24        93\n",
      "          43       0.00      0.00      0.00        78\n",
      "          44       0.12      0.07      0.09        88\n",
      "          45       0.00      0.00      0.00        78\n",
      "          46       0.00      0.00      0.00        78\n",
      "          47       0.17      0.05      0.08        93\n",
      "          48       0.06      0.02      0.04        81\n",
      "          49       0.13      0.18      0.15        82\n",
      "          50       0.08      0.22      0.12        83\n",
      "          51       0.00      0.00      0.00        77\n",
      "          52       0.00      0.00      0.00        80\n",
      "          53       0.04      0.01      0.02        79\n",
      "\n",
      "    accuracy                           0.15      4563\n",
      "   macro avg       0.14      0.15      0.12      4563\n",
      "weighted avg       0.14      0.15      0.12      4563\n",
      "\n"
     ]
    }
   ],
   "source": [
    "mnb=MultinomialNB()\n",
    "mnb.fit(x_train,y_train)\n",
    "predmnb=mnb.predict(x_test)\n",
    "print(accuracy_score(y_test,predmnb))\n",
    "print(confusion_matrix(y_test,predmnb))\n",
    "print(classification_report(y_test,predmnb))"
   ]
  },
  {
   "cell_type": "code",
   "execution_count": 70,
   "id": "30185993",
   "metadata": {},
   "outputs": [
    {
     "name": "stdout",
     "output_type": "stream",
     "text": [
      "0.8021038790269559\n",
      "[[65  0  0 ...  0  0  0]\n",
      " [ 0 61  0 ...  0  0  2]\n",
      " [ 0  0 70 ...  0  0  0]\n",
      " ...\n",
      " [ 0  0  0 ... 77  0  0]\n",
      " [ 0  0  0 ...  0 73  0]\n",
      " [ 0  0  1 ...  0  0 54]]\n",
      "              precision    recall  f1-score   support\n",
      "\n",
      "           0       0.78      0.86      0.82        76\n",
      "           1       0.67      0.72      0.69        85\n",
      "           2       0.86      0.88      0.87        80\n",
      "           3       0.79      0.88      0.83        88\n",
      "           4       0.79      0.90      0.84        83\n",
      "           5       0.83      0.81      0.82        94\n",
      "           6       0.94      0.98      0.96        82\n",
      "           7       0.83      0.82      0.82        94\n",
      "           8       0.97      0.96      0.96        90\n",
      "           9       0.77      0.83      0.80        88\n",
      "          10       0.71      0.61      0.65        79\n",
      "          11       0.82      0.88      0.85        85\n",
      "          12       0.80      0.80      0.80        83\n",
      "          13       0.72      0.72      0.72        81\n",
      "          14       0.86      0.83      0.84        87\n",
      "          15       0.90      0.91      0.91        93\n",
      "          16       0.93      0.84      0.88        92\n",
      "          17       0.83      0.81      0.82        90\n",
      "          18       0.93      0.82      0.87        82\n",
      "          19       0.76      0.70      0.73        76\n",
      "          20       0.89      0.90      0.89        80\n",
      "          21       0.64      0.62      0.63        76\n",
      "          22       0.85      0.93      0.89        89\n",
      "          23       0.86      0.74      0.79        88\n",
      "          24       0.66      0.68      0.67        88\n",
      "          25       0.94      0.90      0.92        83\n",
      "          26       0.61      0.66      0.64        94\n",
      "          27       0.82      0.79      0.81        87\n",
      "          28       0.89      0.84      0.86        86\n",
      "          29       0.90      0.92      0.91        89\n",
      "          30       0.91      0.83      0.87        84\n",
      "          31       0.63      0.63      0.63        86\n",
      "          32       0.73      0.76      0.74        86\n",
      "          33       0.79      0.76      0.77        70\n",
      "          34       0.68      0.76      0.72        75\n",
      "          35       0.85      0.91      0.88        90\n",
      "          36       0.69      0.72      0.70        94\n",
      "          37       0.76      0.81      0.78        78\n",
      "          38       0.82      0.79      0.81        78\n",
      "          39       0.82      0.90      0.86        83\n",
      "          40       0.83      0.92      0.87        87\n",
      "          41       0.76      0.66      0.70        94\n",
      "          42       0.92      0.88      0.90        93\n",
      "          43       0.69      0.73      0.71        78\n",
      "          44       0.78      0.80      0.79        88\n",
      "          45       0.92      0.92      0.92        78\n",
      "          46       0.96      0.91      0.93        78\n",
      "          47       0.80      0.71      0.75        93\n",
      "          48       0.72      0.62      0.67        81\n",
      "          49       0.80      0.73      0.76        82\n",
      "          50       0.42      0.43      0.43        83\n",
      "          51       0.99      1.00      0.99        77\n",
      "          52       0.92      0.91      0.92        80\n",
      "          53       0.67      0.68      0.68        79\n",
      "\n",
      "    accuracy                           0.80      4563\n",
      "   macro avg       0.80      0.80      0.80      4563\n",
      "weighted avg       0.80      0.80      0.80      4563\n",
      "\n"
     ]
    }
   ],
   "source": [
    "from sklearn.tree import DecisionTreeClassifier\n",
    "dtc=DecisionTreeClassifier()\n",
    "dtc.fit(x_train,y_train)\n",
    "preddtc=dtc.predict(x_test)\n",
    "print(accuracy_score(y_test,preddtc))\n",
    "print(confusion_matrix(y_test,preddtc))\n",
    "print(classification_report(y_test,preddtc))"
   ]
  },
  {
   "cell_type": "markdown",
   "id": "e91be3b3",
   "metadata": {},
   "source": [
    "best model is DecisionTree"
   ]
  },
  {
   "cell_type": "code",
   "execution_count": 73,
   "id": "3b738b79",
   "metadata": {},
   "outputs": [],
   "source": [
    "import pickle\n",
    "with open('Avocado_pickle','wb') as f:\n",
    "    pickle.dump(dtc,f)"
   ]
  },
  {
   "cell_type": "code",
   "execution_count": 74,
   "id": "3d9f0ca0",
   "metadata": {},
   "outputs": [],
   "source": [
    "with open('Avocado_pickle','rb') as f:\n",
    "    mp = pickle.load(f)"
   ]
  },
  {
   "cell_type": "code",
   "execution_count": 75,
   "id": "82a8fcce",
   "metadata": {},
   "outputs": [
    {
     "name": "stdout",
     "output_type": "stream",
     "text": [
      "0.8021038790269559\n"
     ]
    }
   ],
   "source": [
    "loaded_model = pickle.load(open('Avocado_pickle','rb'))\n",
    "result = loaded_model.score(x_test, y_test)\n",
    "print(result)"
   ]
  },
  {
   "cell_type": "code",
   "execution_count": null,
   "id": "ea797720",
   "metadata": {},
   "outputs": [],
   "source": []
  }
 ],
 "metadata": {
  "kernelspec": {
   "display_name": "Python 3",
   "language": "python",
   "name": "python3"
  },
  "language_info": {
   "codemirror_mode": {
    "name": "ipython",
    "version": 3
   },
   "file_extension": ".py",
   "mimetype": "text/x-python",
   "name": "python",
   "nbconvert_exporter": "python",
   "pygments_lexer": "ipython3",
   "version": "3.8.8"
  }
 },
 "nbformat": 4,
 "nbformat_minor": 5
}
