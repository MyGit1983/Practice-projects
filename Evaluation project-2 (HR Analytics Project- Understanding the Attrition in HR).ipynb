{
 "cells": [
  {
   "cell_type": "code",
   "execution_count": 759,
   "id": "45cb3b2c",
   "metadata": {},
   "outputs": [],
   "source": [
    "import pandas as pd\n",
    "import numpy as np\n",
    "import seaborn as sn"
   ]
  },
  {
   "cell_type": "code",
   "execution_count": 760,
   "id": "5afc2b84",
   "metadata": {},
   "outputs": [
    {
     "data": {
      "text/html": [
       "<div>\n",
       "<style scoped>\n",
       "    .dataframe tbody tr th:only-of-type {\n",
       "        vertical-align: middle;\n",
       "    }\n",
       "\n",
       "    .dataframe tbody tr th {\n",
       "        vertical-align: top;\n",
       "    }\n",
       "\n",
       "    .dataframe thead th {\n",
       "        text-align: right;\n",
       "    }\n",
       "</style>\n",
       "<table border=\"1\" class=\"dataframe\">\n",
       "  <thead>\n",
       "    <tr style=\"text-align: right;\">\n",
       "      <th></th>\n",
       "      <th>Age</th>\n",
       "      <th>Attrition</th>\n",
       "      <th>BusinessTravel</th>\n",
       "      <th>DailyRate</th>\n",
       "      <th>Department</th>\n",
       "      <th>DistanceFromHome</th>\n",
       "      <th>Education</th>\n",
       "      <th>EducationField</th>\n",
       "      <th>EmployeeCount</th>\n",
       "      <th>EmployeeNumber</th>\n",
       "      <th>...</th>\n",
       "      <th>RelationshipSatisfaction</th>\n",
       "      <th>StandardHours</th>\n",
       "      <th>StockOptionLevel</th>\n",
       "      <th>TotalWorkingYears</th>\n",
       "      <th>TrainingTimesLastYear</th>\n",
       "      <th>WorkLifeBalance</th>\n",
       "      <th>YearsAtCompany</th>\n",
       "      <th>YearsInCurrentRole</th>\n",
       "      <th>YearsSinceLastPromotion</th>\n",
       "      <th>YearsWithCurrManager</th>\n",
       "    </tr>\n",
       "  </thead>\n",
       "  <tbody>\n",
       "    <tr>\n",
       "      <th>0</th>\n",
       "      <td>41</td>\n",
       "      <td>Yes</td>\n",
       "      <td>Travel_Rarely</td>\n",
       "      <td>1102</td>\n",
       "      <td>Sales</td>\n",
       "      <td>1</td>\n",
       "      <td>2</td>\n",
       "      <td>Life Sciences</td>\n",
       "      <td>1</td>\n",
       "      <td>1</td>\n",
       "      <td>...</td>\n",
       "      <td>1</td>\n",
       "      <td>80</td>\n",
       "      <td>0</td>\n",
       "      <td>8</td>\n",
       "      <td>0</td>\n",
       "      <td>1</td>\n",
       "      <td>6</td>\n",
       "      <td>4</td>\n",
       "      <td>0</td>\n",
       "      <td>5</td>\n",
       "    </tr>\n",
       "    <tr>\n",
       "      <th>1</th>\n",
       "      <td>49</td>\n",
       "      <td>No</td>\n",
       "      <td>Travel_Frequently</td>\n",
       "      <td>279</td>\n",
       "      <td>Research &amp; Development</td>\n",
       "      <td>8</td>\n",
       "      <td>1</td>\n",
       "      <td>Life Sciences</td>\n",
       "      <td>1</td>\n",
       "      <td>2</td>\n",
       "      <td>...</td>\n",
       "      <td>4</td>\n",
       "      <td>80</td>\n",
       "      <td>1</td>\n",
       "      <td>10</td>\n",
       "      <td>3</td>\n",
       "      <td>3</td>\n",
       "      <td>10</td>\n",
       "      <td>7</td>\n",
       "      <td>1</td>\n",
       "      <td>7</td>\n",
       "    </tr>\n",
       "    <tr>\n",
       "      <th>2</th>\n",
       "      <td>37</td>\n",
       "      <td>Yes</td>\n",
       "      <td>Travel_Rarely</td>\n",
       "      <td>1373</td>\n",
       "      <td>Research &amp; Development</td>\n",
       "      <td>2</td>\n",
       "      <td>2</td>\n",
       "      <td>Other</td>\n",
       "      <td>1</td>\n",
       "      <td>4</td>\n",
       "      <td>...</td>\n",
       "      <td>2</td>\n",
       "      <td>80</td>\n",
       "      <td>0</td>\n",
       "      <td>7</td>\n",
       "      <td>3</td>\n",
       "      <td>3</td>\n",
       "      <td>0</td>\n",
       "      <td>0</td>\n",
       "      <td>0</td>\n",
       "      <td>0</td>\n",
       "    </tr>\n",
       "    <tr>\n",
       "      <th>3</th>\n",
       "      <td>33</td>\n",
       "      <td>No</td>\n",
       "      <td>Travel_Frequently</td>\n",
       "      <td>1392</td>\n",
       "      <td>Research &amp; Development</td>\n",
       "      <td>3</td>\n",
       "      <td>4</td>\n",
       "      <td>Life Sciences</td>\n",
       "      <td>1</td>\n",
       "      <td>5</td>\n",
       "      <td>...</td>\n",
       "      <td>3</td>\n",
       "      <td>80</td>\n",
       "      <td>0</td>\n",
       "      <td>8</td>\n",
       "      <td>3</td>\n",
       "      <td>3</td>\n",
       "      <td>8</td>\n",
       "      <td>7</td>\n",
       "      <td>3</td>\n",
       "      <td>0</td>\n",
       "    </tr>\n",
       "    <tr>\n",
       "      <th>4</th>\n",
       "      <td>27</td>\n",
       "      <td>No</td>\n",
       "      <td>Travel_Rarely</td>\n",
       "      <td>591</td>\n",
       "      <td>Research &amp; Development</td>\n",
       "      <td>2</td>\n",
       "      <td>1</td>\n",
       "      <td>Medical</td>\n",
       "      <td>1</td>\n",
       "      <td>7</td>\n",
       "      <td>...</td>\n",
       "      <td>4</td>\n",
       "      <td>80</td>\n",
       "      <td>1</td>\n",
       "      <td>6</td>\n",
       "      <td>3</td>\n",
       "      <td>3</td>\n",
       "      <td>2</td>\n",
       "      <td>2</td>\n",
       "      <td>2</td>\n",
       "      <td>2</td>\n",
       "    </tr>\n",
       "  </tbody>\n",
       "</table>\n",
       "<p>5 rows × 35 columns</p>\n",
       "</div>"
      ],
      "text/plain": [
       "   Age Attrition     BusinessTravel  DailyRate              Department  \\\n",
       "0   41       Yes      Travel_Rarely       1102                   Sales   \n",
       "1   49        No  Travel_Frequently        279  Research & Development   \n",
       "2   37       Yes      Travel_Rarely       1373  Research & Development   \n",
       "3   33        No  Travel_Frequently       1392  Research & Development   \n",
       "4   27        No      Travel_Rarely        591  Research & Development   \n",
       "\n",
       "   DistanceFromHome  Education EducationField  EmployeeCount  EmployeeNumber  \\\n",
       "0                 1          2  Life Sciences              1               1   \n",
       "1                 8          1  Life Sciences              1               2   \n",
       "2                 2          2          Other              1               4   \n",
       "3                 3          4  Life Sciences              1               5   \n",
       "4                 2          1        Medical              1               7   \n",
       "\n",
       "   ...  RelationshipSatisfaction StandardHours  StockOptionLevel  \\\n",
       "0  ...                         1            80                 0   \n",
       "1  ...                         4            80                 1   \n",
       "2  ...                         2            80                 0   \n",
       "3  ...                         3            80                 0   \n",
       "4  ...                         4            80                 1   \n",
       "\n",
       "   TotalWorkingYears  TrainingTimesLastYear WorkLifeBalance  YearsAtCompany  \\\n",
       "0                  8                      0               1               6   \n",
       "1                 10                      3               3              10   \n",
       "2                  7                      3               3               0   \n",
       "3                  8                      3               3               8   \n",
       "4                  6                      3               3               2   \n",
       "\n",
       "  YearsInCurrentRole  YearsSinceLastPromotion  YearsWithCurrManager  \n",
       "0                  4                        0                     5  \n",
       "1                  7                        1                     7  \n",
       "2                  0                        0                     0  \n",
       "3                  7                        3                     0  \n",
       "4                  2                        2                     2  \n",
       "\n",
       "[5 rows x 35 columns]"
      ]
     },
     "execution_count": 760,
     "metadata": {},
     "output_type": "execute_result"
    }
   ],
   "source": [
    "df = pd.read_csv('WA_Fn-useC_-HR-Employee-Attrition.csv')\n",
    "df.head()"
   ]
  },
  {
   "cell_type": "markdown",
   "id": "e6ac86d9",
   "metadata": {},
   "source": [
    "In this data set Attrition is the target and all other columns are input varaibles. Output has only 0 and 1 we can solve by LogisticRegression."
   ]
  },
  {
   "cell_type": "code",
   "execution_count": 761,
   "id": "62ae839c",
   "metadata": {},
   "outputs": [
    {
     "data": {
      "text/plain": [
       "(1470, 35)"
      ]
     },
     "execution_count": 761,
     "metadata": {},
     "output_type": "execute_result"
    }
   ],
   "source": [
    "#get the nomber of rows and columns\n",
    "df.shape"
   ]
  },
  {
   "cell_type": "markdown",
   "id": "e40843a5",
   "metadata": {},
   "source": [
    "There are 1470 rows and 35 columns."
   ]
  },
  {
   "cell_type": "code",
   "execution_count": 762,
   "id": "85625ae3",
   "metadata": {
    "scrolled": true
   },
   "outputs": [
    {
     "data": {
      "text/plain": [
       "Age                          int64\n",
       "Attrition                   object\n",
       "BusinessTravel              object\n",
       "DailyRate                    int64\n",
       "Department                  object\n",
       "DistanceFromHome             int64\n",
       "Education                    int64\n",
       "EducationField              object\n",
       "EmployeeCount                int64\n",
       "EmployeeNumber               int64\n",
       "EnvironmentSatisfaction      int64\n",
       "Gender                      object\n",
       "HourlyRate                   int64\n",
       "JobInvolvement               int64\n",
       "JobLevel                     int64\n",
       "JobRole                     object\n",
       "JobSatisfaction              int64\n",
       "MaritalStatus               object\n",
       "MonthlyIncome                int64\n",
       "MonthlyRate                  int64\n",
       "NumCompaniesWorked           int64\n",
       "Over18                      object\n",
       "OverTime                    object\n",
       "PercentSalaryHike            int64\n",
       "PerformanceRating            int64\n",
       "RelationshipSatisfaction     int64\n",
       "StandardHours                int64\n",
       "StockOptionLevel             int64\n",
       "TotalWorkingYears            int64\n",
       "TrainingTimesLastYear        int64\n",
       "WorkLifeBalance              int64\n",
       "YearsAtCompany               int64\n",
       "YearsInCurrentRole           int64\n",
       "YearsSinceLastPromotion      int64\n",
       "YearsWithCurrManager         int64\n",
       "dtype: object"
      ]
     },
     "execution_count": 762,
     "metadata": {},
     "output_type": "execute_result"
    }
   ],
   "source": [
    "#Get the column data types\n",
    "df.dtypes"
   ]
  },
  {
   "cell_type": "code",
   "execution_count": 763,
   "id": "3e7b7a73",
   "metadata": {},
   "outputs": [
    {
     "data": {
      "text/plain": [
       "Index(['Age', 'Attrition', 'BusinessTravel', 'DailyRate', 'Department',\n",
       "       'DistanceFromHome', 'Education', 'EducationField', 'EmployeeCount',\n",
       "       'EmployeeNumber', 'EnvironmentSatisfaction', 'Gender', 'HourlyRate',\n",
       "       'JobInvolvement', 'JobLevel', 'JobRole', 'JobSatisfaction',\n",
       "       'MaritalStatus', 'MonthlyIncome', 'MonthlyRate', 'NumCompaniesWorked',\n",
       "       'Over18', 'OverTime', 'PercentSalaryHike', 'PerformanceRating',\n",
       "       'RelationshipSatisfaction', 'StandardHours', 'StockOptionLevel',\n",
       "       'TotalWorkingYears', 'TrainingTimesLastYear', 'WorkLifeBalance',\n",
       "       'YearsAtCompany', 'YearsInCurrentRole', 'YearsSinceLastPromotion',\n",
       "       'YearsWithCurrManager'],\n",
       "      dtype='object')"
      ]
     },
     "execution_count": 763,
     "metadata": {},
     "output_type": "execute_result"
    }
   ],
   "source": [
    "df.columns"
   ]
  },
  {
   "cell_type": "code",
   "execution_count": 764,
   "id": "81503c43",
   "metadata": {},
   "outputs": [
    {
     "data": {
      "text/plain": [
       "Age                         0\n",
       "Attrition                   0\n",
       "BusinessTravel              0\n",
       "DailyRate                   0\n",
       "Department                  0\n",
       "DistanceFromHome            0\n",
       "Education                   0\n",
       "EducationField              0\n",
       "EmployeeCount               0\n",
       "EmployeeNumber              0\n",
       "EnvironmentSatisfaction     0\n",
       "Gender                      0\n",
       "HourlyRate                  0\n",
       "JobInvolvement              0\n",
       "JobLevel                    0\n",
       "JobRole                     0\n",
       "JobSatisfaction             0\n",
       "MaritalStatus               0\n",
       "MonthlyIncome               0\n",
       "MonthlyRate                 0\n",
       "NumCompaniesWorked          0\n",
       "Over18                      0\n",
       "OverTime                    0\n",
       "PercentSalaryHike           0\n",
       "PerformanceRating           0\n",
       "RelationshipSatisfaction    0\n",
       "StandardHours               0\n",
       "StockOptionLevel            0\n",
       "TotalWorkingYears           0\n",
       "TrainingTimesLastYear       0\n",
       "WorkLifeBalance             0\n",
       "YearsAtCompany              0\n",
       "YearsInCurrentRole          0\n",
       "YearsSinceLastPromotion     0\n",
       "YearsWithCurrManager        0\n",
       "dtype: int64"
      ]
     },
     "execution_count": 764,
     "metadata": {},
     "output_type": "execute_result"
    }
   ],
   "source": [
    "# Get a count of the empty values for each column\n",
    "df.isnull().sum()"
   ]
  },
  {
   "cell_type": "markdown",
   "id": "1aa25bd7",
   "metadata": {},
   "source": [
    "There is no missing values."
   ]
  },
  {
   "cell_type": "code",
   "execution_count": 765,
   "id": "c6f51ed5",
   "metadata": {},
   "outputs": [
    {
     "data": {
      "text/plain": [
       "False"
      ]
     },
     "execution_count": 765,
     "metadata": {},
     "output_type": "execute_result"
    }
   ],
   "source": [
    "#Check for nay missing/null values in the data\n",
    "df.isnull().values.any()"
   ]
  },
  {
   "cell_type": "code",
   "execution_count": 766,
   "id": "e1a91b86",
   "metadata": {},
   "outputs": [
    {
     "data": {
      "text/html": [
       "<div>\n",
       "<style scoped>\n",
       "    .dataframe tbody tr th:only-of-type {\n",
       "        vertical-align: middle;\n",
       "    }\n",
       "\n",
       "    .dataframe tbody tr th {\n",
       "        vertical-align: top;\n",
       "    }\n",
       "\n",
       "    .dataframe thead th {\n",
       "        text-align: right;\n",
       "    }\n",
       "</style>\n",
       "<table border=\"1\" class=\"dataframe\">\n",
       "  <thead>\n",
       "    <tr style=\"text-align: right;\">\n",
       "      <th></th>\n",
       "      <th>Age</th>\n",
       "      <th>DailyRate</th>\n",
       "      <th>DistanceFromHome</th>\n",
       "      <th>Education</th>\n",
       "      <th>EmployeeCount</th>\n",
       "      <th>EmployeeNumber</th>\n",
       "      <th>EnvironmentSatisfaction</th>\n",
       "      <th>HourlyRate</th>\n",
       "      <th>JobInvolvement</th>\n",
       "      <th>JobLevel</th>\n",
       "      <th>...</th>\n",
       "      <th>RelationshipSatisfaction</th>\n",
       "      <th>StandardHours</th>\n",
       "      <th>StockOptionLevel</th>\n",
       "      <th>TotalWorkingYears</th>\n",
       "      <th>TrainingTimesLastYear</th>\n",
       "      <th>WorkLifeBalance</th>\n",
       "      <th>YearsAtCompany</th>\n",
       "      <th>YearsInCurrentRole</th>\n",
       "      <th>YearsSinceLastPromotion</th>\n",
       "      <th>YearsWithCurrManager</th>\n",
       "    </tr>\n",
       "  </thead>\n",
       "  <tbody>\n",
       "    <tr>\n",
       "      <th>count</th>\n",
       "      <td>1470.000000</td>\n",
       "      <td>1470.000000</td>\n",
       "      <td>1470.000000</td>\n",
       "      <td>1470.000000</td>\n",
       "      <td>1470.0</td>\n",
       "      <td>1470.000000</td>\n",
       "      <td>1470.000000</td>\n",
       "      <td>1470.000000</td>\n",
       "      <td>1470.000000</td>\n",
       "      <td>1470.000000</td>\n",
       "      <td>...</td>\n",
       "      <td>1470.000000</td>\n",
       "      <td>1470.0</td>\n",
       "      <td>1470.000000</td>\n",
       "      <td>1470.000000</td>\n",
       "      <td>1470.000000</td>\n",
       "      <td>1470.000000</td>\n",
       "      <td>1470.000000</td>\n",
       "      <td>1470.000000</td>\n",
       "      <td>1470.000000</td>\n",
       "      <td>1470.000000</td>\n",
       "    </tr>\n",
       "    <tr>\n",
       "      <th>mean</th>\n",
       "      <td>36.923810</td>\n",
       "      <td>802.485714</td>\n",
       "      <td>9.192517</td>\n",
       "      <td>2.912925</td>\n",
       "      <td>1.0</td>\n",
       "      <td>1024.865306</td>\n",
       "      <td>2.721769</td>\n",
       "      <td>65.891156</td>\n",
       "      <td>2.729932</td>\n",
       "      <td>2.063946</td>\n",
       "      <td>...</td>\n",
       "      <td>2.712245</td>\n",
       "      <td>80.0</td>\n",
       "      <td>0.793878</td>\n",
       "      <td>11.279592</td>\n",
       "      <td>2.799320</td>\n",
       "      <td>2.761224</td>\n",
       "      <td>7.008163</td>\n",
       "      <td>4.229252</td>\n",
       "      <td>2.187755</td>\n",
       "      <td>4.123129</td>\n",
       "    </tr>\n",
       "    <tr>\n",
       "      <th>std</th>\n",
       "      <td>9.135373</td>\n",
       "      <td>403.509100</td>\n",
       "      <td>8.106864</td>\n",
       "      <td>1.024165</td>\n",
       "      <td>0.0</td>\n",
       "      <td>602.024335</td>\n",
       "      <td>1.093082</td>\n",
       "      <td>20.329428</td>\n",
       "      <td>0.711561</td>\n",
       "      <td>1.106940</td>\n",
       "      <td>...</td>\n",
       "      <td>1.081209</td>\n",
       "      <td>0.0</td>\n",
       "      <td>0.852077</td>\n",
       "      <td>7.780782</td>\n",
       "      <td>1.289271</td>\n",
       "      <td>0.706476</td>\n",
       "      <td>6.126525</td>\n",
       "      <td>3.623137</td>\n",
       "      <td>3.222430</td>\n",
       "      <td>3.568136</td>\n",
       "    </tr>\n",
       "    <tr>\n",
       "      <th>min</th>\n",
       "      <td>18.000000</td>\n",
       "      <td>102.000000</td>\n",
       "      <td>1.000000</td>\n",
       "      <td>1.000000</td>\n",
       "      <td>1.0</td>\n",
       "      <td>1.000000</td>\n",
       "      <td>1.000000</td>\n",
       "      <td>30.000000</td>\n",
       "      <td>1.000000</td>\n",
       "      <td>1.000000</td>\n",
       "      <td>...</td>\n",
       "      <td>1.000000</td>\n",
       "      <td>80.0</td>\n",
       "      <td>0.000000</td>\n",
       "      <td>0.000000</td>\n",
       "      <td>0.000000</td>\n",
       "      <td>1.000000</td>\n",
       "      <td>0.000000</td>\n",
       "      <td>0.000000</td>\n",
       "      <td>0.000000</td>\n",
       "      <td>0.000000</td>\n",
       "    </tr>\n",
       "    <tr>\n",
       "      <th>25%</th>\n",
       "      <td>30.000000</td>\n",
       "      <td>465.000000</td>\n",
       "      <td>2.000000</td>\n",
       "      <td>2.000000</td>\n",
       "      <td>1.0</td>\n",
       "      <td>491.250000</td>\n",
       "      <td>2.000000</td>\n",
       "      <td>48.000000</td>\n",
       "      <td>2.000000</td>\n",
       "      <td>1.000000</td>\n",
       "      <td>...</td>\n",
       "      <td>2.000000</td>\n",
       "      <td>80.0</td>\n",
       "      <td>0.000000</td>\n",
       "      <td>6.000000</td>\n",
       "      <td>2.000000</td>\n",
       "      <td>2.000000</td>\n",
       "      <td>3.000000</td>\n",
       "      <td>2.000000</td>\n",
       "      <td>0.000000</td>\n",
       "      <td>2.000000</td>\n",
       "    </tr>\n",
       "    <tr>\n",
       "      <th>50%</th>\n",
       "      <td>36.000000</td>\n",
       "      <td>802.000000</td>\n",
       "      <td>7.000000</td>\n",
       "      <td>3.000000</td>\n",
       "      <td>1.0</td>\n",
       "      <td>1020.500000</td>\n",
       "      <td>3.000000</td>\n",
       "      <td>66.000000</td>\n",
       "      <td>3.000000</td>\n",
       "      <td>2.000000</td>\n",
       "      <td>...</td>\n",
       "      <td>3.000000</td>\n",
       "      <td>80.0</td>\n",
       "      <td>1.000000</td>\n",
       "      <td>10.000000</td>\n",
       "      <td>3.000000</td>\n",
       "      <td>3.000000</td>\n",
       "      <td>5.000000</td>\n",
       "      <td>3.000000</td>\n",
       "      <td>1.000000</td>\n",
       "      <td>3.000000</td>\n",
       "    </tr>\n",
       "    <tr>\n",
       "      <th>75%</th>\n",
       "      <td>43.000000</td>\n",
       "      <td>1157.000000</td>\n",
       "      <td>14.000000</td>\n",
       "      <td>4.000000</td>\n",
       "      <td>1.0</td>\n",
       "      <td>1555.750000</td>\n",
       "      <td>4.000000</td>\n",
       "      <td>83.750000</td>\n",
       "      <td>3.000000</td>\n",
       "      <td>3.000000</td>\n",
       "      <td>...</td>\n",
       "      <td>4.000000</td>\n",
       "      <td>80.0</td>\n",
       "      <td>1.000000</td>\n",
       "      <td>15.000000</td>\n",
       "      <td>3.000000</td>\n",
       "      <td>3.000000</td>\n",
       "      <td>9.000000</td>\n",
       "      <td>7.000000</td>\n",
       "      <td>3.000000</td>\n",
       "      <td>7.000000</td>\n",
       "    </tr>\n",
       "    <tr>\n",
       "      <th>max</th>\n",
       "      <td>60.000000</td>\n",
       "      <td>1499.000000</td>\n",
       "      <td>29.000000</td>\n",
       "      <td>5.000000</td>\n",
       "      <td>1.0</td>\n",
       "      <td>2068.000000</td>\n",
       "      <td>4.000000</td>\n",
       "      <td>100.000000</td>\n",
       "      <td>4.000000</td>\n",
       "      <td>5.000000</td>\n",
       "      <td>...</td>\n",
       "      <td>4.000000</td>\n",
       "      <td>80.0</td>\n",
       "      <td>3.000000</td>\n",
       "      <td>40.000000</td>\n",
       "      <td>6.000000</td>\n",
       "      <td>4.000000</td>\n",
       "      <td>40.000000</td>\n",
       "      <td>18.000000</td>\n",
       "      <td>15.000000</td>\n",
       "      <td>17.000000</td>\n",
       "    </tr>\n",
       "  </tbody>\n",
       "</table>\n",
       "<p>8 rows × 26 columns</p>\n",
       "</div>"
      ],
      "text/plain": [
       "               Age    DailyRate  DistanceFromHome    Education  EmployeeCount  \\\n",
       "count  1470.000000  1470.000000       1470.000000  1470.000000         1470.0   \n",
       "mean     36.923810   802.485714          9.192517     2.912925            1.0   \n",
       "std       9.135373   403.509100          8.106864     1.024165            0.0   \n",
       "min      18.000000   102.000000          1.000000     1.000000            1.0   \n",
       "25%      30.000000   465.000000          2.000000     2.000000            1.0   \n",
       "50%      36.000000   802.000000          7.000000     3.000000            1.0   \n",
       "75%      43.000000  1157.000000         14.000000     4.000000            1.0   \n",
       "max      60.000000  1499.000000         29.000000     5.000000            1.0   \n",
       "\n",
       "       EmployeeNumber  EnvironmentSatisfaction   HourlyRate  JobInvolvement  \\\n",
       "count     1470.000000              1470.000000  1470.000000     1470.000000   \n",
       "mean      1024.865306                 2.721769    65.891156        2.729932   \n",
       "std        602.024335                 1.093082    20.329428        0.711561   \n",
       "min          1.000000                 1.000000    30.000000        1.000000   \n",
       "25%        491.250000                 2.000000    48.000000        2.000000   \n",
       "50%       1020.500000                 3.000000    66.000000        3.000000   \n",
       "75%       1555.750000                 4.000000    83.750000        3.000000   \n",
       "max       2068.000000                 4.000000   100.000000        4.000000   \n",
       "\n",
       "          JobLevel  ...  RelationshipSatisfaction  StandardHours  \\\n",
       "count  1470.000000  ...               1470.000000         1470.0   \n",
       "mean      2.063946  ...                  2.712245           80.0   \n",
       "std       1.106940  ...                  1.081209            0.0   \n",
       "min       1.000000  ...                  1.000000           80.0   \n",
       "25%       1.000000  ...                  2.000000           80.0   \n",
       "50%       2.000000  ...                  3.000000           80.0   \n",
       "75%       3.000000  ...                  4.000000           80.0   \n",
       "max       5.000000  ...                  4.000000           80.0   \n",
       "\n",
       "       StockOptionLevel  TotalWorkingYears  TrainingTimesLastYear  \\\n",
       "count       1470.000000        1470.000000            1470.000000   \n",
       "mean           0.793878          11.279592               2.799320   \n",
       "std            0.852077           7.780782               1.289271   \n",
       "min            0.000000           0.000000               0.000000   \n",
       "25%            0.000000           6.000000               2.000000   \n",
       "50%            1.000000          10.000000               3.000000   \n",
       "75%            1.000000          15.000000               3.000000   \n",
       "max            3.000000          40.000000               6.000000   \n",
       "\n",
       "       WorkLifeBalance  YearsAtCompany  YearsInCurrentRole  \\\n",
       "count      1470.000000     1470.000000         1470.000000   \n",
       "mean          2.761224        7.008163            4.229252   \n",
       "std           0.706476        6.126525            3.623137   \n",
       "min           1.000000        0.000000            0.000000   \n",
       "25%           2.000000        3.000000            2.000000   \n",
       "50%           3.000000        5.000000            3.000000   \n",
       "75%           3.000000        9.000000            7.000000   \n",
       "max           4.000000       40.000000           18.000000   \n",
       "\n",
       "       YearsSinceLastPromotion  YearsWithCurrManager  \n",
       "count              1470.000000           1470.000000  \n",
       "mean                  2.187755              4.123129  \n",
       "std                   3.222430              3.568136  \n",
       "min                   0.000000              0.000000  \n",
       "25%                   0.000000              2.000000  \n",
       "50%                   1.000000              3.000000  \n",
       "75%                   3.000000              7.000000  \n",
       "max                  15.000000             17.000000  \n",
       "\n",
       "[8 rows x 26 columns]"
      ]
     },
     "execution_count": 766,
     "metadata": {},
     "output_type": "execute_result"
    }
   ],
   "source": [
    "# view some statistics\n",
    "df.describe()"
   ]
  },
  {
   "cell_type": "markdown",
   "id": "d408973e",
   "metadata": {},
   "source": [
    "Std is more in DailyRate, EmployeeNumber means data spreads too much.\n",
    "In some variable mean is greater then median, skewness are present in those vaiables.\n",
    "some ouliers are present.\n",
    "\n",
    "minimum employe age is 18 and maximum is 60."
   ]
  },
  {
   "cell_type": "code",
   "execution_count": 767,
   "id": "f6878b3d",
   "metadata": {},
   "outputs": [
    {
     "data": {
      "text/plain": [
       "No     1233\n",
       "Yes     237\n",
       "Name: Attrition, dtype: int64"
      ]
     },
     "execution_count": 767,
     "metadata": {},
     "output_type": "execute_result"
    }
   ],
   "source": [
    "df['Attrition'].value_counts()"
   ]
  },
  {
   "cell_type": "markdown",
   "id": "08d5d477",
   "metadata": {},
   "source": [
    "1233 employees stayed with the company and 229 employess left the company"
   ]
  },
  {
   "cell_type": "code",
   "execution_count": 768,
   "id": "453f8665",
   "metadata": {},
   "outputs": [
    {
     "data": {
      "text/plain": [
       "<AxesSubplot:xlabel='Attrition', ylabel='count'>"
      ]
     },
     "execution_count": 768,
     "metadata": {},
     "output_type": "execute_result"
    },
    {
     "data": {
      "image/png": "[encoded data removed]",
      "text/plain": [
       "<Figure size 432x288 with 1 Axes>"
      ]
     },
     "metadata": {
      "needs_background": "light"
     },
     "output_type": "display_data"
    }
   ],
   "source": [
    "#Visualize the number of employees that stayed and left the company\n",
    "sn.countplot(df['Attrition'])"
   ]
  },
  {
   "cell_type": "code",
   "execution_count": 769,
   "id": "fd1d9ab7",
   "metadata": {},
   "outputs": [
    {
     "data": {
      "text/plain": [
       "<AxesSubplot:xlabel='Age', ylabel='count'>"
      ]
     },
     "execution_count": 769,
     "metadata": {},
     "output_type": "execute_result"
    },
    {
     "data": {
      "image/png": "[encoded data removed]",
      "text/plain": [
       "<Figure size 864x288 with 1 Axes>"
      ]
     },
     "metadata": {
      "needs_background": "light"
     },
     "output_type": "display_data"
    }
   ],
   "source": [
    "#Show the number of employees thata left and stayed by age\n",
    "import matplotlib.pyplot as plt\n",
    "plt.subplots(figsize=(12,4))\n",
    "sn.countplot(x='Age',hue='Attrition', data=df,palette='colorblind')"
   ]
  },
  {
   "cell_type": "markdown",
   "id": "9a3ef872",
   "metadata": {},
   "source": [
    "Between age 24-31 left job but between age 34-38 employee stayed in the company."
   ]
  },
  {
   "cell_type": "code",
   "execution_count": 770,
   "id": "d8db7468",
   "metadata": {},
   "outputs": [
    {
     "name": "stdout",
     "output_type": "stream",
     "text": [
      "Attrition :['Yes' 'No']\n",
      "No     1233\n",
      "Yes     237\n",
      "Name: Attrition, dtype: int64\n",
      "------------------------\n",
      "BusinessTravel :['Travel_Rarely' 'Travel_Frequently' 'Non-Travel']\n",
      "Travel_Rarely        1043\n",
      "Travel_Frequently     277\n",
      "Non-Travel            150\n",
      "Name: BusinessTravel, dtype: int64\n",
      "------------------------\n",
      "Department :['Sales' 'Research & Development' 'Human Resources']\n",
      "Research & Development    961\n",
      "Sales                     446\n",
      "Human Resources            63\n",
      "Name: Department, dtype: int64\n",
      "------------------------\n",
      "EducationField :['Life Sciences' 'Other' 'Medical' 'Marketing' 'Technical Degree'\n",
      " 'Human Resources']\n",
      "Life Sciences       606\n",
      "Medical             464\n",
      "Marketing           159\n",
      "Technical Degree    132\n",
      "Other                82\n",
      "Human Resources      27\n",
      "Name: EducationField, dtype: int64\n",
      "------------------------\n",
      "Gender :['Female' 'Male']\n",
      "Male      882\n",
      "Female    588\n",
      "Name: Gender, dtype: int64\n",
      "------------------------\n",
      "JobRole :['Sales Executive' 'Research Scientist' 'Laboratory Technician'\n",
      " 'Manufacturing Director' 'Healthcare Representative' 'Manager'\n",
      " 'Sales Representative' 'Research Director' 'Human Resources']\n",
      "Sales Executive              326\n",
      "Research Scientist           292\n",
      "Laboratory Technician        259\n",
      "Manufacturing Director       145\n",
      "Healthcare Representative    131\n",
      "Manager                      102\n",
      "Sales Representative          83\n",
      "Research Director             80\n",
      "Human Resources               52\n",
      "Name: JobRole, dtype: int64\n",
      "------------------------\n",
      "MaritalStatus :['Single' 'Married' 'Divorced']\n",
      "Married     673\n",
      "Single      470\n",
      "Divorced    327\n",
      "Name: MaritalStatus, dtype: int64\n",
      "------------------------\n",
      "Over18 :['Y']\n",
      "Y    1470\n",
      "Name: Over18, dtype: int64\n",
      "------------------------\n",
      "OverTime :['Yes' 'No']\n",
      "No     1054\n",
      "Yes     416\n",
      "Name: OverTime, dtype: int64\n",
      "------------------------\n"
     ]
    }
   ],
   "source": [
    "#Print all of the data types and their unique value\n",
    "for column in df.columns:\n",
    "    if df[column].dtype == object:\n",
    "        print(str(column) + ' :'+ str(df[column].unique()))\n",
    "        print(df[column].value_counts())\n",
    "        print('------------------------')"
   ]
  },
  {
   "cell_type": "code",
   "execution_count": 771,
   "id": "c8e58e08",
   "metadata": {},
   "outputs": [
    {
     "data": {
      "text/plain": [
       "array([80], dtype=int64)"
      ]
     },
     "execution_count": 771,
     "metadata": {},
     "output_type": "execute_result"
    }
   ],
   "source": [
    "df['StandardHours'].unique()"
   ]
  },
  {
   "cell_type": "code",
   "execution_count": 772,
   "id": "832101fd",
   "metadata": {},
   "outputs": [
    {
     "data": {
      "text/plain": [
       "array([1], dtype=int64)"
      ]
     },
     "execution_count": 772,
     "metadata": {},
     "output_type": "execute_result"
    }
   ],
   "source": [
    "df['EmployeeCount'].unique()"
   ]
  },
  {
   "cell_type": "code",
   "execution_count": 773,
   "id": "52a0ef34",
   "metadata": {},
   "outputs": [],
   "source": [
    "#Remove some columns\n",
    "df= df.drop('Over18',axis=1)\n",
    "df = df.drop('EmployeeNumber',axis=1)\n",
    "df = df.drop('StandardHours',axis=1)\n",
    "df = df.drop('EmployeeCount',axis=1)"
   ]
  },
  {
   "cell_type": "markdown",
   "id": "f4103381",
   "metadata": {},
   "source": [
    "All the empoyees are above 18 no need of column over18 we can drop it.\n",
    "EmployeeNumber is a number which will not affect the Attrition so we can drop it.\n",
    "StandardHours is same for everyone so we can drop it too.\n",
    "EmployeeCount is also same for everyone so we can drop it too."
   ]
  },
  {
   "cell_type": "code",
   "execution_count": 774,
   "id": "905f4333",
   "metadata": {},
   "outputs": [
    {
     "data": {
      "text/html": [
       "<div>\n",
       "<style scoped>\n",
       "    .dataframe tbody tr th:only-of-type {\n",
       "        vertical-align: middle;\n",
       "    }\n",
       "\n",
       "    .dataframe tbody tr th {\n",
       "        vertical-align: top;\n",
       "    }\n",
       "\n",
       "    .dataframe thead th {\n",
       "        text-align: right;\n",
       "    }\n",
       "</style>\n",
       "<table border=\"1\" class=\"dataframe\">\n",
       "  <thead>\n",
       "    <tr style=\"text-align: right;\">\n",
       "      <th></th>\n",
       "      <th>Age</th>\n",
       "      <th>Attrition</th>\n",
       "      <th>BusinessTravel</th>\n",
       "      <th>DailyRate</th>\n",
       "      <th>Department</th>\n",
       "      <th>DistanceFromHome</th>\n",
       "      <th>Education</th>\n",
       "      <th>EducationField</th>\n",
       "      <th>EnvironmentSatisfaction</th>\n",
       "      <th>Gender</th>\n",
       "      <th>...</th>\n",
       "      <th>PerformanceRating</th>\n",
       "      <th>RelationshipSatisfaction</th>\n",
       "      <th>StockOptionLevel</th>\n",
       "      <th>TotalWorkingYears</th>\n",
       "      <th>TrainingTimesLastYear</th>\n",
       "      <th>WorkLifeBalance</th>\n",
       "      <th>YearsAtCompany</th>\n",
       "      <th>YearsInCurrentRole</th>\n",
       "      <th>YearsSinceLastPromotion</th>\n",
       "      <th>YearsWithCurrManager</th>\n",
       "    </tr>\n",
       "  </thead>\n",
       "  <tbody>\n",
       "    <tr>\n",
       "      <th>0</th>\n",
       "      <td>23</td>\n",
       "      <td>1</td>\n",
       "      <td>2</td>\n",
       "      <td>624</td>\n",
       "      <td>2</td>\n",
       "      <td>0</td>\n",
       "      <td>1</td>\n",
       "      <td>1</td>\n",
       "      <td>1</td>\n",
       "      <td>0</td>\n",
       "      <td>...</td>\n",
       "      <td>0</td>\n",
       "      <td>0</td>\n",
       "      <td>0</td>\n",
       "      <td>8</td>\n",
       "      <td>0</td>\n",
       "      <td>0</td>\n",
       "      <td>6</td>\n",
       "      <td>4</td>\n",
       "      <td>0</td>\n",
       "      <td>5</td>\n",
       "    </tr>\n",
       "    <tr>\n",
       "      <th>1</th>\n",
       "      <td>31</td>\n",
       "      <td>0</td>\n",
       "      <td>1</td>\n",
       "      <td>113</td>\n",
       "      <td>1</td>\n",
       "      <td>7</td>\n",
       "      <td>0</td>\n",
       "      <td>1</td>\n",
       "      <td>2</td>\n",
       "      <td>1</td>\n",
       "      <td>...</td>\n",
       "      <td>1</td>\n",
       "      <td>3</td>\n",
       "      <td>1</td>\n",
       "      <td>10</td>\n",
       "      <td>3</td>\n",
       "      <td>2</td>\n",
       "      <td>10</td>\n",
       "      <td>7</td>\n",
       "      <td>1</td>\n",
       "      <td>7</td>\n",
       "    </tr>\n",
       "    <tr>\n",
       "      <th>2</th>\n",
       "      <td>19</td>\n",
       "      <td>1</td>\n",
       "      <td>2</td>\n",
       "      <td>805</td>\n",
       "      <td>1</td>\n",
       "      <td>1</td>\n",
       "      <td>1</td>\n",
       "      <td>4</td>\n",
       "      <td>3</td>\n",
       "      <td>1</td>\n",
       "      <td>...</td>\n",
       "      <td>0</td>\n",
       "      <td>1</td>\n",
       "      <td>0</td>\n",
       "      <td>7</td>\n",
       "      <td>3</td>\n",
       "      <td>2</td>\n",
       "      <td>0</td>\n",
       "      <td>0</td>\n",
       "      <td>0</td>\n",
       "      <td>0</td>\n",
       "    </tr>\n",
       "    <tr>\n",
       "      <th>3</th>\n",
       "      <td>15</td>\n",
       "      <td>0</td>\n",
       "      <td>1</td>\n",
       "      <td>820</td>\n",
       "      <td>1</td>\n",
       "      <td>2</td>\n",
       "      <td>3</td>\n",
       "      <td>1</td>\n",
       "      <td>3</td>\n",
       "      <td>0</td>\n",
       "      <td>...</td>\n",
       "      <td>0</td>\n",
       "      <td>2</td>\n",
       "      <td>0</td>\n",
       "      <td>8</td>\n",
       "      <td>3</td>\n",
       "      <td>2</td>\n",
       "      <td>8</td>\n",
       "      <td>7</td>\n",
       "      <td>3</td>\n",
       "      <td>0</td>\n",
       "    </tr>\n",
       "    <tr>\n",
       "      <th>4</th>\n",
       "      <td>9</td>\n",
       "      <td>0</td>\n",
       "      <td>2</td>\n",
       "      <td>312</td>\n",
       "      <td>1</td>\n",
       "      <td>1</td>\n",
       "      <td>0</td>\n",
       "      <td>3</td>\n",
       "      <td>0</td>\n",
       "      <td>1</td>\n",
       "      <td>...</td>\n",
       "      <td>0</td>\n",
       "      <td>3</td>\n",
       "      <td>1</td>\n",
       "      <td>6</td>\n",
       "      <td>3</td>\n",
       "      <td>2</td>\n",
       "      <td>2</td>\n",
       "      <td>2</td>\n",
       "      <td>2</td>\n",
       "      <td>2</td>\n",
       "    </tr>\n",
       "  </tbody>\n",
       "</table>\n",
       "<p>5 rows × 31 columns</p>\n",
       "</div>"
      ],
      "text/plain": [
       "   Age  Attrition  BusinessTravel  DailyRate  Department  DistanceFromHome  \\\n",
       "0   23          1               2        624           2                 0   \n",
       "1   31          0               1        113           1                 7   \n",
       "2   19          1               2        805           1                 1   \n",
       "3   15          0               1        820           1                 2   \n",
       "4    9          0               2        312           1                 1   \n",
       "\n",
       "   Education  EducationField  EnvironmentSatisfaction  Gender  ...  \\\n",
       "0          1               1                        1       0  ...   \n",
       "1          0               1                        2       1  ...   \n",
       "2          1               4                        3       1  ...   \n",
       "3          3               1                        3       0  ...   \n",
       "4          0               3                        0       1  ...   \n",
       "\n",
       "   PerformanceRating  RelationshipSatisfaction  StockOptionLevel  \\\n",
       "0                  0                         0                 0   \n",
       "1                  1                         3                 1   \n",
       "2                  0                         1                 0   \n",
       "3                  0                         2                 0   \n",
       "4                  0                         3                 1   \n",
       "\n",
       "   TotalWorkingYears  TrainingTimesLastYear  WorkLifeBalance  YearsAtCompany  \\\n",
       "0                  8                      0                0               6   \n",
       "1                 10                      3                2              10   \n",
       "2                  7                      3                2               0   \n",
       "3                  8                      3                2               8   \n",
       "4                  6                      3                2               2   \n",
       "\n",
       "   YearsInCurrentRole  YearsSinceLastPromotion  YearsWithCurrManager  \n",
       "0                   4                        0                     5  \n",
       "1                   7                        1                     7  \n",
       "2                   0                        0                     0  \n",
       "3                   7                        3                     0  \n",
       "4                   2                        2                     2  \n",
       "\n",
       "[5 rows x 31 columns]"
      ]
     },
     "execution_count": 774,
     "metadata": {},
     "output_type": "execute_result"
    }
   ],
   "source": [
    "le= LabelEncoder()\n",
    "df= df.apply(LabelEncoder().fit_transform)\n",
    "df.head()"
   ]
  },
  {
   "cell_type": "code",
   "execution_count": 775,
   "id": "0e3e7d90",
   "metadata": {},
   "outputs": [
    {
     "data": {
      "text/html": [
       "<div>\n",
       "<style scoped>\n",
       "    .dataframe tbody tr th:only-of-type {\n",
       "        vertical-align: middle;\n",
       "    }\n",
       "\n",
       "    .dataframe tbody tr th {\n",
       "        vertical-align: top;\n",
       "    }\n",
       "\n",
       "    .dataframe thead th {\n",
       "        text-align: right;\n",
       "    }\n",
       "</style>\n",
       "<table border=\"1\" class=\"dataframe\">\n",
       "  <thead>\n",
       "    <tr style=\"text-align: right;\">\n",
       "      <th></th>\n",
       "      <th>Age</th>\n",
       "      <th>Attrition</th>\n",
       "      <th>BusinessTravel</th>\n",
       "      <th>DailyRate</th>\n",
       "      <th>Department</th>\n",
       "      <th>DistanceFromHome</th>\n",
       "      <th>Education</th>\n",
       "      <th>EducationField</th>\n",
       "      <th>EnvironmentSatisfaction</th>\n",
       "      <th>Gender</th>\n",
       "      <th>...</th>\n",
       "      <th>PerformanceRating</th>\n",
       "      <th>RelationshipSatisfaction</th>\n",
       "      <th>StockOptionLevel</th>\n",
       "      <th>TotalWorkingYears</th>\n",
       "      <th>TrainingTimesLastYear</th>\n",
       "      <th>WorkLifeBalance</th>\n",
       "      <th>YearsAtCompany</th>\n",
       "      <th>YearsInCurrentRole</th>\n",
       "      <th>YearsSinceLastPromotion</th>\n",
       "      <th>YearsWithCurrManager</th>\n",
       "    </tr>\n",
       "  </thead>\n",
       "  <tbody>\n",
       "    <tr>\n",
       "      <th>Age</th>\n",
       "      <td>1.000000</td>\n",
       "      <td>-0.159205</td>\n",
       "      <td>0.024751</td>\n",
       "      <td>0.010557</td>\n",
       "      <td>-0.031882</td>\n",
       "      <td>-0.001686</td>\n",
       "      <td>0.208034</td>\n",
       "      <td>-0.040873</td>\n",
       "      <td>0.010146</td>\n",
       "      <td>-0.036311</td>\n",
       "      <td>...</td>\n",
       "      <td>0.001904</td>\n",
       "      <td>0.053535</td>\n",
       "      <td>0.037510</td>\n",
       "      <td>0.680409</td>\n",
       "      <td>-0.019621</td>\n",
       "      <td>-0.021490</td>\n",
       "      <td>0.309796</td>\n",
       "      <td>0.212901</td>\n",
       "      <td>0.216513</td>\n",
       "      <td>0.202089</td>\n",
       "    </tr>\n",
       "    <tr>\n",
       "      <th>Attrition</th>\n",
       "      <td>-0.159205</td>\n",
       "      <td>1.000000</td>\n",
       "      <td>0.000074</td>\n",
       "      <td>-0.056605</td>\n",
       "      <td>0.063991</td>\n",
       "      <td>0.077924</td>\n",
       "      <td>-0.031373</td>\n",
       "      <td>0.026846</td>\n",
       "      <td>-0.103369</td>\n",
       "      <td>0.029453</td>\n",
       "      <td>...</td>\n",
       "      <td>0.002889</td>\n",
       "      <td>-0.045872</td>\n",
       "      <td>-0.137145</td>\n",
       "      <td>-0.171571</td>\n",
       "      <td>-0.059478</td>\n",
       "      <td>-0.063939</td>\n",
       "      <td>-0.136932</td>\n",
       "      <td>-0.160545</td>\n",
       "      <td>-0.033019</td>\n",
       "      <td>-0.156199</td>\n",
       "    </tr>\n",
       "    <tr>\n",
       "      <th>BusinessTravel</th>\n",
       "      <td>0.024751</td>\n",
       "      <td>0.000074</td>\n",
       "      <td>1.000000</td>\n",
       "      <td>-0.004103</td>\n",
       "      <td>-0.009044</td>\n",
       "      <td>-0.024469</td>\n",
       "      <td>0.000757</td>\n",
       "      <td>0.023724</td>\n",
       "      <td>0.004174</td>\n",
       "      <td>-0.032981</td>\n",
       "      <td>...</td>\n",
       "      <td>-0.026341</td>\n",
       "      <td>-0.035986</td>\n",
       "      <td>-0.016727</td>\n",
       "      <td>0.034144</td>\n",
       "      <td>0.015240</td>\n",
       "      <td>-0.011256</td>\n",
       "      <td>-0.014720</td>\n",
       "      <td>-0.011497</td>\n",
       "      <td>-0.032591</td>\n",
       "      <td>-0.022636</td>\n",
       "    </tr>\n",
       "    <tr>\n",
       "      <th>DailyRate</th>\n",
       "      <td>0.010557</td>\n",
       "      <td>-0.056605</td>\n",
       "      <td>-0.004103</td>\n",
       "      <td>1.000000</td>\n",
       "      <td>0.007796</td>\n",
       "      <td>-0.004738</td>\n",
       "      <td>-0.016550</td>\n",
       "      <td>0.038129</td>\n",
       "      <td>0.018462</td>\n",
       "      <td>-0.011194</td>\n",
       "      <td>...</td>\n",
       "      <td>0.000633</td>\n",
       "      <td>0.008530</td>\n",
       "      <td>0.041786</td>\n",
       "      <td>0.014877</td>\n",
       "      <td>0.002227</td>\n",
       "      <td>-0.037791</td>\n",
       "      <td>-0.032461</td>\n",
       "      <td>0.010997</td>\n",
       "      <td>-0.033431</td>\n",
       "      <td>-0.025849</td>\n",
       "    </tr>\n",
       "    <tr>\n",
       "      <th>Department</th>\n",
       "      <td>-0.031882</td>\n",
       "      <td>0.063991</td>\n",
       "      <td>-0.009044</td>\n",
       "      <td>0.007796</td>\n",
       "      <td>1.000000</td>\n",
       "      <td>0.017225</td>\n",
       "      <td>0.007996</td>\n",
       "      <td>0.013720</td>\n",
       "      <td>-0.019395</td>\n",
       "      <td>-0.041583</td>\n",
       "      <td>...</td>\n",
       "      <td>-0.024604</td>\n",
       "      <td>-0.022414</td>\n",
       "      <td>-0.012193</td>\n",
       "      <td>-0.015685</td>\n",
       "      <td>0.036875</td>\n",
       "      <td>0.026383</td>\n",
       "      <td>0.023308</td>\n",
       "      <td>0.056315</td>\n",
       "      <td>0.040061</td>\n",
       "      <td>0.034282</td>\n",
       "    </tr>\n",
       "    <tr>\n",
       "      <th>DistanceFromHome</th>\n",
       "      <td>-0.001686</td>\n",
       "      <td>0.077924</td>\n",
       "      <td>-0.024469</td>\n",
       "      <td>-0.004738</td>\n",
       "      <td>0.017225</td>\n",
       "      <td>1.000000</td>\n",
       "      <td>0.021042</td>\n",
       "      <td>0.002013</td>\n",
       "      <td>-0.016075</td>\n",
       "      <td>-0.001851</td>\n",
       "      <td>...</td>\n",
       "      <td>0.027110</td>\n",
       "      <td>0.006557</td>\n",
       "      <td>0.044872</td>\n",
       "      <td>0.004560</td>\n",
       "      <td>-0.036942</td>\n",
       "      <td>-0.026556</td>\n",
       "      <td>0.009038</td>\n",
       "      <td>0.018845</td>\n",
       "      <td>0.010029</td>\n",
       "      <td>0.014406</td>\n",
       "    </tr>\n",
       "    <tr>\n",
       "      <th>Education</th>\n",
       "      <td>0.208034</td>\n",
       "      <td>-0.031373</td>\n",
       "      <td>0.000757</td>\n",
       "      <td>-0.016550</td>\n",
       "      <td>0.007996</td>\n",
       "      <td>0.021042</td>\n",
       "      <td>1.000000</td>\n",
       "      <td>-0.039592</td>\n",
       "      <td>-0.027128</td>\n",
       "      <td>-0.016547</td>\n",
       "      <td>...</td>\n",
       "      <td>-0.024539</td>\n",
       "      <td>-0.009118</td>\n",
       "      <td>0.018422</td>\n",
       "      <td>0.148188</td>\n",
       "      <td>-0.025100</td>\n",
       "      <td>0.009819</td>\n",
       "      <td>0.067737</td>\n",
       "      <td>0.060236</td>\n",
       "      <td>0.054254</td>\n",
       "      <td>0.069065</td>\n",
       "    </tr>\n",
       "    <tr>\n",
       "      <th>EducationField</th>\n",
       "      <td>-0.040873</td>\n",
       "      <td>0.026846</td>\n",
       "      <td>0.023724</td>\n",
       "      <td>0.038129</td>\n",
       "      <td>0.013720</td>\n",
       "      <td>0.002013</td>\n",
       "      <td>-0.039592</td>\n",
       "      <td>1.000000</td>\n",
       "      <td>0.043163</td>\n",
       "      <td>-0.002504</td>\n",
       "      <td>...</td>\n",
       "      <td>-0.005614</td>\n",
       "      <td>-0.004378</td>\n",
       "      <td>-0.016185</td>\n",
       "      <td>-0.027833</td>\n",
       "      <td>0.049195</td>\n",
       "      <td>0.041191</td>\n",
       "      <td>-0.018987</td>\n",
       "      <td>-0.010506</td>\n",
       "      <td>0.002326</td>\n",
       "      <td>-0.004130</td>\n",
       "    </tr>\n",
       "    <tr>\n",
       "      <th>EnvironmentSatisfaction</th>\n",
       "      <td>0.010146</td>\n",
       "      <td>-0.103369</td>\n",
       "      <td>0.004174</td>\n",
       "      <td>0.018462</td>\n",
       "      <td>-0.019395</td>\n",
       "      <td>-0.016075</td>\n",
       "      <td>-0.027128</td>\n",
       "      <td>0.043163</td>\n",
       "      <td>1.000000</td>\n",
       "      <td>0.000508</td>\n",
       "      <td>...</td>\n",
       "      <td>-0.029548</td>\n",
       "      <td>0.007665</td>\n",
       "      <td>0.003432</td>\n",
       "      <td>-0.002900</td>\n",
       "      <td>-0.019359</td>\n",
       "      <td>0.027627</td>\n",
       "      <td>0.000657</td>\n",
       "      <td>0.018007</td>\n",
       "      <td>0.016194</td>\n",
       "      <td>-0.004999</td>\n",
       "    </tr>\n",
       "    <tr>\n",
       "      <th>Gender</th>\n",
       "      <td>-0.036311</td>\n",
       "      <td>0.029453</td>\n",
       "      <td>-0.032981</td>\n",
       "      <td>-0.011194</td>\n",
       "      <td>-0.041583</td>\n",
       "      <td>-0.001851</td>\n",
       "      <td>-0.016547</td>\n",
       "      <td>-0.002504</td>\n",
       "      <td>0.000508</td>\n",
       "      <td>1.000000</td>\n",
       "      <td>...</td>\n",
       "      <td>-0.013859</td>\n",
       "      <td>0.022868</td>\n",
       "      <td>0.012716</td>\n",
       "      <td>-0.046875</td>\n",
       "      <td>-0.038787</td>\n",
       "      <td>-0.002753</td>\n",
       "      <td>-0.030797</td>\n",
       "      <td>-0.041483</td>\n",
       "      <td>-0.026985</td>\n",
       "      <td>-0.030599</td>\n",
       "    </tr>\n",
       "    <tr>\n",
       "      <th>HourlyRate</th>\n",
       "      <td>0.024287</td>\n",
       "      <td>-0.006846</td>\n",
       "      <td>0.026528</td>\n",
       "      <td>0.022916</td>\n",
       "      <td>-0.004144</td>\n",
       "      <td>0.031131</td>\n",
       "      <td>0.016775</td>\n",
       "      <td>-0.021941</td>\n",
       "      <td>-0.049857</td>\n",
       "      <td>-0.000478</td>\n",
       "      <td>...</td>\n",
       "      <td>-0.002172</td>\n",
       "      <td>0.001330</td>\n",
       "      <td>0.050263</td>\n",
       "      <td>-0.002306</td>\n",
       "      <td>-0.008548</td>\n",
       "      <td>-0.004607</td>\n",
       "      <td>-0.020122</td>\n",
       "      <td>-0.024106</td>\n",
       "      <td>-0.026716</td>\n",
       "      <td>-0.020123</td>\n",
       "    </tr>\n",
       "    <tr>\n",
       "      <th>JobInvolvement</th>\n",
       "      <td>0.029820</td>\n",
       "      <td>-0.130016</td>\n",
       "      <td>0.039062</td>\n",
       "      <td>0.046072</td>\n",
       "      <td>-0.024586</td>\n",
       "      <td>0.008783</td>\n",
       "      <td>0.042438</td>\n",
       "      <td>-0.002655</td>\n",
       "      <td>-0.008278</td>\n",
       "      <td>0.017960</td>\n",
       "      <td>...</td>\n",
       "      <td>-0.029071</td>\n",
       "      <td>0.034297</td>\n",
       "      <td>0.021523</td>\n",
       "      <td>-0.005603</td>\n",
       "      <td>-0.015338</td>\n",
       "      <td>-0.014617</td>\n",
       "      <td>-0.020785</td>\n",
       "      <td>0.008717</td>\n",
       "      <td>-0.024184</td>\n",
       "      <td>0.025976</td>\n",
       "    </tr>\n",
       "    <tr>\n",
       "      <th>JobLevel</th>\n",
       "      <td>0.509604</td>\n",
       "      <td>-0.169105</td>\n",
       "      <td>0.019311</td>\n",
       "      <td>0.003355</td>\n",
       "      <td>0.101963</td>\n",
       "      <td>0.005303</td>\n",
       "      <td>0.101589</td>\n",
       "      <td>-0.044933</td>\n",
       "      <td>0.001212</td>\n",
       "      <td>-0.039403</td>\n",
       "      <td>...</td>\n",
       "      <td>-0.021222</td>\n",
       "      <td>0.021642</td>\n",
       "      <td>0.013984</td>\n",
       "      <td>0.782398</td>\n",
       "      <td>-0.018191</td>\n",
       "      <td>0.037818</td>\n",
       "      <td>0.535603</td>\n",
       "      <td>0.389447</td>\n",
       "      <td>0.353885</td>\n",
       "      <td>0.375281</td>\n",
       "    </tr>\n",
       "    <tr>\n",
       "      <th>JobRole</th>\n",
       "      <td>-0.122427</td>\n",
       "      <td>0.067151</td>\n",
       "      <td>0.002724</td>\n",
       "      <td>-0.009127</td>\n",
       "      <td>0.662431</td>\n",
       "      <td>-0.001015</td>\n",
       "      <td>0.004236</td>\n",
       "      <td>0.015599</td>\n",
       "      <td>-0.017321</td>\n",
       "      <td>-0.039723</td>\n",
       "      <td>...</td>\n",
       "      <td>-0.024233</td>\n",
       "      <td>-0.020218</td>\n",
       "      <td>-0.019171</td>\n",
       "      <td>-0.145392</td>\n",
       "      <td>0.001342</td>\n",
       "      <td>0.027764</td>\n",
       "      <td>-0.082870</td>\n",
       "      <td>-0.028354</td>\n",
       "      <td>-0.046384</td>\n",
       "      <td>-0.041150</td>\n",
       "    </tr>\n",
       "    <tr>\n",
       "      <th>JobSatisfaction</th>\n",
       "      <td>-0.004892</td>\n",
       "      <td>-0.103481</td>\n",
       "      <td>-0.033962</td>\n",
       "      <td>0.030712</td>\n",
       "      <td>0.021001</td>\n",
       "      <td>-0.003669</td>\n",
       "      <td>-0.011296</td>\n",
       "      <td>-0.034401</td>\n",
       "      <td>-0.006784</td>\n",
       "      <td>0.033252</td>\n",
       "      <td>...</td>\n",
       "      <td>0.002297</td>\n",
       "      <td>-0.012454</td>\n",
       "      <td>0.010690</td>\n",
       "      <td>-0.020241</td>\n",
       "      <td>-0.005779</td>\n",
       "      <td>-0.019459</td>\n",
       "      <td>-0.003929</td>\n",
       "      <td>-0.002305</td>\n",
       "      <td>-0.018214</td>\n",
       "      <td>-0.027656</td>\n",
       "    </tr>\n",
       "    <tr>\n",
       "      <th>MaritalStatus</th>\n",
       "      <td>-0.095029</td>\n",
       "      <td>0.162070</td>\n",
       "      <td>0.024001</td>\n",
       "      <td>-0.069527</td>\n",
       "      <td>0.056073</td>\n",
       "      <td>-0.014437</td>\n",
       "      <td>0.004053</td>\n",
       "      <td>0.014420</td>\n",
       "      <td>-0.003593</td>\n",
       "      <td>-0.047183</td>\n",
       "      <td>...</td>\n",
       "      <td>0.005207</td>\n",
       "      <td>0.022549</td>\n",
       "      <td>-0.662577</td>\n",
       "      <td>-0.078032</td>\n",
       "      <td>0.010629</td>\n",
       "      <td>0.014708</td>\n",
       "      <td>-0.060648</td>\n",
       "      <td>-0.065822</td>\n",
       "      <td>-0.030915</td>\n",
       "      <td>-0.038570</td>\n",
       "    </tr>\n",
       "    <tr>\n",
       "      <th>MonthlyIncome</th>\n",
       "      <td>0.472198</td>\n",
       "      <td>-0.196165</td>\n",
       "      <td>0.025095</td>\n",
       "      <td>0.015784</td>\n",
       "      <td>0.157526</td>\n",
       "      <td>0.011962</td>\n",
       "      <td>0.124561</td>\n",
       "      <td>-0.044306</td>\n",
       "      <td>-0.015259</td>\n",
       "      <td>-0.044121</td>\n",
       "      <td>...</td>\n",
       "      <td>-0.026355</td>\n",
       "      <td>0.005688</td>\n",
       "      <td>0.023343</td>\n",
       "      <td>0.705164</td>\n",
       "      <td>-0.028533</td>\n",
       "      <td>0.034372</td>\n",
       "      <td>0.489707</td>\n",
       "      <td>0.406535</td>\n",
       "      <td>0.324573</td>\n",
       "      <td>0.377748</td>\n",
       "    </tr>\n",
       "    <tr>\n",
       "      <th>MonthlyRate</th>\n",
       "      <td>0.028362</td>\n",
       "      <td>0.015273</td>\n",
       "      <td>-0.014115</td>\n",
       "      <td>-0.032051</td>\n",
       "      <td>0.023898</td>\n",
       "      <td>0.028298</td>\n",
       "      <td>-0.025694</td>\n",
       "      <td>-0.026343</td>\n",
       "      <td>0.037545</td>\n",
       "      <td>-0.041786</td>\n",
       "      <td>...</td>\n",
       "      <td>-0.009603</td>\n",
       "      <td>-0.003874</td>\n",
       "      <td>-0.034305</td>\n",
       "      <td>0.026188</td>\n",
       "      <td>0.001187</td>\n",
       "      <td>0.008326</td>\n",
       "      <td>-0.024466</td>\n",
       "      <td>-0.012916</td>\n",
       "      <td>0.001152</td>\n",
       "      <td>-0.037059</td>\n",
       "    </tr>\n",
       "    <tr>\n",
       "      <th>NumCompaniesWorked</th>\n",
       "      <td>0.299635</td>\n",
       "      <td>0.043494</td>\n",
       "      <td>0.020875</td>\n",
       "      <td>0.037304</td>\n",
       "      <td>-0.035882</td>\n",
       "      <td>-0.029251</td>\n",
       "      <td>0.126317</td>\n",
       "      <td>-0.008663</td>\n",
       "      <td>0.012594</td>\n",
       "      <td>-0.039147</td>\n",
       "      <td>...</td>\n",
       "      <td>-0.014095</td>\n",
       "      <td>0.052733</td>\n",
       "      <td>0.030075</td>\n",
       "      <td>0.237698</td>\n",
       "      <td>-0.066054</td>\n",
       "      <td>-0.008366</td>\n",
       "      <td>-0.118314</td>\n",
       "      <td>-0.090754</td>\n",
       "      <td>-0.036814</td>\n",
       "      <td>-0.110319</td>\n",
       "    </tr>\n",
       "    <tr>\n",
       "      <th>OverTime</th>\n",
       "      <td>0.028062</td>\n",
       "      <td>0.246118</td>\n",
       "      <td>0.016543</td>\n",
       "      <td>0.008902</td>\n",
       "      <td>0.007481</td>\n",
       "      <td>0.025514</td>\n",
       "      <td>-0.020322</td>\n",
       "      <td>0.002259</td>\n",
       "      <td>0.070132</td>\n",
       "      <td>-0.041924</td>\n",
       "      <td>...</td>\n",
       "      <td>0.004369</td>\n",
       "      <td>0.048493</td>\n",
       "      <td>-0.000449</td>\n",
       "      <td>0.012678</td>\n",
       "      <td>-0.079113</td>\n",
       "      <td>-0.027092</td>\n",
       "      <td>-0.012559</td>\n",
       "      <td>-0.029758</td>\n",
       "      <td>-0.012239</td>\n",
       "      <td>-0.041586</td>\n",
       "    </tr>\n",
       "    <tr>\n",
       "      <th>PercentSalaryHike</th>\n",
       "      <td>0.003634</td>\n",
       "      <td>-0.013478</td>\n",
       "      <td>-0.029377</td>\n",
       "      <td>0.022339</td>\n",
       "      <td>-0.007840</td>\n",
       "      <td>0.040235</td>\n",
       "      <td>-0.011111</td>\n",
       "      <td>-0.011214</td>\n",
       "      <td>-0.031701</td>\n",
       "      <td>0.002733</td>\n",
       "      <td>...</td>\n",
       "      <td>0.773550</td>\n",
       "      <td>-0.040490</td>\n",
       "      <td>0.007528</td>\n",
       "      <td>-0.020468</td>\n",
       "      <td>-0.005221</td>\n",
       "      <td>-0.003280</td>\n",
       "      <td>-0.035745</td>\n",
       "      <td>-0.001520</td>\n",
       "      <td>-0.022154</td>\n",
       "      <td>-0.011985</td>\n",
       "    </tr>\n",
       "    <tr>\n",
       "      <th>PerformanceRating</th>\n",
       "      <td>0.001904</td>\n",
       "      <td>0.002889</td>\n",
       "      <td>-0.026341</td>\n",
       "      <td>0.000633</td>\n",
       "      <td>-0.024604</td>\n",
       "      <td>0.027110</td>\n",
       "      <td>-0.024539</td>\n",
       "      <td>-0.005614</td>\n",
       "      <td>-0.029548</td>\n",
       "      <td>-0.013859</td>\n",
       "      <td>...</td>\n",
       "      <td>1.000000</td>\n",
       "      <td>-0.031351</td>\n",
       "      <td>0.003506</td>\n",
       "      <td>0.006823</td>\n",
       "      <td>-0.015579</td>\n",
       "      <td>0.002572</td>\n",
       "      <td>0.003740</td>\n",
       "      <td>0.034986</td>\n",
       "      <td>0.017896</td>\n",
       "      <td>0.022827</td>\n",
       "    </tr>\n",
       "    <tr>\n",
       "      <th>RelationshipSatisfaction</th>\n",
       "      <td>0.053535</td>\n",
       "      <td>-0.045872</td>\n",
       "      <td>-0.035986</td>\n",
       "      <td>0.008530</td>\n",
       "      <td>-0.022414</td>\n",
       "      <td>0.006557</td>\n",
       "      <td>-0.009118</td>\n",
       "      <td>-0.004378</td>\n",
       "      <td>0.007665</td>\n",
       "      <td>0.022868</td>\n",
       "      <td>...</td>\n",
       "      <td>-0.031351</td>\n",
       "      <td>1.000000</td>\n",
       "      <td>-0.045952</td>\n",
       "      <td>0.023861</td>\n",
       "      <td>0.002497</td>\n",
       "      <td>0.019604</td>\n",
       "      <td>0.018542</td>\n",
       "      <td>-0.015123</td>\n",
       "      <td>0.033493</td>\n",
       "      <td>-0.000867</td>\n",
       "    </tr>\n",
       "    <tr>\n",
       "      <th>StockOptionLevel</th>\n",
       "      <td>0.037510</td>\n",
       "      <td>-0.137145</td>\n",
       "      <td>-0.016727</td>\n",
       "      <td>0.041786</td>\n",
       "      <td>-0.012193</td>\n",
       "      <td>0.044872</td>\n",
       "      <td>0.018422</td>\n",
       "      <td>-0.016185</td>\n",
       "      <td>0.003432</td>\n",
       "      <td>0.012716</td>\n",
       "      <td>...</td>\n",
       "      <td>0.003506</td>\n",
       "      <td>-0.045952</td>\n",
       "      <td>1.000000</td>\n",
       "      <td>0.010203</td>\n",
       "      <td>0.011274</td>\n",
       "      <td>0.004129</td>\n",
       "      <td>0.015749</td>\n",
       "      <td>0.050818</td>\n",
       "      <td>0.014352</td>\n",
       "      <td>0.024698</td>\n",
       "    </tr>\n",
       "    <tr>\n",
       "      <th>TotalWorkingYears</th>\n",
       "      <td>0.680409</td>\n",
       "      <td>-0.171571</td>\n",
       "      <td>0.034144</td>\n",
       "      <td>0.014877</td>\n",
       "      <td>-0.015685</td>\n",
       "      <td>0.004560</td>\n",
       "      <td>0.148188</td>\n",
       "      <td>-0.027833</td>\n",
       "      <td>-0.002900</td>\n",
       "      <td>-0.046875</td>\n",
       "      <td>...</td>\n",
       "      <td>0.006823</td>\n",
       "      <td>0.023861</td>\n",
       "      <td>0.010203</td>\n",
       "      <td>1.000000</td>\n",
       "      <td>-0.035644</td>\n",
       "      <td>0.001073</td>\n",
       "      <td>0.626777</td>\n",
       "      <td>0.460257</td>\n",
       "      <td>0.404473</td>\n",
       "      <td>0.459339</td>\n",
       "    </tr>\n",
       "    <tr>\n",
       "      <th>TrainingTimesLastYear</th>\n",
       "      <td>-0.019621</td>\n",
       "      <td>-0.059478</td>\n",
       "      <td>0.015240</td>\n",
       "      <td>0.002227</td>\n",
       "      <td>0.036875</td>\n",
       "      <td>-0.036942</td>\n",
       "      <td>-0.025100</td>\n",
       "      <td>0.049195</td>\n",
       "      <td>-0.019359</td>\n",
       "      <td>-0.038787</td>\n",
       "      <td>...</td>\n",
       "      <td>-0.015579</td>\n",
       "      <td>0.002497</td>\n",
       "      <td>0.011274</td>\n",
       "      <td>-0.035644</td>\n",
       "      <td>1.000000</td>\n",
       "      <td>0.028072</td>\n",
       "      <td>0.003349</td>\n",
       "      <td>-0.005738</td>\n",
       "      <td>-0.002067</td>\n",
       "      <td>-0.004096</td>\n",
       "    </tr>\n",
       "    <tr>\n",
       "      <th>WorkLifeBalance</th>\n",
       "      <td>-0.021490</td>\n",
       "      <td>-0.063939</td>\n",
       "      <td>-0.011256</td>\n",
       "      <td>-0.037791</td>\n",
       "      <td>0.026383</td>\n",
       "      <td>-0.026556</td>\n",
       "      <td>0.009819</td>\n",
       "      <td>0.041191</td>\n",
       "      <td>0.027627</td>\n",
       "      <td>-0.002753</td>\n",
       "      <td>...</td>\n",
       "      <td>0.002572</td>\n",
       "      <td>0.019604</td>\n",
       "      <td>0.004129</td>\n",
       "      <td>0.001073</td>\n",
       "      <td>0.028072</td>\n",
       "      <td>1.000000</td>\n",
       "      <td>0.012400</td>\n",
       "      <td>0.049856</td>\n",
       "      <td>0.008941</td>\n",
       "      <td>0.002759</td>\n",
       "    </tr>\n",
       "    <tr>\n",
       "      <th>YearsAtCompany</th>\n",
       "      <td>0.309796</td>\n",
       "      <td>-0.136932</td>\n",
       "      <td>-0.014720</td>\n",
       "      <td>-0.032461</td>\n",
       "      <td>0.023308</td>\n",
       "      <td>0.009038</td>\n",
       "      <td>0.067737</td>\n",
       "      <td>-0.018987</td>\n",
       "      <td>0.000657</td>\n",
       "      <td>-0.030797</td>\n",
       "      <td>...</td>\n",
       "      <td>0.003740</td>\n",
       "      <td>0.018542</td>\n",
       "      <td>0.015749</td>\n",
       "      <td>0.626777</td>\n",
       "      <td>0.003349</td>\n",
       "      <td>0.012400</td>\n",
       "      <td>1.000000</td>\n",
       "      <td>0.764141</td>\n",
       "      <td>0.620602</td>\n",
       "      <td>0.774552</td>\n",
       "    </tr>\n",
       "    <tr>\n",
       "      <th>YearsInCurrentRole</th>\n",
       "      <td>0.212901</td>\n",
       "      <td>-0.160545</td>\n",
       "      <td>-0.011497</td>\n",
       "      <td>0.010997</td>\n",
       "      <td>0.056315</td>\n",
       "      <td>0.018845</td>\n",
       "      <td>0.060236</td>\n",
       "      <td>-0.010506</td>\n",
       "      <td>0.018007</td>\n",
       "      <td>-0.041483</td>\n",
       "      <td>...</td>\n",
       "      <td>0.034986</td>\n",
       "      <td>-0.015123</td>\n",
       "      <td>0.050818</td>\n",
       "      <td>0.460257</td>\n",
       "      <td>-0.005738</td>\n",
       "      <td>0.049856</td>\n",
       "      <td>0.764141</td>\n",
       "      <td>1.000000</td>\n",
       "      <td>0.548056</td>\n",
       "      <td>0.714365</td>\n",
       "    </tr>\n",
       "    <tr>\n",
       "      <th>YearsSinceLastPromotion</th>\n",
       "      <td>0.216513</td>\n",
       "      <td>-0.033019</td>\n",
       "      <td>-0.032591</td>\n",
       "      <td>-0.033431</td>\n",
       "      <td>0.040061</td>\n",
       "      <td>0.010029</td>\n",
       "      <td>0.054254</td>\n",
       "      <td>0.002326</td>\n",
       "      <td>0.016194</td>\n",
       "      <td>-0.026985</td>\n",
       "      <td>...</td>\n",
       "      <td>0.017896</td>\n",
       "      <td>0.033493</td>\n",
       "      <td>0.014352</td>\n",
       "      <td>0.404473</td>\n",
       "      <td>-0.002067</td>\n",
       "      <td>0.008941</td>\n",
       "      <td>0.620602</td>\n",
       "      <td>0.548056</td>\n",
       "      <td>1.000000</td>\n",
       "      <td>0.510224</td>\n",
       "    </tr>\n",
       "    <tr>\n",
       "      <th>YearsWithCurrManager</th>\n",
       "      <td>0.202089</td>\n",
       "      <td>-0.156199</td>\n",
       "      <td>-0.022636</td>\n",
       "      <td>-0.025849</td>\n",
       "      <td>0.034282</td>\n",
       "      <td>0.014406</td>\n",
       "      <td>0.069065</td>\n",
       "      <td>-0.004130</td>\n",
       "      <td>-0.004999</td>\n",
       "      <td>-0.030599</td>\n",
       "      <td>...</td>\n",
       "      <td>0.022827</td>\n",
       "      <td>-0.000867</td>\n",
       "      <td>0.024698</td>\n",
       "      <td>0.459339</td>\n",
       "      <td>-0.004096</td>\n",
       "      <td>0.002759</td>\n",
       "      <td>0.774552</td>\n",
       "      <td>0.714365</td>\n",
       "      <td>0.510224</td>\n",
       "      <td>1.000000</td>\n",
       "    </tr>\n",
       "  </tbody>\n",
       "</table>\n",
       "<p>31 rows × 31 columns</p>\n",
       "</div>"
      ],
      "text/plain": [
       "                               Age  Attrition  BusinessTravel  DailyRate  \\\n",
       "Age                       1.000000  -0.159205        0.024751   0.010557   \n",
       "Attrition                -0.159205   1.000000        0.000074  -0.056605   \n",
       "BusinessTravel            0.024751   0.000074        1.000000  -0.004103   \n",
       "DailyRate                 0.010557  -0.056605       -0.004103   1.000000   \n",
       "Department               -0.031882   0.063991       -0.009044   0.007796   \n",
       "DistanceFromHome         -0.001686   0.077924       -0.024469  -0.004738   \n",
       "Education                 0.208034  -0.031373        0.000757  -0.016550   \n",
       "EducationField           -0.040873   0.026846        0.023724   0.038129   \n",
       "EnvironmentSatisfaction   0.010146  -0.103369        0.004174   0.018462   \n",
       "Gender                   -0.036311   0.029453       -0.032981  -0.011194   \n",
       "HourlyRate                0.024287  -0.006846        0.026528   0.022916   \n",
       "JobInvolvement            0.029820  -0.130016        0.039062   0.046072   \n",
       "JobLevel                  0.509604  -0.169105        0.019311   0.003355   \n",
       "JobRole                  -0.122427   0.067151        0.002724  -0.009127   \n",
       "JobSatisfaction          -0.004892  -0.103481       -0.033962   0.030712   \n",
       "MaritalStatus            -0.095029   0.162070        0.024001  -0.069527   \n",
       "MonthlyIncome             0.472198  -0.196165        0.025095   0.015784   \n",
       "MonthlyRate               0.028362   0.015273       -0.014115  -0.032051   \n",
       "NumCompaniesWorked        0.299635   0.043494        0.020875   0.037304   \n",
       "OverTime                  0.028062   0.246118        0.016543   0.008902   \n",
       "PercentSalaryHike         0.003634  -0.013478       -0.029377   0.022339   \n",
       "PerformanceRating         0.001904   0.002889       -0.026341   0.000633   \n",
       "RelationshipSatisfaction  0.053535  -0.045872       -0.035986   0.008530   \n",
       "StockOptionLevel          0.037510  -0.137145       -0.016727   0.041786   \n",
       "TotalWorkingYears         0.680409  -0.171571        0.034144   0.014877   \n",
       "TrainingTimesLastYear    -0.019621  -0.059478        0.015240   0.002227   \n",
       "WorkLifeBalance          -0.021490  -0.063939       -0.011256  -0.037791   \n",
       "YearsAtCompany            0.309796  -0.136932       -0.014720  -0.032461   \n",
       "YearsInCurrentRole        0.212901  -0.160545       -0.011497   0.010997   \n",
       "YearsSinceLastPromotion   0.216513  -0.033019       -0.032591  -0.033431   \n",
       "YearsWithCurrManager      0.202089  -0.156199       -0.022636  -0.025849   \n",
       "\n",
       "                          Department  DistanceFromHome  Education  \\\n",
       "Age                        -0.031882         -0.001686   0.208034   \n",
       "Attrition                   0.063991          0.077924  -0.031373   \n",
       "BusinessTravel             -0.009044         -0.024469   0.000757   \n",
       "DailyRate                   0.007796         -0.004738  -0.016550   \n",
       "Department                  1.000000          0.017225   0.007996   \n",
       "DistanceFromHome            0.017225          1.000000   0.021042   \n",
       "Education                   0.007996          0.021042   1.000000   \n",
       "EducationField              0.013720          0.002013  -0.039592   \n",
       "EnvironmentSatisfaction    -0.019395         -0.016075  -0.027128   \n",
       "Gender                     -0.041583         -0.001851  -0.016547   \n",
       "HourlyRate                 -0.004144          0.031131   0.016775   \n",
       "JobInvolvement             -0.024586          0.008783   0.042438   \n",
       "JobLevel                    0.101963          0.005303   0.101589   \n",
       "JobRole                     0.662431         -0.001015   0.004236   \n",
       "JobSatisfaction             0.021001         -0.003669  -0.011296   \n",
       "MaritalStatus               0.056073         -0.014437   0.004053   \n",
       "MonthlyIncome               0.157526          0.011962   0.124561   \n",
       "MonthlyRate                 0.023898          0.028298  -0.025694   \n",
       "NumCompaniesWorked         -0.035882         -0.029251   0.126317   \n",
       "OverTime                    0.007481          0.025514  -0.020322   \n",
       "PercentSalaryHike          -0.007840          0.040235  -0.011111   \n",
       "PerformanceRating          -0.024604          0.027110  -0.024539   \n",
       "RelationshipSatisfaction   -0.022414          0.006557  -0.009118   \n",
       "StockOptionLevel           -0.012193          0.044872   0.018422   \n",
       "TotalWorkingYears          -0.015685          0.004560   0.148188   \n",
       "TrainingTimesLastYear       0.036875         -0.036942  -0.025100   \n",
       "WorkLifeBalance             0.026383         -0.026556   0.009819   \n",
       "YearsAtCompany              0.023308          0.009038   0.067737   \n",
       "YearsInCurrentRole          0.056315          0.018845   0.060236   \n",
       "YearsSinceLastPromotion     0.040061          0.010029   0.054254   \n",
       "YearsWithCurrManager        0.034282          0.014406   0.069065   \n",
       "\n",
       "                          EducationField  EnvironmentSatisfaction    Gender  \\\n",
       "Age                            -0.040873                 0.010146 -0.036311   \n",
       "Attrition                       0.026846                -0.103369  0.029453   \n",
       "BusinessTravel                  0.023724                 0.004174 -0.032981   \n",
       "DailyRate                       0.038129                 0.018462 -0.011194   \n",
       "Department                      0.013720                -0.019395 -0.041583   \n",
       "DistanceFromHome                0.002013                -0.016075 -0.001851   \n",
       "Education                      -0.039592                -0.027128 -0.016547   \n",
       "EducationField                  1.000000                 0.043163 -0.002504   \n",
       "EnvironmentSatisfaction         0.043163                 1.000000  0.000508   \n",
       "Gender                         -0.002504                 0.000508  1.000000   \n",
       "HourlyRate                     -0.021941                -0.049857 -0.000478   \n",
       "JobInvolvement                 -0.002655                -0.008278  0.017960   \n",
       "JobLevel                       -0.044933                 0.001212 -0.039403   \n",
       "JobRole                         0.015599                -0.017321 -0.039723   \n",
       "JobSatisfaction                -0.034401                -0.006784  0.033252   \n",
       "MaritalStatus                   0.014420                -0.003593 -0.047183   \n",
       "MonthlyIncome                  -0.044306                -0.015259 -0.044121   \n",
       "MonthlyRate                    -0.026343                 0.037545 -0.041786   \n",
       "NumCompaniesWorked             -0.008663                 0.012594 -0.039147   \n",
       "OverTime                        0.002259                 0.070132 -0.041924   \n",
       "PercentSalaryHike              -0.011214                -0.031701  0.002733   \n",
       "PerformanceRating              -0.005614                -0.029548 -0.013859   \n",
       "RelationshipSatisfaction       -0.004378                 0.007665  0.022868   \n",
       "StockOptionLevel               -0.016185                 0.003432  0.012716   \n",
       "TotalWorkingYears              -0.027833                -0.002900 -0.046875   \n",
       "TrainingTimesLastYear           0.049195                -0.019359 -0.038787   \n",
       "WorkLifeBalance                 0.041191                 0.027627 -0.002753   \n",
       "YearsAtCompany                 -0.018987                 0.000657 -0.030797   \n",
       "YearsInCurrentRole             -0.010506                 0.018007 -0.041483   \n",
       "YearsSinceLastPromotion         0.002326                 0.016194 -0.026985   \n",
       "YearsWithCurrManager           -0.004130                -0.004999 -0.030599   \n",
       "\n",
       "                          ...  PerformanceRating  RelationshipSatisfaction  \\\n",
       "Age                       ...           0.001904                  0.053535   \n",
       "Attrition                 ...           0.002889                 -0.045872   \n",
       "BusinessTravel            ...          -0.026341                 -0.035986   \n",
       "DailyRate                 ...           0.000633                  0.008530   \n",
       "Department                ...          -0.024604                 -0.022414   \n",
       "DistanceFromHome          ...           0.027110                  0.006557   \n",
       "Education                 ...          -0.024539                 -0.009118   \n",
       "EducationField            ...          -0.005614                 -0.004378   \n",
       "EnvironmentSatisfaction   ...          -0.029548                  0.007665   \n",
       "Gender                    ...          -0.013859                  0.022868   \n",
       "HourlyRate                ...          -0.002172                  0.001330   \n",
       "JobInvolvement            ...          -0.029071                  0.034297   \n",
       "JobLevel                  ...          -0.021222                  0.021642   \n",
       "JobRole                   ...          -0.024233                 -0.020218   \n",
       "JobSatisfaction           ...           0.002297                 -0.012454   \n",
       "MaritalStatus             ...           0.005207                  0.022549   \n",
       "MonthlyIncome             ...          -0.026355                  0.005688   \n",
       "MonthlyRate               ...          -0.009603                 -0.003874   \n",
       "NumCompaniesWorked        ...          -0.014095                  0.052733   \n",
       "OverTime                  ...           0.004369                  0.048493   \n",
       "PercentSalaryHike         ...           0.773550                 -0.040490   \n",
       "PerformanceRating         ...           1.000000                 -0.031351   \n",
       "RelationshipSatisfaction  ...          -0.031351                  1.000000   \n",
       "StockOptionLevel          ...           0.003506                 -0.045952   \n",
       "TotalWorkingYears         ...           0.006823                  0.023861   \n",
       "TrainingTimesLastYear     ...          -0.015579                  0.002497   \n",
       "WorkLifeBalance           ...           0.002572                  0.019604   \n",
       "YearsAtCompany            ...           0.003740                  0.018542   \n",
       "YearsInCurrentRole        ...           0.034986                 -0.015123   \n",
       "YearsSinceLastPromotion   ...           0.017896                  0.033493   \n",
       "YearsWithCurrManager      ...           0.022827                 -0.000867   \n",
       "\n",
       "                          StockOptionLevel  TotalWorkingYears  \\\n",
       "Age                               0.037510           0.680409   \n",
       "Attrition                        -0.137145          -0.171571   \n",
       "BusinessTravel                   -0.016727           0.034144   \n",
       "DailyRate                         0.041786           0.014877   \n",
       "Department                       -0.012193          -0.015685   \n",
       "DistanceFromHome                  0.044872           0.004560   \n",
       "Education                         0.018422           0.148188   \n",
       "EducationField                   -0.016185          -0.027833   \n",
       "EnvironmentSatisfaction           0.003432          -0.002900   \n",
       "Gender                            0.012716          -0.046875   \n",
       "HourlyRate                        0.050263          -0.002306   \n",
       "JobInvolvement                    0.021523          -0.005603   \n",
       "JobLevel                          0.013984           0.782398   \n",
       "JobRole                          -0.019171          -0.145392   \n",
       "JobSatisfaction                   0.010690          -0.020241   \n",
       "MaritalStatus                    -0.662577          -0.078032   \n",
       "MonthlyIncome                     0.023343           0.705164   \n",
       "MonthlyRate                      -0.034305           0.026188   \n",
       "NumCompaniesWorked                0.030075           0.237698   \n",
       "OverTime                         -0.000449           0.012678   \n",
       "PercentSalaryHike                 0.007528          -0.020468   \n",
       "PerformanceRating                 0.003506           0.006823   \n",
       "RelationshipSatisfaction         -0.045952           0.023861   \n",
       "StockOptionLevel                  1.000000           0.010203   \n",
       "TotalWorkingYears                 0.010203           1.000000   \n",
       "TrainingTimesLastYear             0.011274          -0.035644   \n",
       "WorkLifeBalance                   0.004129           0.001073   \n",
       "YearsAtCompany                    0.015749           0.626777   \n",
       "YearsInCurrentRole                0.050818           0.460257   \n",
       "YearsSinceLastPromotion           0.014352           0.404473   \n",
       "YearsWithCurrManager              0.024698           0.459339   \n",
       "\n",
       "                          TrainingTimesLastYear  WorkLifeBalance  \\\n",
       "Age                                   -0.019621        -0.021490   \n",
       "Attrition                             -0.059478        -0.063939   \n",
       "BusinessTravel                         0.015240        -0.011256   \n",
       "DailyRate                              0.002227        -0.037791   \n",
       "Department                             0.036875         0.026383   \n",
       "DistanceFromHome                      -0.036942        -0.026556   \n",
       "Education                             -0.025100         0.009819   \n",
       "EducationField                         0.049195         0.041191   \n",
       "EnvironmentSatisfaction               -0.019359         0.027627   \n",
       "Gender                                -0.038787        -0.002753   \n",
       "HourlyRate                            -0.008548        -0.004607   \n",
       "JobInvolvement                        -0.015338        -0.014617   \n",
       "JobLevel                              -0.018191         0.037818   \n",
       "JobRole                                0.001342         0.027764   \n",
       "JobSatisfaction                       -0.005779        -0.019459   \n",
       "MaritalStatus                          0.010629         0.014708   \n",
       "MonthlyIncome                         -0.028533         0.034372   \n",
       "MonthlyRate                            0.001187         0.008326   \n",
       "NumCompaniesWorked                    -0.066054        -0.008366   \n",
       "OverTime                              -0.079113        -0.027092   \n",
       "PercentSalaryHike                     -0.005221        -0.003280   \n",
       "PerformanceRating                     -0.015579         0.002572   \n",
       "RelationshipSatisfaction               0.002497         0.019604   \n",
       "StockOptionLevel                       0.011274         0.004129   \n",
       "TotalWorkingYears                     -0.035644         0.001073   \n",
       "TrainingTimesLastYear                  1.000000         0.028072   \n",
       "WorkLifeBalance                        0.028072         1.000000   \n",
       "YearsAtCompany                         0.003349         0.012400   \n",
       "YearsInCurrentRole                    -0.005738         0.049856   \n",
       "YearsSinceLastPromotion               -0.002067         0.008941   \n",
       "YearsWithCurrManager                  -0.004096         0.002759   \n",
       "\n",
       "                          YearsAtCompany  YearsInCurrentRole  \\\n",
       "Age                             0.309796            0.212901   \n",
       "Attrition                      -0.136932           -0.160545   \n",
       "BusinessTravel                 -0.014720           -0.011497   \n",
       "DailyRate                      -0.032461            0.010997   \n",
       "Department                      0.023308            0.056315   \n",
       "DistanceFromHome                0.009038            0.018845   \n",
       "Education                       0.067737            0.060236   \n",
       "EducationField                 -0.018987           -0.010506   \n",
       "EnvironmentSatisfaction         0.000657            0.018007   \n",
       "Gender                         -0.030797           -0.041483   \n",
       "HourlyRate                     -0.020122           -0.024106   \n",
       "JobInvolvement                 -0.020785            0.008717   \n",
       "JobLevel                        0.535603            0.389447   \n",
       "JobRole                        -0.082870           -0.028354   \n",
       "JobSatisfaction                -0.003929           -0.002305   \n",
       "MaritalStatus                  -0.060648           -0.065822   \n",
       "MonthlyIncome                   0.489707            0.406535   \n",
       "MonthlyRate                    -0.024466           -0.012916   \n",
       "NumCompaniesWorked             -0.118314           -0.090754   \n",
       "OverTime                       -0.012559           -0.029758   \n",
       "PercentSalaryHike              -0.035745           -0.001520   \n",
       "PerformanceRating               0.003740            0.034986   \n",
       "RelationshipSatisfaction        0.018542           -0.015123   \n",
       "StockOptionLevel                0.015749            0.050818   \n",
       "TotalWorkingYears               0.626777            0.460257   \n",
       "TrainingTimesLastYear           0.003349           -0.005738   \n",
       "WorkLifeBalance                 0.012400            0.049856   \n",
       "YearsAtCompany                  1.000000            0.764141   \n",
       "YearsInCurrentRole              0.764141            1.000000   \n",
       "YearsSinceLastPromotion         0.620602            0.548056   \n",
       "YearsWithCurrManager            0.774552            0.714365   \n",
       "\n",
       "                          YearsSinceLastPromotion  YearsWithCurrManager  \n",
       "Age                                      0.216513              0.202089  \n",
       "Attrition                               -0.033019             -0.156199  \n",
       "BusinessTravel                          -0.032591             -0.022636  \n",
       "DailyRate                               -0.033431             -0.025849  \n",
       "Department                               0.040061              0.034282  \n",
       "DistanceFromHome                         0.010029              0.014406  \n",
       "Education                                0.054254              0.069065  \n",
       "EducationField                           0.002326             -0.004130  \n",
       "EnvironmentSatisfaction                  0.016194             -0.004999  \n",
       "Gender                                  -0.026985             -0.030599  \n",
       "HourlyRate                              -0.026716             -0.020123  \n",
       "JobInvolvement                          -0.024184              0.025976  \n",
       "JobLevel                                 0.353885              0.375281  \n",
       "JobRole                                 -0.046384             -0.041150  \n",
       "JobSatisfaction                         -0.018214             -0.027656  \n",
       "MaritalStatus                           -0.030915             -0.038570  \n",
       "MonthlyIncome                            0.324573              0.377748  \n",
       "MonthlyRate                              0.001152             -0.037059  \n",
       "NumCompaniesWorked                      -0.036814             -0.110319  \n",
       "OverTime                                -0.012239             -0.041586  \n",
       "PercentSalaryHike                       -0.022154             -0.011985  \n",
       "PerformanceRating                        0.017896              0.022827  \n",
       "RelationshipSatisfaction                 0.033493             -0.000867  \n",
       "StockOptionLevel                         0.014352              0.024698  \n",
       "TotalWorkingYears                        0.404473              0.459339  \n",
       "TrainingTimesLastYear                   -0.002067             -0.004096  \n",
       "WorkLifeBalance                          0.008941              0.002759  \n",
       "YearsAtCompany                           0.620602              0.774552  \n",
       "YearsInCurrentRole                       0.548056              0.714365  \n",
       "YearsSinceLastPromotion                  1.000000              0.510224  \n",
       "YearsWithCurrManager                     0.510224              1.000000  \n",
       "\n",
       "[31 rows x 31 columns]"
      ]
     },
     "execution_count": 775,
     "metadata": {},
     "output_type": "execute_result"
    }
   ],
   "source": [
    "#Get the correlation\n",
    "cor=df.corr()\n",
    "cor"
   ]
  },
  {
   "cell_type": "code",
   "execution_count": 776,
   "id": "4044eb61",
   "metadata": {},
   "outputs": [
    {
     "data": {
      "text/plain": [
       "<AxesSubplot:>"
      ]
     },
     "execution_count": 776,
     "metadata": {},
     "output_type": "execute_result"
    },
    {
     "data": {
      "image/png": "[encoded data removed]",
      "text/plain": [
       "<Figure size 1584x1584 with 2 Axes>"
      ]
     },
     "metadata": {
      "needs_background": "light"
     },
     "output_type": "display_data"
    }
   ],
   "source": [
    "plt.figure(figsize=(22,22))\n",
    "sn.heatmap(cor,annot=True)"
   ]
  },
  {
   "cell_type": "code",
   "execution_count": 777,
   "id": "56daa639",
   "metadata": {},
   "outputs": [],
   "source": [
    "#Transform the data\n",
    "#Transform non-numerical into numerical columns\n",
    "from sklearn.preprocessing import LabelEncoder\n",
    "\n",
    "import warnings\n",
    "warnings.filterwarnings('ignore')\n",
    "\n",
    "le= LabelEncoder()\n",
    "df = df.apply(LabelEncoder().fit_transform)"
   ]
  },
  {
   "cell_type": "code",
   "execution_count": 778,
   "id": "9b02366a",
   "metadata": {},
   "outputs": [],
   "source": [
    "#Create a new column\n",
    "df['Age_Years']=df['Age']"
   ]
  },
  {
   "cell_type": "code",
   "execution_count": 779,
   "id": "3cbd22a7",
   "metadata": {},
   "outputs": [],
   "source": [
    "#Drop the age column\n",
    "df = df.drop('Age',axis = 1)"
   ]
  },
  {
   "cell_type": "code",
   "execution_count": 780,
   "id": "6e04f2a4",
   "metadata": {},
   "outputs": [
    {
     "data": {
      "text/html": [
       "<div>\n",
       "<style scoped>\n",
       "    .dataframe tbody tr th:only-of-type {\n",
       "        vertical-align: middle;\n",
       "    }\n",
       "\n",
       "    .dataframe tbody tr th {\n",
       "        vertical-align: top;\n",
       "    }\n",
       "\n",
       "    .dataframe thead th {\n",
       "        text-align: right;\n",
       "    }\n",
       "</style>\n",
       "<table border=\"1\" class=\"dataframe\">\n",
       "  <thead>\n",
       "    <tr style=\"text-align: right;\">\n",
       "      <th></th>\n",
       "      <th>Attrition</th>\n",
       "      <th>BusinessTravel</th>\n",
       "      <th>DailyRate</th>\n",
       "      <th>Department</th>\n",
       "      <th>DistanceFromHome</th>\n",
       "      <th>Education</th>\n",
       "      <th>EducationField</th>\n",
       "      <th>EnvironmentSatisfaction</th>\n",
       "      <th>Gender</th>\n",
       "      <th>HourlyRate</th>\n",
       "      <th>...</th>\n",
       "      <th>RelationshipSatisfaction</th>\n",
       "      <th>StockOptionLevel</th>\n",
       "      <th>TotalWorkingYears</th>\n",
       "      <th>TrainingTimesLastYear</th>\n",
       "      <th>WorkLifeBalance</th>\n",
       "      <th>YearsAtCompany</th>\n",
       "      <th>YearsInCurrentRole</th>\n",
       "      <th>YearsSinceLastPromotion</th>\n",
       "      <th>YearsWithCurrManager</th>\n",
       "      <th>Age_Years</th>\n",
       "    </tr>\n",
       "  </thead>\n",
       "  <tbody>\n",
       "    <tr>\n",
       "      <th>0</th>\n",
       "      <td>1</td>\n",
       "      <td>2</td>\n",
       "      <td>624</td>\n",
       "      <td>2</td>\n",
       "      <td>0</td>\n",
       "      <td>1</td>\n",
       "      <td>1</td>\n",
       "      <td>1</td>\n",
       "      <td>0</td>\n",
       "      <td>64</td>\n",
       "      <td>...</td>\n",
       "      <td>0</td>\n",
       "      <td>0</td>\n",
       "      <td>8</td>\n",
       "      <td>0</td>\n",
       "      <td>0</td>\n",
       "      <td>6</td>\n",
       "      <td>4</td>\n",
       "      <td>0</td>\n",
       "      <td>5</td>\n",
       "      <td>23</td>\n",
       "    </tr>\n",
       "    <tr>\n",
       "      <th>1</th>\n",
       "      <td>0</td>\n",
       "      <td>1</td>\n",
       "      <td>113</td>\n",
       "      <td>1</td>\n",
       "      <td>7</td>\n",
       "      <td>0</td>\n",
       "      <td>1</td>\n",
       "      <td>2</td>\n",
       "      <td>1</td>\n",
       "      <td>31</td>\n",
       "      <td>...</td>\n",
       "      <td>3</td>\n",
       "      <td>1</td>\n",
       "      <td>10</td>\n",
       "      <td>3</td>\n",
       "      <td>2</td>\n",
       "      <td>10</td>\n",
       "      <td>7</td>\n",
       "      <td>1</td>\n",
       "      <td>7</td>\n",
       "      <td>31</td>\n",
       "    </tr>\n",
       "    <tr>\n",
       "      <th>2</th>\n",
       "      <td>1</td>\n",
       "      <td>2</td>\n",
       "      <td>805</td>\n",
       "      <td>1</td>\n",
       "      <td>1</td>\n",
       "      <td>1</td>\n",
       "      <td>4</td>\n",
       "      <td>3</td>\n",
       "      <td>1</td>\n",
       "      <td>62</td>\n",
       "      <td>...</td>\n",
       "      <td>1</td>\n",
       "      <td>0</td>\n",
       "      <td>7</td>\n",
       "      <td>3</td>\n",
       "      <td>2</td>\n",
       "      <td>0</td>\n",
       "      <td>0</td>\n",
       "      <td>0</td>\n",
       "      <td>0</td>\n",
       "      <td>19</td>\n",
       "    </tr>\n",
       "    <tr>\n",
       "      <th>3</th>\n",
       "      <td>0</td>\n",
       "      <td>1</td>\n",
       "      <td>820</td>\n",
       "      <td>1</td>\n",
       "      <td>2</td>\n",
       "      <td>3</td>\n",
       "      <td>1</td>\n",
       "      <td>3</td>\n",
       "      <td>0</td>\n",
       "      <td>26</td>\n",
       "      <td>...</td>\n",
       "      <td>2</td>\n",
       "      <td>0</td>\n",
       "      <td>8</td>\n",
       "      <td>3</td>\n",
       "      <td>2</td>\n",
       "      <td>8</td>\n",
       "      <td>7</td>\n",
       "      <td>3</td>\n",
       "      <td>0</td>\n",
       "      <td>15</td>\n",
       "    </tr>\n",
       "    <tr>\n",
       "      <th>4</th>\n",
       "      <td>0</td>\n",
       "      <td>2</td>\n",
       "      <td>312</td>\n",
       "      <td>1</td>\n",
       "      <td>1</td>\n",
       "      <td>0</td>\n",
       "      <td>3</td>\n",
       "      <td>0</td>\n",
       "      <td>1</td>\n",
       "      <td>10</td>\n",
       "      <td>...</td>\n",
       "      <td>3</td>\n",
       "      <td>1</td>\n",
       "      <td>6</td>\n",
       "      <td>3</td>\n",
       "      <td>2</td>\n",
       "      <td>2</td>\n",
       "      <td>2</td>\n",
       "      <td>2</td>\n",
       "      <td>2</td>\n",
       "      <td>9</td>\n",
       "    </tr>\n",
       "  </tbody>\n",
       "</table>\n",
       "<p>5 rows × 31 columns</p>\n",
       "</div>"
      ],
      "text/plain": [
       "   Attrition  BusinessTravel  DailyRate  Department  DistanceFromHome  \\\n",
       "0          1               2        624           2                 0   \n",
       "1          0               1        113           1                 7   \n",
       "2          1               2        805           1                 1   \n",
       "3          0               1        820           1                 2   \n",
       "4          0               2        312           1                 1   \n",
       "\n",
       "   Education  EducationField  EnvironmentSatisfaction  Gender  HourlyRate  \\\n",
       "0          1               1                        1       0          64   \n",
       "1          0               1                        2       1          31   \n",
       "2          1               4                        3       1          62   \n",
       "3          3               1                        3       0          26   \n",
       "4          0               3                        0       1          10   \n",
       "\n",
       "   ...  RelationshipSatisfaction  StockOptionLevel  TotalWorkingYears  \\\n",
       "0  ...                         0                 0                  8   \n",
       "1  ...                         3                 1                 10   \n",
       "2  ...                         1                 0                  7   \n",
       "3  ...                         2                 0                  8   \n",
       "4  ...                         3                 1                  6   \n",
       "\n",
       "   TrainingTimesLastYear  WorkLifeBalance  YearsAtCompany  YearsInCurrentRole  \\\n",
       "0                      0                0               6                   4   \n",
       "1                      3                2              10                   7   \n",
       "2                      3                2               0                   0   \n",
       "3                      3                2               8                   7   \n",
       "4                      3                2               2                   2   \n",
       "\n",
       "   YearsSinceLastPromotion  YearsWithCurrManager  Age_Years  \n",
       "0                        0                     5         23  \n",
       "1                        1                     7         31  \n",
       "2                        0                     0         19  \n",
       "3                        3                     0         15  \n",
       "4                        2                     2          9  \n",
       "\n",
       "[5 rows x 31 columns]"
      ]
     },
     "execution_count": 780,
     "metadata": {},
     "output_type": "execute_result"
    }
   ],
   "source": [
    "#Show our Dataframe\n",
    "df.head()"
   ]
  },
  {
   "cell_type": "code",
   "execution_count": 781,
   "id": "57b0d10a",
   "metadata": {},
   "outputs": [
    {
     "data": {
      "text/plain": [
       "Attrition                       AxesSubplot(0.125,0.71587;0.0824468x0.16413)\n",
       "BusinessTravel               AxesSubplot(0.223936,0.71587;0.0824468x0.16413)\n",
       "DailyRate                    AxesSubplot(0.322872,0.71587;0.0824468x0.16413)\n",
       "Department                   AxesSubplot(0.421809,0.71587;0.0824468x0.16413)\n",
       "DistanceFromHome             AxesSubplot(0.520745,0.71587;0.0824468x0.16413)\n",
       "Education                    AxesSubplot(0.619681,0.71587;0.0824468x0.16413)\n",
       "EducationField               AxesSubplot(0.718617,0.71587;0.0824468x0.16413)\n",
       "EnvironmentSatisfaction      AxesSubplot(0.817553,0.71587;0.0824468x0.16413)\n",
       "Gender                         AxesSubplot(0.125,0.518913;0.0824468x0.16413)\n",
       "HourlyRate                  AxesSubplot(0.223936,0.518913;0.0824468x0.16413)\n",
       "JobInvolvement              AxesSubplot(0.322872,0.518913;0.0824468x0.16413)\n",
       "JobLevel                    AxesSubplot(0.421809,0.518913;0.0824468x0.16413)\n",
       "JobRole                     AxesSubplot(0.520745,0.518913;0.0824468x0.16413)\n",
       "JobSatisfaction             AxesSubplot(0.619681,0.518913;0.0824468x0.16413)\n",
       "MaritalStatus               AxesSubplot(0.718617,0.518913;0.0824468x0.16413)\n",
       "MonthlyIncome               AxesSubplot(0.817553,0.518913;0.0824468x0.16413)\n",
       "MonthlyRate                    AxesSubplot(0.125,0.321957;0.0824468x0.16413)\n",
       "NumCompaniesWorked          AxesSubplot(0.223936,0.321957;0.0824468x0.16413)\n",
       "OverTime                    AxesSubplot(0.322872,0.321957;0.0824468x0.16413)\n",
       "PercentSalaryHike           AxesSubplot(0.421809,0.321957;0.0824468x0.16413)\n",
       "PerformanceRating           AxesSubplot(0.520745,0.321957;0.0824468x0.16413)\n",
       "RelationshipSatisfaction    AxesSubplot(0.619681,0.321957;0.0824468x0.16413)\n",
       "StockOptionLevel            AxesSubplot(0.718617,0.321957;0.0824468x0.16413)\n",
       "TotalWorkingYears           AxesSubplot(0.817553,0.321957;0.0824468x0.16413)\n",
       "TrainingTimesLastYear             AxesSubplot(0.125,0.125;0.0824468x0.16413)\n",
       "WorkLifeBalance                AxesSubplot(0.223936,0.125;0.0824468x0.16413)\n",
       "YearsAtCompany                 AxesSubplot(0.322872,0.125;0.0824468x0.16413)\n",
       "YearsInCurrentRole             AxesSubplot(0.421809,0.125;0.0824468x0.16413)\n",
       "YearsSinceLastPromotion        AxesSubplot(0.520745,0.125;0.0824468x0.16413)\n",
       "YearsWithCurrManager           AxesSubplot(0.619681,0.125;0.0824468x0.16413)\n",
       "Age_Years                      AxesSubplot(0.718617,0.125;0.0824468x0.16413)\n",
       "dtype: object"
      ]
     },
     "execution_count": 781,
     "metadata": {},
     "output_type": "execute_result"
    },
    {
     "data": {
      "image/png": "[encoded data removed]",
      "text/plain": [
       "<Figure size 432x288 with 32 Axes>"
      ]
     },
     "metadata": {
      "needs_background": "light"
     },
     "output_type": "display_data"
    }
   ],
   "source": [
    "df.plot(kind='box',subplots=True,layout=(4,8))"
   ]
  },
  {
   "cell_type": "code",
   "execution_count": 782,
   "id": "501119be",
   "metadata": {},
   "outputs": [],
   "source": [
    "#Removing Outliers\n",
    "from scipy.stats import zscore\n",
    "\n",
    "z=np.abs(zscore(df))\n",
    "\n",
    "new_df=df [(z<3).all(axis=1)]"
   ]
  },
  {
   "cell_type": "code",
   "execution_count": 783,
   "id": "04700a38",
   "metadata": {},
   "outputs": [
    {
     "data": {
      "text/plain": [
       "(1387, 31)"
      ]
     },
     "execution_count": 783,
     "metadata": {},
     "output_type": "execute_result"
    }
   ],
   "source": [
    "new_df.shape"
   ]
  },
  {
   "cell_type": "code",
   "execution_count": 784,
   "id": "049af1a2",
   "metadata": {},
   "outputs": [
    {
     "data": {
      "text/plain": [
       "(1470, 31)"
      ]
     },
     "execution_count": 784,
     "metadata": {},
     "output_type": "execute_result"
    }
   ],
   "source": [
    "df.shape"
   ]
  },
  {
   "cell_type": "code",
   "execution_count": 785,
   "id": "1edb3791",
   "metadata": {},
   "outputs": [],
   "source": [
    "df=new_df"
   ]
  },
  {
   "cell_type": "code",
   "execution_count": 786,
   "id": "4cd9be9a",
   "metadata": {},
   "outputs": [
    {
     "data": {
      "text/plain": [
       "(1387, 31)"
      ]
     },
     "execution_count": 786,
     "metadata": {},
     "output_type": "execute_result"
    }
   ],
   "source": [
    "df.shape"
   ]
  },
  {
   "cell_type": "code",
   "execution_count": 787,
   "id": "677cef26",
   "metadata": {},
   "outputs": [
    {
     "data": {
      "text/plain": [
       "Attrition                   1.805983\n",
       "BusinessTravel             -1.426774\n",
       "DailyRate                  -0.012403\n",
       "Department                  0.183919\n",
       "DistanceFromHome            0.954752\n",
       "Education                  -0.289024\n",
       "EducationField              0.544868\n",
       "EnvironmentSatisfaction    -0.325285\n",
       "Gender                     -0.417296\n",
       "HourlyRate                 -0.030481\n",
       "JobInvolvement             -0.501401\n",
       "JobLevel                    1.126075\n",
       "JobRole                    -0.386843\n",
       "JobSatisfaction            -0.345612\n",
       "MaritalStatus              -0.160952\n",
       "MonthlyIncome               0.112326\n",
       "MonthlyRate                 0.024344\n",
       "NumCompaniesWorked          1.037715\n",
       "OverTime                    0.954751\n",
       "PercentSalaryHike           0.800592\n",
       "PerformanceRating           1.931566\n",
       "RelationshipSatisfaction   -0.295686\n",
       "StockOptionLevel            0.962332\n",
       "TotalWorkingYears           1.034487\n",
       "TrainingTimesLastYear       0.577614\n",
       "WorkLifeBalance            -0.557100\n",
       "YearsAtCompany              1.248623\n",
       "YearsInCurrentRole          0.726675\n",
       "YearsSinceLastPromotion     1.756335\n",
       "YearsWithCurrManager        0.694506\n",
       "Age_Years                   0.472280\n",
       "dtype: float64"
      ]
     },
     "execution_count": 787,
     "metadata": {},
     "output_type": "execute_result"
    }
   ],
   "source": [
    "df.skew()"
   ]
  },
  {
   "cell_type": "code",
   "execution_count": 788,
   "id": "50386a74",
   "metadata": {},
   "outputs": [
    {
     "data": {
      "text/plain": [
       "<AxesSubplot:ylabel='Frequency'>"
      ]
     },
     "execution_count": 788,
     "metadata": {},
     "output_type": "execute_result"
    },
    {
     "data": {
      "image/png": "[encoded data removed]",
      "text/plain": [
       "<Figure size 432x288 with 1 Axes>"
      ]
     },
     "metadata": {
      "needs_background": "light"
     },
     "output_type": "display_data"
    }
   ],
   "source": [
    "df['BusinessTravel'].plot.hist()"
   ]
  },
  {
   "cell_type": "code",
   "execution_count": 789,
   "id": "afe132c0",
   "metadata": {},
   "outputs": [],
   "source": [
    "#df['BusinessTravel']=np.log(df['BusinessTravel'])"
   ]
  },
  {
   "cell_type": "code",
   "execution_count": 790,
   "id": "c42b4f9d",
   "metadata": {},
   "outputs": [
    {
     "data": {
      "text/plain": [
       "<AxesSubplot:ylabel='Frequency'>"
      ]
     },
     "execution_count": 790,
     "metadata": {},
     "output_type": "execute_result"
    },
    {
     "data": {
      "image/png": "[encoded data removed]",
      "text/plain": [
       "<Figure size 432x288 with 1 Axes>"
      ]
     },
     "metadata": {
      "needs_background": "light"
     },
     "output_type": "display_data"
    }
   ],
   "source": [
    "df['DistanceFromHome'].plot.hist()"
   ]
  },
  {
   "cell_type": "code",
   "execution_count": 791,
   "id": "1a280aec",
   "metadata": {},
   "outputs": [],
   "source": [
    "#df['DistanceFromHome']=np.log(df['DistanceFromHome'])"
   ]
  },
  {
   "cell_type": "code",
   "execution_count": 792,
   "id": "6a7fb135",
   "metadata": {},
   "outputs": [
    {
     "data": {
      "text/plain": [
       "<AxesSubplot:ylabel='Frequency'>"
      ]
     },
     "execution_count": 792,
     "metadata": {},
     "output_type": "execute_result"
    },
    {
     "data": {
      "image/png": "[encoded data removed]",
      "text/plain": [
       "<Figure size 432x288 with 1 Axes>"
      ]
     },
     "metadata": {
      "needs_background": "light"
     },
     "output_type": "display_data"
    }
   ],
   "source": [
    "df['JobLevel'].plot.hist()"
   ]
  },
  {
   "cell_type": "code",
   "execution_count": 793,
   "id": "90b681ed",
   "metadata": {},
   "outputs": [],
   "source": [
    "#df['JobLevel']=np.log(df['JobLevel'])"
   ]
  },
  {
   "cell_type": "code",
   "execution_count": 794,
   "id": "2fb67511",
   "metadata": {},
   "outputs": [
    {
     "data": {
      "text/plain": [
       "<AxesSubplot:ylabel='Frequency'>"
      ]
     },
     "execution_count": 794,
     "metadata": {},
     "output_type": "execute_result"
    },
    {
     "data": {
      "image/png": "[encoded data removed]",
      "text/plain": [
       "<Figure size 432x288 with 1 Axes>"
      ]
     },
     "metadata": {
      "needs_background": "light"
     },
     "output_type": "display_data"
    }
   ],
   "source": [
    "df['NumCompaniesWorked'].plot.hist()"
   ]
  },
  {
   "cell_type": "code",
   "execution_count": 795,
   "id": "45d6f06e",
   "metadata": {},
   "outputs": [],
   "source": [
    "#df['NumCompaniesWorked']=np.log(df['NumCompaniesWorked'])"
   ]
  },
  {
   "cell_type": "code",
   "execution_count": 796,
   "id": "001695b3",
   "metadata": {},
   "outputs": [
    {
     "data": {
      "text/plain": [
       "<AxesSubplot:ylabel='Frequency'>"
      ]
     },
     "execution_count": 796,
     "metadata": {},
     "output_type": "execute_result"
    },
    {
     "data": {
      "image/png": "[encoded data removed]",
      "text/plain": [
       "<Figure size 432x288 with 1 Axes>"
      ]
     },
     "metadata": {
      "needs_background": "light"
     },
     "output_type": "display_data"
    }
   ],
   "source": [
    "df['PerformanceRating'].plot.hist()"
   ]
  },
  {
   "cell_type": "code",
   "execution_count": 797,
   "id": "e6f202fd",
   "metadata": {},
   "outputs": [],
   "source": [
    "#df['PerformanceRating']=np.log(df['PerformanceRating'])"
   ]
  },
  {
   "cell_type": "code",
   "execution_count": 798,
   "id": "a5ebe01e",
   "metadata": {},
   "outputs": [
    {
     "data": {
      "text/plain": [
       "<AxesSubplot:ylabel='Frequency'>"
      ]
     },
     "execution_count": 798,
     "metadata": {},
     "output_type": "execute_result"
    },
    {
     "data": {
      "image/png": "[encoded data removed]",
      "text/plain": [
       "<Figure size 432x288 with 1 Axes>"
      ]
     },
     "metadata": {
      "needs_background": "light"
     },
     "output_type": "display_data"
    }
   ],
   "source": [
    "df['TotalWorkingYears'].plot.hist()"
   ]
  },
  {
   "cell_type": "code",
   "execution_count": 799,
   "id": "83ae95f1",
   "metadata": {},
   "outputs": [],
   "source": [
    "#df['TotalWorkingYears']=np.log(df['TotalWorkingYears'])"
   ]
  },
  {
   "cell_type": "code",
   "execution_count": 800,
   "id": "6f1474d5",
   "metadata": {},
   "outputs": [
    {
     "data": {
      "text/plain": [
       "<AxesSubplot:ylabel='Frequency'>"
      ]
     },
     "execution_count": 800,
     "metadata": {},
     "output_type": "execute_result"
    },
    {
     "data": {
      "image/png": "[encoded data removed]",
      "text/plain": [
       "<Figure size 432x288 with 1 Axes>"
      ]
     },
     "metadata": {
      "needs_background": "light"
     },
     "output_type": "display_data"
    }
   ],
   "source": [
    "df['YearsAtCompany'].plot.hist()"
   ]
  },
  {
   "cell_type": "code",
   "execution_count": 801,
   "id": "3524e4c8",
   "metadata": {},
   "outputs": [],
   "source": [
    "#df['YearsAtCompany']=np.log(df['YearsAtCompany'])"
   ]
  },
  {
   "cell_type": "code",
   "execution_count": 802,
   "id": "1cf51370",
   "metadata": {},
   "outputs": [
    {
     "data": {
      "text/plain": [
       "<AxesSubplot:ylabel='Frequency'>"
      ]
     },
     "execution_count": 802,
     "metadata": {},
     "output_type": "execute_result"
    },
    {
     "data": {
      "image/png": "[encoded data removed]",
      "text/plain": [
       "<Figure size 432x288 with 1 Axes>"
      ]
     },
     "metadata": {
      "needs_background": "light"
     },
     "output_type": "display_data"
    }
   ],
   "source": [
    "df['YearsSinceLastPromotion'].plot.hist()"
   ]
  },
  {
   "cell_type": "code",
   "execution_count": 803,
   "id": "2b306119",
   "metadata": {},
   "outputs": [],
   "source": [
    "#df['YearsSinceLastPromotion']=np.log(df['YearsSinceLastPromotion'])"
   ]
  },
  {
   "cell_type": "code",
   "execution_count": null,
   "id": "cc6cd388",
   "metadata": {},
   "outputs": [],
   "source": []
  },
  {
   "cell_type": "code",
   "execution_count": 804,
   "id": "0193e9fe",
   "metadata": {},
   "outputs": [],
   "source": [
    "#Split the data\n",
    "x =df.drop(['Attrition'],axis=1)\n",
    "y= df['Attrition']"
   ]
  },
  {
   "cell_type": "code",
   "execution_count": 805,
   "id": "551d6f59",
   "metadata": {},
   "outputs": [
    {
     "data": {
      "text/html": [
       "<div>\n",
       "<style scoped>\n",
       "    .dataframe tbody tr th:only-of-type {\n",
       "        vertical-align: middle;\n",
       "    }\n",
       "\n",
       "    .dataframe tbody tr th {\n",
       "        vertical-align: top;\n",
       "    }\n",
       "\n",
       "    .dataframe thead th {\n",
       "        text-align: right;\n",
       "    }\n",
       "</style>\n",
       "<table border=\"1\" class=\"dataframe\">\n",
       "  <thead>\n",
       "    <tr style=\"text-align: right;\">\n",
       "      <th></th>\n",
       "      <th>BusinessTravel</th>\n",
       "      <th>DailyRate</th>\n",
       "      <th>Department</th>\n",
       "      <th>DistanceFromHome</th>\n",
       "      <th>Education</th>\n",
       "      <th>EducationField</th>\n",
       "      <th>EnvironmentSatisfaction</th>\n",
       "      <th>Gender</th>\n",
       "      <th>HourlyRate</th>\n",
       "      <th>JobInvolvement</th>\n",
       "      <th>...</th>\n",
       "      <th>RelationshipSatisfaction</th>\n",
       "      <th>StockOptionLevel</th>\n",
       "      <th>TotalWorkingYears</th>\n",
       "      <th>TrainingTimesLastYear</th>\n",
       "      <th>WorkLifeBalance</th>\n",
       "      <th>YearsAtCompany</th>\n",
       "      <th>YearsInCurrentRole</th>\n",
       "      <th>YearsSinceLastPromotion</th>\n",
       "      <th>YearsWithCurrManager</th>\n",
       "      <th>Age_Years</th>\n",
       "    </tr>\n",
       "  </thead>\n",
       "  <tbody>\n",
       "    <tr>\n",
       "      <th>0</th>\n",
       "      <td>2</td>\n",
       "      <td>624</td>\n",
       "      <td>2</td>\n",
       "      <td>0</td>\n",
       "      <td>1</td>\n",
       "      <td>1</td>\n",
       "      <td>1</td>\n",
       "      <td>0</td>\n",
       "      <td>64</td>\n",
       "      <td>2</td>\n",
       "      <td>...</td>\n",
       "      <td>0</td>\n",
       "      <td>0</td>\n",
       "      <td>8</td>\n",
       "      <td>0</td>\n",
       "      <td>0</td>\n",
       "      <td>6</td>\n",
       "      <td>4</td>\n",
       "      <td>0</td>\n",
       "      <td>5</td>\n",
       "      <td>23</td>\n",
       "    </tr>\n",
       "    <tr>\n",
       "      <th>1</th>\n",
       "      <td>1</td>\n",
       "      <td>113</td>\n",
       "      <td>1</td>\n",
       "      <td>7</td>\n",
       "      <td>0</td>\n",
       "      <td>1</td>\n",
       "      <td>2</td>\n",
       "      <td>1</td>\n",
       "      <td>31</td>\n",
       "      <td>1</td>\n",
       "      <td>...</td>\n",
       "      <td>3</td>\n",
       "      <td>1</td>\n",
       "      <td>10</td>\n",
       "      <td>3</td>\n",
       "      <td>2</td>\n",
       "      <td>10</td>\n",
       "      <td>7</td>\n",
       "      <td>1</td>\n",
       "      <td>7</td>\n",
       "      <td>31</td>\n",
       "    </tr>\n",
       "    <tr>\n",
       "      <th>2</th>\n",
       "      <td>2</td>\n",
       "      <td>805</td>\n",
       "      <td>1</td>\n",
       "      <td>1</td>\n",
       "      <td>1</td>\n",
       "      <td>4</td>\n",
       "      <td>3</td>\n",
       "      <td>1</td>\n",
       "      <td>62</td>\n",
       "      <td>1</td>\n",
       "      <td>...</td>\n",
       "      <td>1</td>\n",
       "      <td>0</td>\n",
       "      <td>7</td>\n",
       "      <td>3</td>\n",
       "      <td>2</td>\n",
       "      <td>0</td>\n",
       "      <td>0</td>\n",
       "      <td>0</td>\n",
       "      <td>0</td>\n",
       "      <td>19</td>\n",
       "    </tr>\n",
       "    <tr>\n",
       "      <th>3</th>\n",
       "      <td>1</td>\n",
       "      <td>820</td>\n",
       "      <td>1</td>\n",
       "      <td>2</td>\n",
       "      <td>3</td>\n",
       "      <td>1</td>\n",
       "      <td>3</td>\n",
       "      <td>0</td>\n",
       "      <td>26</td>\n",
       "      <td>2</td>\n",
       "      <td>...</td>\n",
       "      <td>2</td>\n",
       "      <td>0</td>\n",
       "      <td>8</td>\n",
       "      <td>3</td>\n",
       "      <td>2</td>\n",
       "      <td>8</td>\n",
       "      <td>7</td>\n",
       "      <td>3</td>\n",
       "      <td>0</td>\n",
       "      <td>15</td>\n",
       "    </tr>\n",
       "    <tr>\n",
       "      <th>4</th>\n",
       "      <td>2</td>\n",
       "      <td>312</td>\n",
       "      <td>1</td>\n",
       "      <td>1</td>\n",
       "      <td>0</td>\n",
       "      <td>3</td>\n",
       "      <td>0</td>\n",
       "      <td>1</td>\n",
       "      <td>10</td>\n",
       "      <td>2</td>\n",
       "      <td>...</td>\n",
       "      <td>3</td>\n",
       "      <td>1</td>\n",
       "      <td>6</td>\n",
       "      <td>3</td>\n",
       "      <td>2</td>\n",
       "      <td>2</td>\n",
       "      <td>2</td>\n",
       "      <td>2</td>\n",
       "      <td>2</td>\n",
       "      <td>9</td>\n",
       "    </tr>\n",
       "  </tbody>\n",
       "</table>\n",
       "<p>5 rows × 30 columns</p>\n",
       "</div>"
      ],
      "text/plain": [
       "   BusinessTravel  DailyRate  Department  DistanceFromHome  Education  \\\n",
       "0               2        624           2                 0          1   \n",
       "1               1        113           1                 7          0   \n",
       "2               2        805           1                 1          1   \n",
       "3               1        820           1                 2          3   \n",
       "4               2        312           1                 1          0   \n",
       "\n",
       "   EducationField  EnvironmentSatisfaction  Gender  HourlyRate  \\\n",
       "0               1                        1       0          64   \n",
       "1               1                        2       1          31   \n",
       "2               4                        3       1          62   \n",
       "3               1                        3       0          26   \n",
       "4               3                        0       1          10   \n",
       "\n",
       "   JobInvolvement  ...  RelationshipSatisfaction  StockOptionLevel  \\\n",
       "0               2  ...                         0                 0   \n",
       "1               1  ...                         3                 1   \n",
       "2               1  ...                         1                 0   \n",
       "3               2  ...                         2                 0   \n",
       "4               2  ...                         3                 1   \n",
       "\n",
       "   TotalWorkingYears  TrainingTimesLastYear  WorkLifeBalance  YearsAtCompany  \\\n",
       "0                  8                      0                0               6   \n",
       "1                 10                      3                2              10   \n",
       "2                  7                      3                2               0   \n",
       "3                  8                      3                2               8   \n",
       "4                  6                      3                2               2   \n",
       "\n",
       "   YearsInCurrentRole  YearsSinceLastPromotion  YearsWithCurrManager  \\\n",
       "0                   4                        0                     5   \n",
       "1                   7                        1                     7   \n",
       "2                   0                        0                     0   \n",
       "3                   7                        3                     0   \n",
       "4                   2                        2                     2   \n",
       "\n",
       "   Age_Years  \n",
       "0         23  \n",
       "1         31  \n",
       "2         19  \n",
       "3         15  \n",
       "4          9  \n",
       "\n",
       "[5 rows x 30 columns]"
      ]
     },
     "execution_count": 805,
     "metadata": {},
     "output_type": "execute_result"
    }
   ],
   "source": [
    "x.head()"
   ]
  },
  {
   "cell_type": "code",
   "execution_count": 806,
   "id": "79be39a4",
   "metadata": {},
   "outputs": [
    {
     "data": {
      "text/plain": [
       "0    1\n",
       "1    0\n",
       "2    1\n",
       "3    0\n",
       "4    0\n",
       "Name: Attrition, dtype: int64"
      ]
     },
     "execution_count": 806,
     "metadata": {},
     "output_type": "execute_result"
    }
   ],
   "source": [
    "y.head()"
   ]
  },
  {
   "cell_type": "code",
   "execution_count": 807,
   "id": "eba4ac12",
   "metadata": {},
   "outputs": [],
   "source": [
    "#Split the data into 75% training and 25% testing\n",
    "from sklearn.model_selection import train_test_split\n",
    "x_train,x_test,y_train,y_test=train_test_split(x,y,test_size=.25,random_state=42)"
   ]
  },
  {
   "cell_type": "code",
   "execution_count": 808,
   "id": "3cbd1348",
   "metadata": {},
   "outputs": [
    {
     "data": {
      "text/plain": [
       "(1040, 30)"
      ]
     },
     "execution_count": 808,
     "metadata": {},
     "output_type": "execute_result"
    }
   ],
   "source": [
    "x_train.shape"
   ]
  },
  {
   "cell_type": "code",
   "execution_count": 809,
   "id": "f4d71fe6",
   "metadata": {},
   "outputs": [
    {
     "data": {
      "text/plain": [
       "(347, 30)"
      ]
     },
     "execution_count": 809,
     "metadata": {},
     "output_type": "execute_result"
    }
   ],
   "source": [
    "x_test.shape"
   ]
  },
  {
   "cell_type": "code",
   "execution_count": 810,
   "id": "a531c13b",
   "metadata": {},
   "outputs": [
    {
     "data": {
      "text/plain": [
       "(1040,)"
      ]
     },
     "execution_count": 810,
     "metadata": {},
     "output_type": "execute_result"
    }
   ],
   "source": [
    "y_train.shape"
   ]
  },
  {
   "cell_type": "code",
   "execution_count": 811,
   "id": "ee6f3c33",
   "metadata": {},
   "outputs": [
    {
     "data": {
      "text/plain": [
       "(347,)"
      ]
     },
     "execution_count": 811,
     "metadata": {},
     "output_type": "execute_result"
    }
   ],
   "source": [
    "y_test.shape"
   ]
  },
  {
   "cell_type": "code",
   "execution_count": 812,
   "id": "c71e8703",
   "metadata": {},
   "outputs": [
    {
     "data": {
      "text/plain": [
       "LogisticRegression()"
      ]
     },
     "execution_count": 812,
     "metadata": {},
     "output_type": "execute_result"
    }
   ],
   "source": [
    "from sklearn.linear_model import LogisticRegression\n",
    "lg=LogisticRegression()\n",
    "lg.fit(x_train,y_train)"
   ]
  },
  {
   "cell_type": "code",
   "execution_count": 813,
   "id": "f4f41b7d",
   "metadata": {},
   "outputs": [
    {
     "name": "stdout",
     "output_type": "stream",
     "text": [
      "[0 0 0 1 0 0 0 0 0 0 0 0 1 0 0 0 0 0 0 0 0 0 0 0 0 0 0 0 0 0 0 0 0 0 0 0 1\n",
      " 0 0 0 0 0 0 0 0 0 0 0 0 0 0 0 0 0 0 0 0 0 0 0 0 0 0 0 0 0 0 0 0 0 0 0 0 0\n",
      " 0 0 0 0 0 0 0 0 0 0 0 0 0 0 0 0 1 1 1 0 0 0 0 0 0 0 0 0 0 0 0 0 0 0 0 0 0\n",
      " 0 0 0 0 0 0 0 0 0 0 0 0 1 0 0 0 0 0 0 0 0 0 0 0 0 0 0 0 0 0 0 0 0 0 0 0 0\n",
      " 0 0 0 0 0 0 0 0 0 0 0 0 0 1 0 0 0 1 0 0 0 0 0 0 0 0 0 0 0 0 0 0 0 0 0 0 0\n",
      " 0 0 0 0 0 0 0 0 0 0 0 0 0 0 0 0 0 0 0 0 0 0 0 0 0 0 0 0 0 0 0 0 0 0 0 0 0\n",
      " 0 0 0 0 0 0 0 0 0 0 0 0 0 0 0 0 0 0 0 0 1 0 0 0 0 0 0 0 0 0 0 0 0 0 0 0 0\n",
      " 0 0 0 0 0 0 0 0 0 0 0 0 0 0 0 0 0 0 0 1 0 0 0 0 0 0 0 0 0 0 0 0 0 0 0 0 0\n",
      " 0 0 0 0 0 0 1 0 0 0 0 0 0 0 0 0 0 0 0 0 1 0 0 0 0 0 0 0 0 0 0 0 0 0 0 0 0\n",
      " 0 0 0 1 0 0 0 0 0 0 0 0 0 0]\n"
     ]
    }
   ],
   "source": [
    "pred=lg.predict(x_test)\n",
    "print(pred)"
   ]
  },
  {
   "cell_type": "code",
   "execution_count": 814,
   "id": "f6335c73",
   "metadata": {},
   "outputs": [
    {
     "name": "stdout",
     "output_type": "stream",
     "text": [
      "accuracy_score: 0.8242074927953891\n"
     ]
    }
   ],
   "source": [
    "print('accuracy_score:',accuracy_score(y_test,pred))"
   ]
  },
  {
   "cell_type": "code",
   "execution_count": 815,
   "id": "6f7d9262",
   "metadata": {},
   "outputs": [
    {
     "name": "stdout",
     "output_type": "stream",
     "text": [
      "[[277   5]\n",
      " [ 56   9]]\n"
     ]
    }
   ],
   "source": [
    "from sklearn.metrics import confusion_matrix,classification_report\n",
    "print(confusion_matrix(y_test,pred))"
   ]
  },
  {
   "cell_type": "code",
   "execution_count": 816,
   "id": "d1a1a15a",
   "metadata": {},
   "outputs": [
    {
     "name": "stdout",
     "output_type": "stream",
     "text": [
      "              precision    recall  f1-score   support\n",
      "\n",
      "           0       0.83      0.98      0.90       282\n",
      "           1       0.64      0.14      0.23        65\n",
      "\n",
      "    accuracy                           0.82       347\n",
      "   macro avg       0.74      0.56      0.56       347\n",
      "weighted avg       0.80      0.82      0.77       347\n",
      "\n"
     ]
    }
   ],
   "source": [
    "print(classification_report(y_test,pred))"
   ]
  },
  {
   "cell_type": "code",
   "execution_count": 817,
   "id": "ad6f8763",
   "metadata": {},
   "outputs": [
    {
     "name": "stdout",
     "output_type": "stream",
     "text": [
      "0.8370646443134302\n"
     ]
    }
   ],
   "source": [
    "print(cross_val_score(lg,x,y,cv=5).mean())"
   ]
  },
  {
   "cell_type": "code",
   "execution_count": 818,
   "id": "fcc06f92",
   "metadata": {
    "scrolled": true
   },
   "outputs": [
    {
     "name": "stdout",
     "output_type": "stream",
     "text": [
      "              precision    recall  f1-score   support\n",
      "\n",
      "           0       0.83      0.99      0.90       282\n",
      "           1       0.75      0.14      0.23        65\n",
      "\n",
      "    accuracy                           0.83       347\n",
      "   macro avg       0.79      0.56      0.57       347\n",
      "weighted avg       0.82      0.83      0.78       347\n",
      "\n",
      "0.8493130405422955\n"
     ]
    }
   ],
   "source": [
    "#Use the Random Forest Classifier\n",
    "from sklearn.ensemble import RandomForestRegressor\n",
    "from sklearn.metrics import classification_report\n",
    "from sklearn.model_selection import cross_val_score\n",
    "\n",
    "RFC = RandomForestClassifier()\n",
    "RFC.fit(x_train,y_train)\n",
    "pred = RFC.predict(x_test)\n",
    "acc=classification_report(y_test,pred)\n",
    "print(acc)\n",
    "\n",
    "print(cross_val_score(rf,x,y,cv=5).mean())"
   ]
  },
  {
   "cell_type": "code",
   "execution_count": 819,
   "id": "f6f3a09c",
   "metadata": {},
   "outputs": [
    {
     "data": {
      "text/plain": [
       "DecisionTreeClassifier(max_depth=5, random_state=0)"
      ]
     },
     "execution_count": 819,
     "metadata": {},
     "output_type": "execute_result"
    }
   ],
   "source": [
    "from sklearn.tree import DecisionTreeRegressor\n",
    "dt = DecisionTreeClassifier(random_state =0, max_depth =5)\n",
    "dt.fit(x_train,y_train)"
   ]
  },
  {
   "cell_type": "code",
   "execution_count": 820,
   "id": "ebb98547",
   "metadata": {},
   "outputs": [
    {
     "data": {
      "text/plain": [
       "0.9096153846153846"
      ]
     },
     "execution_count": 820,
     "metadata": {},
     "output_type": "execute_result"
    }
   ],
   "source": [
    "dt.score(x_train,y_train)"
   ]
  },
  {
   "cell_type": "code",
   "execution_count": 821,
   "id": "29da69da",
   "metadata": {},
   "outputs": [],
   "source": [
    "predictions = dt.predict(x_test)"
   ]
  },
  {
   "cell_type": "code",
   "execution_count": 822,
   "id": "47963442",
   "metadata": {},
   "outputs": [
    {
     "data": {
      "text/plain": [
       "0.8155619596541787"
      ]
     },
     "execution_count": 822,
     "metadata": {},
     "output_type": "execute_result"
    }
   ],
   "source": [
    "from sklearn.metrics import accuracy_score\n",
    "accuracy_score(y_test,predictions)"
   ]
  },
  {
   "cell_type": "code",
   "execution_count": 823,
   "id": "5ace6224",
   "metadata": {},
   "outputs": [
    {
     "name": "stdout",
     "output_type": "stream",
     "text": [
      "0.8219021894397839\n"
     ]
    }
   ],
   "source": [
    "print(cross_val_score(dt,x,y,cv=5).mean())"
   ]
  },
  {
   "cell_type": "code",
   "execution_count": 824,
   "id": "15c8cc0f",
   "metadata": {
    "scrolled": true
   },
   "outputs": [
    {
     "name": "stdout",
     "output_type": "stream",
     "text": [
      "              precision    recall  f1-score   support\n",
      "\n",
      "           0       0.81      1.00      0.90       282\n",
      "           1       0.00      0.00      0.00        65\n",
      "\n",
      "    accuracy                           0.81       347\n",
      "   macro avg       0.41      0.50      0.45       347\n",
      "weighted avg       0.66      0.81      0.73       347\n",
      "\n",
      "0.8348959821312626\n"
     ]
    }
   ],
   "source": [
    "from sklearn.svm import SVC\n",
    "                                    \n",
    "from sklearn.metrics import classification_report\n",
    "SV = SVC()\n",
    "SV.fit(x_train,y_train)\n",
    "pred = SV.predict(x_test)\n",
    "acc=classification_report(y_test,pred)\n",
    "print(acc)\n",
    "\n",
    "print(cross_val_score(SV,x,y,cv=5).mean())"
   ]
  },
  {
   "cell_type": "markdown",
   "id": "97df93da",
   "metadata": {},
   "source": [
    "Best algoritham is RandomForest with accuracy is 83%."
   ]
  },
  {
   "cell_type": "code",
   "execution_count": 825,
   "id": "f7d9f73a",
   "metadata": {},
   "outputs": [],
   "source": [
    "from sklearn.metrics import roc_curve\n",
    "import matplotlib.pyplot as plt\n",
    "\n",
    "from sklearn.metrics import roc_auc_score"
   ]
  },
  {
   "cell_type": "code",
   "execution_count": 826,
   "id": "8a4bfb55",
   "metadata": {},
   "outputs": [],
   "source": [
    "y_pred_prob=RFC.predict_proba(x_test)[:,1]"
   ]
  },
  {
   "cell_type": "code",
   "execution_count": 827,
   "id": "058c69ce",
   "metadata": {},
   "outputs": [
    {
     "data": {
      "text/plain": [
       "array([0.43, 0.06, 0.31, 0.6 , 0.15, 0.24, 0.29, 0.16, 0.16, 0.05, 0.04,\n",
       "       0.08, 0.63, 0.12, 0.04, 0.25, 0.56, 0.12, 0.25, 0.06, 0.13, 0.2 ,\n",
       "       0.17, 0.06, 0.37, 0.3 , 0.17, 0.49, 0.13, 0.07, 0.03, 0.19, 0.34,\n",
       "       0.26, 0.27, 0.11, 0.32, 0.08, 0.09, 0.2 , 0.49, 0.12, 0.35, 0.16,\n",
       "       0.08, 0.19, 0.21, 0.07, 0.12, 0.17, 0.07, 0.1 , 0.3 , 0.08, 0.02,\n",
       "       0.28, 0.03, 0.34, 0.24, 0.16, 0.02, 0.12, 0.09, 0.4 , 0.45, 0.08,\n",
       "       0.15, 0.09, 0.19, 0.22, 0.13, 0.11, 0.42, 0.26, 0.27, 0.1 , 0.21,\n",
       "       0.04, 0.07, 0.21, 0.13, 0.08, 0.2 , 0.07, 0.13, 0.23, 0.02, 0.37,\n",
       "       0.05, 0.27, 0.81, 0.31, 0.33, 0.07, 0.1 , 0.13, 0.23, 0.11, 0.15,\n",
       "       0.12, 0.31, 0.15, 0.05, 0.02, 0.2 , 0.11, 0.05, 0.41, 0.03, 0.14,\n",
       "       0.21, 0.51, 0.06, 0.06, 0.06, 0.12, 0.07, 0.07, 0.13, 0.03, 0.12,\n",
       "       0.18, 0.07, 0.58, 0.05, 0.1 , 0.05, 0.32, 0.05, 0.04, 0.1 , 0.22,\n",
       "       0.19, 0.22, 0.01, 0.25, 0.15, 0.17, 0.1 , 0.02, 0.32, 0.39, 0.07,\n",
       "       0.09, 0.06, 0.06, 0.25, 0.11, 0.04, 0.07, 0.09, 0.01, 0.07, 0.11,\n",
       "       0.22, 0.13, 0.09, 0.28, 0.28, 0.05, 0.05, 0.67, 0.32, 0.17, 0.1 ,\n",
       "       0.2 , 0.1 , 0.06, 0.18, 0.15, 0.32, 0.04, 0.33, 0.06, 0.16, 0.16,\n",
       "       0.01, 0.26, 0.16, 0.01, 0.16, 0.05, 0.16, 0.12, 0.24, 0.12, 0.02,\n",
       "       0.08, 0.03, 0.16, 0.01, 0.19, 0.11, 0.09, 0.29, 0.18, 0.07, 0.25,\n",
       "       0.21, 0.1 , 0.09, 0.04, 0.1 , 0.02, 0.03, 0.05, 0.07, 0.08, 0.06,\n",
       "       0.07, 0.12, 0.06, 0.1 , 0.04, 0.08, 0.2 , 0.12, 0.28, 0.2 , 0.08,\n",
       "       0.06, 0.06, 0.16, 0.22, 0.06, 0.17, 0.04, 0.06, 0.08, 0.05, 0.08,\n",
       "       0.02, 0.25, 0.16, 0.25, 0.06, 0.18, 0.24, 0.07, 0.14, 0.11, 0.07,\n",
       "       0.44, 0.04, 0.22, 0.04, 0.08, 0.14, 0.14, 0.  , 0.21, 0.19, 0.26,\n",
       "       0.12, 0.31, 0.03, 0.31, 0.25, 0.1 , 0.23, 0.09, 0.06, 0.11, 0.09,\n",
       "       0.  , 0.59, 0.12, 0.09, 0.24, 0.06, 0.18, 0.06, 0.21, 0.02, 0.19,\n",
       "       0.12, 0.15, 0.08, 0.59, 0.11, 0.12, 0.28, 0.07, 0.24, 0.22, 0.07,\n",
       "       0.66, 0.05, 0.03, 0.29, 0.17, 0.24, 0.17, 0.15, 0.1 , 0.31, 0.11,\n",
       "       0.1 , 0.1 , 0.04, 0.1 , 0.1 , 0.44, 0.06, 0.24, 0.15, 0.34, 0.13,\n",
       "       0.16, 0.37, 0.22, 0.04, 0.1 , 0.39, 0.13, 0.22, 0.75, 0.42, 0.14,\n",
       "       0.13, 0.07, 0.08, 0.17, 0.05, 0.1 , 0.25, 0.09, 0.05, 0.14, 0.07,\n",
       "       0.08, 0.29, 0.05, 0.08, 0.16, 0.08, 0.62, 0.05, 0.09, 0.25, 0.37,\n",
       "       0.26, 0.04, 0.21, 0.1 , 0.07, 0.49])"
      ]
     },
     "execution_count": 827,
     "metadata": {},
     "output_type": "execute_result"
    }
   ],
   "source": [
    "y_pred_prob"
   ]
  },
  {
   "cell_type": "code",
   "execution_count": 828,
   "id": "bb0cdaa8",
   "metadata": {},
   "outputs": [],
   "source": [
    "fpr,tpr,thresholds=roc_curve(y_test,y_pred_prob)"
   ]
  },
  {
   "cell_type": "code",
   "execution_count": 829,
   "id": "bda3b20a",
   "metadata": {},
   "outputs": [
    {
     "data": {
      "text/plain": [
       "array([0.        , 0.        , 0.        , 0.0035461 , 0.0035461 ,\n",
       "       0.0070922 , 0.0106383 , 0.0106383 , 0.0141844 , 0.0177305 ,\n",
       "       0.0177305 , 0.0177305 , 0.0177305 , 0.0212766 , 0.0212766 ,\n",
       "       0.0248227 , 0.03191489, 0.03546099, 0.04255319, 0.04255319,\n",
       "       0.06028369, 0.07092199, 0.07446809, 0.08510638, 0.09219858,\n",
       "       0.09574468, 0.10992908, 0.13829787, 0.16666667, 0.17375887,\n",
       "       0.19148936, 0.21631206, 0.25886525, 0.27304965, 0.29787234,\n",
       "       0.34397163, 0.36879433, 0.38652482, 0.41843972, 0.47163121,\n",
       "       0.5070922 , 0.57446809, 0.61702128, 0.67730496, 0.75177305,\n",
       "       0.81914894, 0.86879433, 0.91489362, 0.94326241, 0.9751773 ,\n",
       "       0.9929078 , 1.        ])"
      ]
     },
     "execution_count": 829,
     "metadata": {},
     "output_type": "execute_result"
    }
   ],
   "source": [
    "fpr"
   ]
  },
  {
   "cell_type": "code",
   "execution_count": 830,
   "id": "f7c23b97",
   "metadata": {},
   "outputs": [
    {
     "data": {
      "text/plain": [
       "array([0.        , 0.01538462, 0.07692308, 0.07692308, 0.09230769,\n",
       "       0.10769231, 0.10769231, 0.13846154, 0.16923077, 0.16923077,\n",
       "       0.2       , 0.21538462, 0.24615385, 0.24615385, 0.26153846,\n",
       "       0.27692308, 0.30769231, 0.30769231, 0.32307692, 0.35384615,\n",
       "       0.35384615, 0.4       , 0.41538462, 0.43076923, 0.47692308,\n",
       "       0.50769231, 0.52307692, 0.55384615, 0.55384615, 0.56923077,\n",
       "       0.63076923, 0.64615385, 0.67692308, 0.69230769, 0.72307692,\n",
       "       0.73846154, 0.76923077, 0.78461538, 0.81538462, 0.83076923,\n",
       "       0.84615385, 0.86153846, 0.87692308, 0.89230769, 0.90769231,\n",
       "       0.93846154, 0.98461538, 1.        , 1.        , 1.        ,\n",
       "       1.        , 1.        ])"
      ]
     },
     "execution_count": 830,
     "metadata": {},
     "output_type": "execute_result"
    }
   ],
   "source": [
    "tpr"
   ]
  },
  {
   "cell_type": "code",
   "execution_count": 831,
   "id": "4a943e29",
   "metadata": {},
   "outputs": [
    {
     "data": {
      "text/plain": [
       "array([1.81, 0.81, 0.63, 0.62, 0.6 , 0.59, 0.58, 0.51, 0.49, 0.45, 0.44,\n",
       "       0.43, 0.42, 0.41, 0.4 , 0.39, 0.37, 0.35, 0.34, 0.33, 0.32, 0.31,\n",
       "       0.3 , 0.29, 0.28, 0.27, 0.26, 0.25, 0.24, 0.23, 0.22, 0.21, 0.19,\n",
       "       0.18, 0.17, 0.16, 0.15, 0.14, 0.13, 0.12, 0.11, 0.1 , 0.09, 0.08,\n",
       "       0.07, 0.06, 0.05, 0.04, 0.03, 0.02, 0.01, 0.  ])"
      ]
     },
     "execution_count": 831,
     "metadata": {},
     "output_type": "execute_result"
    }
   ],
   "source": [
    "thresholds"
   ]
  },
  {
   "cell_type": "code",
   "execution_count": 832,
   "id": "fabd112d",
   "metadata": {},
   "outputs": [
    {
     "data": {
      "image/png": "[encoded data removed]",
      "text/plain": [
       "<Figure size 432x288 with 1 Axes>"
      ]
     },
     "metadata": {
      "needs_background": "light"
     },
     "output_type": "display_data"
    }
   ],
   "source": [
    "plt.plot([0,1],[0,1],'k--')\n",
    "plt.plot(fpr,tpr,label='Logistic Regression')\n",
    "plt.xlabel('False positive rate')\n",
    "plt.ylabel('True positive rate')\n",
    "plt.title('Logistic Regression ')\n",
    "plt.show()"
   ]
  },
  {
   "cell_type": "code",
   "execution_count": 833,
   "id": "d6a237f4",
   "metadata": {},
   "outputs": [],
   "source": [
    "auc_score=roc_auc_score(y_test,lg.predict(x_test))"
   ]
  },
  {
   "cell_type": "code",
   "execution_count": 834,
   "id": "f399061b",
   "metadata": {},
   "outputs": [
    {
     "name": "stdout",
     "output_type": "stream",
     "text": [
      "0.5603655210038189\n"
     ]
    }
   ],
   "source": [
    "print(auc_score)"
   ]
  },
  {
   "cell_type": "code",
   "execution_count": 835,
   "id": "9051ad6c",
   "metadata": {},
   "outputs": [
    {
     "data": {
      "image/png": "[encoded data removed]",
      "text/plain": [
       "<Figure size 432x288 with 1 Axes>"
      ]
     },
     "metadata": {
      "needs_background": "light"
     },
     "output_type": "display_data"
    }
   ],
   "source": [
    "plt.plot([0,1],[0,1],'k--')\n",
    "plt.plot(fpr,tpr,label='Decision Tree Classifier')\n",
    "plt.xlabel('False positive rate')\n",
    "plt.ylabel('True positive rate')\n",
    "plt.title('Decision Tree Classifier')\n",
    "plt.show()"
   ]
  },
  {
   "cell_type": "markdown",
   "id": "a143aac0",
   "metadata": {},
   "source": [
    "# Hyper Parameter tuning"
   ]
  },
  {
   "cell_type": "code",
   "execution_count": 836,
   "id": "71cec9e0",
   "metadata": {},
   "outputs": [],
   "source": [
    "from sklearn.model_selection import GridSearchCV"
   ]
  },
  {
   "cell_type": "code",
   "execution_count": 837,
   "id": "f8392714",
   "metadata": {},
   "outputs": [],
   "source": [
    "parameter ={'max_depth':np.arange(2,10),\n",
    "           'criterion':['gini','entropy'],\n",
    "           'splitter':['best','random'],\n",
    "           'max_features':['auto','sqrt','log2']}"
   ]
  },
  {
   "cell_type": "code",
   "execution_count": 838,
   "id": "fbc3ac56",
   "metadata": {},
   "outputs": [],
   "source": [
    "GCV=GridSearchCV(DecisionTreeClassifier(),parameter,cv=5)"
   ]
  },
  {
   "cell_type": "code",
   "execution_count": 839,
   "id": "60bb6d58",
   "metadata": {},
   "outputs": [
    {
     "data": {
      "text/plain": [
       "GridSearchCV(cv=5, estimator=DecisionTreeClassifier(),\n",
       "             param_grid={'criterion': ['gini', 'entropy'],\n",
       "                         'max_depth': array([2, 3, 4, 5, 6, 7, 8, 9]),\n",
       "                         'max_features': ['auto', 'sqrt', 'log2'],\n",
       "                         'splitter': ['best', 'random']})"
      ]
     },
     "execution_count": 839,
     "metadata": {},
     "output_type": "execute_result"
    }
   ],
   "source": [
    "GCV.fit(x_train,y_train)"
   ]
  },
  {
   "cell_type": "code",
   "execution_count": 840,
   "id": "a93584b8",
   "metadata": {},
   "outputs": [
    {
     "data": {
      "text/plain": [
       "{'criterion': 'entropy',\n",
       " 'max_depth': 3,\n",
       " 'max_features': 'log2',\n",
       " 'splitter': 'random'}"
      ]
     },
     "execution_count": 840,
     "metadata": {},
     "output_type": "execute_result"
    }
   ],
   "source": [
    "GCV.best_params_"
   ]
  },
  {
   "cell_type": "code",
   "execution_count": null,
   "id": "8b776c71",
   "metadata": {},
   "outputs": [],
   "source": []
  },
  {
   "cell_type": "code",
   "execution_count": 841,
   "id": "ce1f8680",
   "metadata": {},
   "outputs": [],
   "source": [
    "import pickle\n",
    "filename ='HR Analytics.pkl'\n",
    "pickle.dump(RFC,open(filename,'wb'))"
   ]
  },
  {
   "cell_type": "code",
   "execution_count": 843,
   "id": "041cf380",
   "metadata": {},
   "outputs": [
    {
     "name": "stdout",
     "output_type": "stream",
     "text": [
      "0.829971181556196\n"
     ]
    }
   ],
   "source": [
    "loaded_model = pickle.load(open('HR Analytics.pkl','rb'))\n",
    "result = loaded_model.score(x_test,y_test)\n",
    "print(result)"
   ]
  },
  {
   "cell_type": "markdown",
   "id": "428308d2",
   "metadata": {},
   "source": [
    "The Accuracy is good."
   ]
  },
  {
   "cell_type": "code",
   "execution_count": null,
   "id": "fd138afc",
   "metadata": {},
   "outputs": [],
   "source": []
  }
 ],
 "metadata": {
  "kernelspec": {
   "display_name": "Python 3",
   "language": "python",
   "name": "python3"
  },
  "language_info": {
   "codemirror_mode": {
    "name": "ipython",
    "version": 3
   },
   "file_extension": ".py",
   "mimetype": "text/x-python",
   "name": "python",
   "nbconvert_exporter": "python",
   "pygments_lexer": "ipython3",
   "version": "3.8.8"
  }
 },
 "nbformat": 4,
 "nbformat_minor": 5
}
